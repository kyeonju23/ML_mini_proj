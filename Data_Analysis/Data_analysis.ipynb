{
 "cells": [
  {
   "cell_type": "markdown",
   "id": "ba69faf4",
   "metadata": {},
   "source": [
    "# 데이터분석기초 텀프로젝트\n",
    "### Project 1"
   ]
  },
  {
   "cell_type": "markdown",
   "id": "a58e6f8b",
   "metadata": {},
   "source": [
    "1. csv 파일을 Pandas DataFrame으로 받고, 수집 기간동안의 평균 소모 칼로리, 평균 이동거리, 평균 step수를 출력해 보세요.\n",
    "2. x축은 date, y축은 calories로 꺾은선 그래프를 그려 보세요.\n",
    "3. 이동한 거리(distance)와 소모된 칼로리(calories)와의 관계를 알아보고자 합니다. x축은 distance, y축은 calories로 scatter plotting해 보세요.\n",
    "4. 요일 별로 소모 칼로리, 이동거리, 평균 steps 수를 분석해 보고 나름대로의 결론을 내려보세요."
   ]
  },
  {
   "cell_type": "markdown",
   "id": "5898c358",
   "metadata": {},
   "source": [
    "#### Read Fitbit_data.csv "
   ]
  },
  {
   "cell_type": "code",
   "execution_count": 1,
   "id": "684e7104",
   "metadata": {
    "scrolled": true
   },
   "outputs": [
    {
     "name": "stdout",
     "output_type": "stream",
     "text": [
      "<class 'pandas.core.frame.DataFrame'>\n",
      "RangeIndex: 167 entries, 0 to 166\n",
      "Data columns (total 4 columns):\n",
      " #   Column     Non-Null Count  Dtype  \n",
      "---  ------     --------------  -----  \n",
      " 0   date       167 non-null    object \n",
      " 1   calories   167 non-null    float64\n",
      " 2   distances  167 non-null    float64\n",
      " 3   steps      167 non-null    int64  \n",
      "dtypes: float64(2), int64(1), object(1)\n",
      "memory usage: 5.3+ KB\n"
     ]
    }
   ],
   "source": [
    "import numpy as np\n",
    "import pandas as pd\n",
    "import matplotlib.pyplot as plt\n",
    "\n",
    "df = pd.read_csv(\"csv_files/fitbit_data.csv\")\n",
    "\n",
    "df.info()"
   ]
  },
  {
   "cell_type": "code",
   "execution_count": 2,
   "id": "7d4d618b",
   "metadata": {},
   "outputs": [],
   "source": [
    "df = pd.DataFrame(df)"
   ]
  },
  {
   "cell_type": "code",
   "execution_count": 3,
   "id": "6d0a2197",
   "metadata": {},
   "outputs": [
    {
     "data": {
      "text/plain": [
       "(167, 4)"
      ]
     },
     "execution_count": 3,
     "metadata": {},
     "output_type": "execute_result"
    }
   ],
   "source": [
    "df.shape"
   ]
  },
  {
   "cell_type": "code",
   "execution_count": 4,
   "id": "0e266628",
   "metadata": {},
   "outputs": [
    {
     "data": {
      "text/html": [
       "<div>\n",
       "<style scoped>\n",
       "    .dataframe tbody tr th:only-of-type {\n",
       "        vertical-align: middle;\n",
       "    }\n",
       "\n",
       "    .dataframe tbody tr th {\n",
       "        vertical-align: top;\n",
       "    }\n",
       "\n",
       "    .dataframe thead th {\n",
       "        text-align: right;\n",
       "    }\n",
       "</style>\n",
       "<table border=\"1\" class=\"dataframe\">\n",
       "  <thead>\n",
       "    <tr style=\"text-align: right;\">\n",
       "      <th></th>\n",
       "      <th>calories</th>\n",
       "      <th>distances</th>\n",
       "      <th>steps</th>\n",
       "    </tr>\n",
       "  </thead>\n",
       "  <tbody>\n",
       "    <tr>\n",
       "      <th>count</th>\n",
       "      <td>167.000000</td>\n",
       "      <td>167.000000</td>\n",
       "      <td>167.000000</td>\n",
       "    </tr>\n",
       "    <tr>\n",
       "      <th>mean</th>\n",
       "      <td>1828.557846</td>\n",
       "      <td>2.831138</td>\n",
       "      <td>3942.784431</td>\n",
       "    </tr>\n",
       "    <tr>\n",
       "      <th>std</th>\n",
       "      <td>432.794178</td>\n",
       "      <td>3.029683</td>\n",
       "      <td>4222.034919</td>\n",
       "    </tr>\n",
       "    <tr>\n",
       "      <th>min</th>\n",
       "      <td>319.720000</td>\n",
       "      <td>0.000000</td>\n",
       "      <td>0.000000</td>\n",
       "    </tr>\n",
       "    <tr>\n",
       "      <th>25%</th>\n",
       "      <td>1527.600000</td>\n",
       "      <td>0.000000</td>\n",
       "      <td>0.000000</td>\n",
       "    </tr>\n",
       "    <tr>\n",
       "      <th>50%</th>\n",
       "      <td>1751.850000</td>\n",
       "      <td>2.020000</td>\n",
       "      <td>2828.000000</td>\n",
       "    </tr>\n",
       "    <tr>\n",
       "      <th>75%</th>\n",
       "      <td>2094.385000</td>\n",
       "      <td>5.040000</td>\n",
       "      <td>7035.500000</td>\n",
       "    </tr>\n",
       "    <tr>\n",
       "      <th>max</th>\n",
       "      <td>3552.730000</td>\n",
       "      <td>13.790000</td>\n",
       "      <td>19259.000000</td>\n",
       "    </tr>\n",
       "  </tbody>\n",
       "</table>\n",
       "</div>"
      ],
      "text/plain": [
       "          calories   distances         steps\n",
       "count   167.000000  167.000000    167.000000\n",
       "mean   1828.557846    2.831138   3942.784431\n",
       "std     432.794178    3.029683   4222.034919\n",
       "min     319.720000    0.000000      0.000000\n",
       "25%    1527.600000    0.000000      0.000000\n",
       "50%    1751.850000    2.020000   2828.000000\n",
       "75%    2094.385000    5.040000   7035.500000\n",
       "max    3552.730000   13.790000  19259.000000"
      ]
     },
     "execution_count": 4,
     "metadata": {},
     "output_type": "execute_result"
    }
   ],
   "source": [
    "df.describe()"
   ]
  },
  {
   "cell_type": "markdown",
   "id": "9dec99e3",
   "metadata": {},
   "source": [
    "#### fitbit_data.csv 파일은 ['data', 'calories','distances','steps']를 가지고 있으며 167개의 행과 4개의 열로 존재한다."
   ]
  },
  {
   "cell_type": "markdown",
   "id": "0dbc5ca0",
   "metadata": {},
   "source": [
    "#### 결측치가 존재하지 않는다."
   ]
  },
  {
   "cell_type": "code",
   "execution_count": 5,
   "id": "f98eea71",
   "metadata": {
    "scrolled": true
   },
   "outputs": [
    {
     "data": {
      "text/plain": [
       "date         0\n",
       "calories     0\n",
       "distances    0\n",
       "steps        0\n",
       "dtype: int64"
      ]
     },
     "execution_count": 5,
     "metadata": {},
     "output_type": "execute_result"
    }
   ],
   "source": [
    "df.isnull().sum()"
   ]
  },
  {
   "cell_type": "code",
   "execution_count": 6,
   "id": "a5c7ff65",
   "metadata": {},
   "outputs": [
    {
     "data": {
      "text/html": [
       "<div>\n",
       "<style scoped>\n",
       "    .dataframe tbody tr th:only-of-type {\n",
       "        vertical-align: middle;\n",
       "    }\n",
       "\n",
       "    .dataframe tbody tr th {\n",
       "        vertical-align: top;\n",
       "    }\n",
       "\n",
       "    .dataframe thead th {\n",
       "        text-align: right;\n",
       "    }\n",
       "</style>\n",
       "<table border=\"1\" class=\"dataframe\">\n",
       "  <thead>\n",
       "    <tr style=\"text-align: right;\">\n",
       "      <th></th>\n",
       "      <th>calories</th>\n",
       "      <th>distances</th>\n",
       "      <th>steps</th>\n",
       "    </tr>\n",
       "  </thead>\n",
       "  <tbody>\n",
       "    <tr>\n",
       "      <th>calories</th>\n",
       "      <td>1.000000</td>\n",
       "      <td>0.913822</td>\n",
       "      <td>0.913989</td>\n",
       "    </tr>\n",
       "    <tr>\n",
       "      <th>distances</th>\n",
       "      <td>0.913822</td>\n",
       "      <td>1.000000</td>\n",
       "      <td>0.999781</td>\n",
       "    </tr>\n",
       "    <tr>\n",
       "      <th>steps</th>\n",
       "      <td>0.913989</td>\n",
       "      <td>0.999781</td>\n",
       "      <td>1.000000</td>\n",
       "    </tr>\n",
       "  </tbody>\n",
       "</table>\n",
       "</div>"
      ],
      "text/plain": [
       "           calories  distances     steps\n",
       "calories   1.000000   0.913822  0.913989\n",
       "distances  0.913822   1.000000  0.999781\n",
       "steps      0.913989   0.999781  1.000000"
      ]
     },
     "execution_count": 6,
     "metadata": {},
     "output_type": "execute_result"
    }
   ],
   "source": [
    "df.corr() #표준상관계수"
   ]
  },
  {
   "cell_type": "code",
   "execution_count": 7,
   "id": "409a7995",
   "metadata": {
    "scrolled": true
   },
   "outputs": [
    {
     "data": {
      "text/html": [
       "<div>\n",
       "<style scoped>\n",
       "    .dataframe tbody tr th:only-of-type {\n",
       "        vertical-align: middle;\n",
       "    }\n",
       "\n",
       "    .dataframe tbody tr th {\n",
       "        vertical-align: top;\n",
       "    }\n",
       "\n",
       "    .dataframe thead th {\n",
       "        text-align: right;\n",
       "    }\n",
       "</style>\n",
       "<table border=\"1\" class=\"dataframe\">\n",
       "  <thead>\n",
       "    <tr style=\"text-align: right;\">\n",
       "      <th></th>\n",
       "      <th>date</th>\n",
       "      <th>calories</th>\n",
       "      <th>distances</th>\n",
       "      <th>steps</th>\n",
       "    </tr>\n",
       "  </thead>\n",
       "  <tbody>\n",
       "    <tr>\n",
       "      <th>0</th>\n",
       "      <td>2021.4.7</td>\n",
       "      <td>1744.27</td>\n",
       "      <td>7.300000</td>\n",
       "      <td>10174</td>\n",
       "    </tr>\n",
       "    <tr>\n",
       "      <th>1</th>\n",
       "      <td>2021.4.8</td>\n",
       "      <td>1865.11</td>\n",
       "      <td>3.460000</td>\n",
       "      <td>4829</td>\n",
       "    </tr>\n",
       "    <tr>\n",
       "      <th>2</th>\n",
       "      <td>2021.4.9</td>\n",
       "      <td>2406.20</td>\n",
       "      <td>5.920000</td>\n",
       "      <td>8262</td>\n",
       "    </tr>\n",
       "    <tr>\n",
       "      <th>3</th>\n",
       "      <td>2021.4.10</td>\n",
       "      <td>2384.56</td>\n",
       "      <td>6.350000</td>\n",
       "      <td>8864</td>\n",
       "    </tr>\n",
       "    <tr>\n",
       "      <th>4</th>\n",
       "      <td>2021.4.11</td>\n",
       "      <td>2456.50</td>\n",
       "      <td>6.059999</td>\n",
       "      <td>8467</td>\n",
       "    </tr>\n",
       "    <tr>\n",
       "      <th>...</th>\n",
       "      <td>...</td>\n",
       "      <td>...</td>\n",
       "      <td>...</td>\n",
       "      <td>...</td>\n",
       "    </tr>\n",
       "    <tr>\n",
       "      <th>162</th>\n",
       "      <td>2021.11.10</td>\n",
       "      <td>2498.06</td>\n",
       "      <td>5.660000</td>\n",
       "      <td>7912</td>\n",
       "    </tr>\n",
       "    <tr>\n",
       "      <th>163</th>\n",
       "      <td>2021.11.11</td>\n",
       "      <td>2732.86</td>\n",
       "      <td>9.000000</td>\n",
       "      <td>12536</td>\n",
       "    </tr>\n",
       "    <tr>\n",
       "      <th>164</th>\n",
       "      <td>2021.11.12</td>\n",
       "      <td>2774.22</td>\n",
       "      <td>6.450000</td>\n",
       "      <td>8985</td>\n",
       "    </tr>\n",
       "    <tr>\n",
       "      <th>165</th>\n",
       "      <td>2021.11.13</td>\n",
       "      <td>2954.84</td>\n",
       "      <td>7.710000</td>\n",
       "      <td>10621</td>\n",
       "    </tr>\n",
       "    <tr>\n",
       "      <th>166</th>\n",
       "      <td>2021.11.14</td>\n",
       "      <td>1464.48</td>\n",
       "      <td>0.000000</td>\n",
       "      <td>0</td>\n",
       "    </tr>\n",
       "  </tbody>\n",
       "</table>\n",
       "<p>167 rows × 4 columns</p>\n",
       "</div>"
      ],
      "text/plain": [
       "           date  calories  distances  steps\n",
       "0      2021.4.7   1744.27   7.300000  10174\n",
       "1      2021.4.8   1865.11   3.460000   4829\n",
       "2      2021.4.9   2406.20   5.920000   8262\n",
       "3     2021.4.10   2384.56   6.350000   8864\n",
       "4     2021.4.11   2456.50   6.059999   8467\n",
       "..          ...       ...        ...    ...\n",
       "162  2021.11.10   2498.06   5.660000   7912\n",
       "163  2021.11.11   2732.86   9.000000  12536\n",
       "164  2021.11.12   2774.22   6.450000   8985\n",
       "165  2021.11.13   2954.84   7.710000  10621\n",
       "166  2021.11.14   1464.48   0.000000      0\n",
       "\n",
       "[167 rows x 4 columns]"
      ]
     },
     "execution_count": 7,
     "metadata": {},
     "output_type": "execute_result"
    }
   ],
   "source": [
    "df1 = df.copy()\n",
    "df1"
   ]
  },
  {
   "cell_type": "markdown",
   "id": "097a2f2c",
   "metadata": {},
   "source": [
    "#### distances와 steps에서 0값이 많아 평균을 냈을 때 좋은 값이 나오지 않았다.  "
   ]
  },
  {
   "cell_type": "code",
   "execution_count": 8,
   "id": "54ebb42c",
   "metadata": {
    "scrolled": false
   },
   "outputs": [
    {
     "data": {
      "text/plain": [
       "calories     1828.557846\n",
       "distances       2.831138\n",
       "steps        3942.784431\n",
       "dtype: float64"
      ]
     },
     "execution_count": 8,
     "metadata": {},
     "output_type": "execute_result"
    }
   ],
   "source": [
    "df.mean()"
   ]
  },
  {
   "cell_type": "markdown",
   "id": "d910e2d7",
   "metadata": {},
   "source": [
    "### distances가 0 일 때의 행을 지웠다"
   ]
  },
  {
   "cell_type": "code",
   "execution_count": 9,
   "id": "c078335c",
   "metadata": {},
   "outputs": [
    {
     "data": {
      "text/plain": [
       "Int64Index([ 29,  31,  39,  40,  43,  44,  49,  53,  54,  55,  56,  57,  58,\n",
       "             59,  60,  61,  62,  63,  64,  65,  66,  67,  68,  69,  70,  71,\n",
       "             72,  73,  74,  75,  76,  77,  78,  79,  80,  81,  82,  87,  88,\n",
       "             91, 116, 117, 122, 123, 135, 136, 137, 138, 139, 140, 141, 145,\n",
       "            146, 147, 148, 149, 150, 151, 152, 159, 166],\n",
       "           dtype='int64')"
      ]
     },
     "execution_count": 9,
     "metadata": {},
     "output_type": "execute_result"
    }
   ],
   "source": [
    "df2 = df1[df1['distances']==0].index\n",
    "df2"
   ]
  },
  {
   "cell_type": "code",
   "execution_count": 10,
   "id": "9297a7f3",
   "metadata": {},
   "outputs": [
    {
     "data": {
      "text/plain": [
       "(61,)"
      ]
     },
     "execution_count": 10,
     "metadata": {},
     "output_type": "execute_result"
    }
   ],
   "source": [
    "df2.shape"
   ]
  },
  {
   "cell_type": "code",
   "execution_count": 11,
   "id": "96fec504",
   "metadata": {
    "scrolled": false
   },
   "outputs": [
    {
     "data": {
      "text/html": [
       "<div>\n",
       "<style scoped>\n",
       "    .dataframe tbody tr th:only-of-type {\n",
       "        vertical-align: middle;\n",
       "    }\n",
       "\n",
       "    .dataframe tbody tr th {\n",
       "        vertical-align: top;\n",
       "    }\n",
       "\n",
       "    .dataframe thead th {\n",
       "        text-align: right;\n",
       "    }\n",
       "</style>\n",
       "<table border=\"1\" class=\"dataframe\">\n",
       "  <thead>\n",
       "    <tr style=\"text-align: right;\">\n",
       "      <th></th>\n",
       "      <th>date</th>\n",
       "      <th>calories</th>\n",
       "      <th>distances</th>\n",
       "      <th>steps</th>\n",
       "    </tr>\n",
       "  </thead>\n",
       "  <tbody>\n",
       "    <tr>\n",
       "      <th>0</th>\n",
       "      <td>2021.4.7</td>\n",
       "      <td>1744.27</td>\n",
       "      <td>7.300000</td>\n",
       "      <td>10174</td>\n",
       "    </tr>\n",
       "    <tr>\n",
       "      <th>1</th>\n",
       "      <td>2021.4.8</td>\n",
       "      <td>1865.11</td>\n",
       "      <td>3.460000</td>\n",
       "      <td>4829</td>\n",
       "    </tr>\n",
       "    <tr>\n",
       "      <th>2</th>\n",
       "      <td>2021.4.9</td>\n",
       "      <td>2406.20</td>\n",
       "      <td>5.920000</td>\n",
       "      <td>8262</td>\n",
       "    </tr>\n",
       "    <tr>\n",
       "      <th>3</th>\n",
       "      <td>2021.4.10</td>\n",
       "      <td>2384.56</td>\n",
       "      <td>6.350000</td>\n",
       "      <td>8864</td>\n",
       "    </tr>\n",
       "    <tr>\n",
       "      <th>4</th>\n",
       "      <td>2021.4.11</td>\n",
       "      <td>2456.50</td>\n",
       "      <td>6.059999</td>\n",
       "      <td>8467</td>\n",
       "    </tr>\n",
       "    <tr>\n",
       "      <th>...</th>\n",
       "      <td>...</td>\n",
       "      <td>...</td>\n",
       "      <td>...</td>\n",
       "      <td>...</td>\n",
       "    </tr>\n",
       "    <tr>\n",
       "      <th>161</th>\n",
       "      <td>2021.11.9</td>\n",
       "      <td>1726.78</td>\n",
       "      <td>1.050000</td>\n",
       "      <td>1462</td>\n",
       "    </tr>\n",
       "    <tr>\n",
       "      <th>162</th>\n",
       "      <td>2021.11.10</td>\n",
       "      <td>2498.06</td>\n",
       "      <td>5.660000</td>\n",
       "      <td>7912</td>\n",
       "    </tr>\n",
       "    <tr>\n",
       "      <th>163</th>\n",
       "      <td>2021.11.11</td>\n",
       "      <td>2732.86</td>\n",
       "      <td>9.000000</td>\n",
       "      <td>12536</td>\n",
       "    </tr>\n",
       "    <tr>\n",
       "      <th>164</th>\n",
       "      <td>2021.11.12</td>\n",
       "      <td>2774.22</td>\n",
       "      <td>6.450000</td>\n",
       "      <td>8985</td>\n",
       "    </tr>\n",
       "    <tr>\n",
       "      <th>165</th>\n",
       "      <td>2021.11.13</td>\n",
       "      <td>2954.84</td>\n",
       "      <td>7.710000</td>\n",
       "      <td>10621</td>\n",
       "    </tr>\n",
       "  </tbody>\n",
       "</table>\n",
       "<p>106 rows × 4 columns</p>\n",
       "</div>"
      ],
      "text/plain": [
       "           date  calories  distances  steps\n",
       "0      2021.4.7   1744.27   7.300000  10174\n",
       "1      2021.4.8   1865.11   3.460000   4829\n",
       "2      2021.4.9   2406.20   5.920000   8262\n",
       "3     2021.4.10   2384.56   6.350000   8864\n",
       "4     2021.4.11   2456.50   6.059999   8467\n",
       "..          ...       ...        ...    ...\n",
       "161   2021.11.9   1726.78   1.050000   1462\n",
       "162  2021.11.10   2498.06   5.660000   7912\n",
       "163  2021.11.11   2732.86   9.000000  12536\n",
       "164  2021.11.12   2774.22   6.450000   8985\n",
       "165  2021.11.13   2954.84   7.710000  10621\n",
       "\n",
       "[106 rows x 4 columns]"
      ]
     },
     "execution_count": 11,
     "metadata": {},
     "output_type": "execute_result"
    }
   ],
   "source": [
    "df3 = df1.drop(df2)\n",
    "df3"
   ]
  },
  {
   "cell_type": "code",
   "execution_count": 12,
   "id": "9911cc0c",
   "metadata": {},
   "outputs": [
    {
     "data": {
      "text/html": [
       "<div>\n",
       "<style scoped>\n",
       "    .dataframe tbody tr th:only-of-type {\n",
       "        vertical-align: middle;\n",
       "    }\n",
       "\n",
       "    .dataframe tbody tr th {\n",
       "        vertical-align: top;\n",
       "    }\n",
       "\n",
       "    .dataframe thead th {\n",
       "        text-align: right;\n",
       "    }\n",
       "</style>\n",
       "<table border=\"1\" class=\"dataframe\">\n",
       "  <thead>\n",
       "    <tr style=\"text-align: right;\">\n",
       "      <th></th>\n",
       "      <th>date</th>\n",
       "      <th>calories</th>\n",
       "      <th>distances</th>\n",
       "      <th>steps</th>\n",
       "    </tr>\n",
       "  </thead>\n",
       "  <tbody>\n",
       "    <tr>\n",
       "      <th>0</th>\n",
       "      <td>2021.4.7</td>\n",
       "      <td>1744.27</td>\n",
       "      <td>7.300000</td>\n",
       "      <td>10174</td>\n",
       "    </tr>\n",
       "    <tr>\n",
       "      <th>1</th>\n",
       "      <td>2021.4.8</td>\n",
       "      <td>1865.11</td>\n",
       "      <td>3.460000</td>\n",
       "      <td>4829</td>\n",
       "    </tr>\n",
       "    <tr>\n",
       "      <th>2</th>\n",
       "      <td>2021.4.9</td>\n",
       "      <td>2406.20</td>\n",
       "      <td>5.920000</td>\n",
       "      <td>8262</td>\n",
       "    </tr>\n",
       "    <tr>\n",
       "      <th>3</th>\n",
       "      <td>2021.4.10</td>\n",
       "      <td>2384.56</td>\n",
       "      <td>6.350000</td>\n",
       "      <td>8864</td>\n",
       "    </tr>\n",
       "    <tr>\n",
       "      <th>4</th>\n",
       "      <td>2021.4.11</td>\n",
       "      <td>2456.50</td>\n",
       "      <td>6.059999</td>\n",
       "      <td>8467</td>\n",
       "    </tr>\n",
       "    <tr>\n",
       "      <th>...</th>\n",
       "      <td>...</td>\n",
       "      <td>...</td>\n",
       "      <td>...</td>\n",
       "      <td>...</td>\n",
       "    </tr>\n",
       "    <tr>\n",
       "      <th>101</th>\n",
       "      <td>2021.11.9</td>\n",
       "      <td>1726.78</td>\n",
       "      <td>1.050000</td>\n",
       "      <td>1462</td>\n",
       "    </tr>\n",
       "    <tr>\n",
       "      <th>102</th>\n",
       "      <td>2021.11.10</td>\n",
       "      <td>2498.06</td>\n",
       "      <td>5.660000</td>\n",
       "      <td>7912</td>\n",
       "    </tr>\n",
       "    <tr>\n",
       "      <th>103</th>\n",
       "      <td>2021.11.11</td>\n",
       "      <td>2732.86</td>\n",
       "      <td>9.000000</td>\n",
       "      <td>12536</td>\n",
       "    </tr>\n",
       "    <tr>\n",
       "      <th>104</th>\n",
       "      <td>2021.11.12</td>\n",
       "      <td>2774.22</td>\n",
       "      <td>6.450000</td>\n",
       "      <td>8985</td>\n",
       "    </tr>\n",
       "    <tr>\n",
       "      <th>105</th>\n",
       "      <td>2021.11.13</td>\n",
       "      <td>2954.84</td>\n",
       "      <td>7.710000</td>\n",
       "      <td>10621</td>\n",
       "    </tr>\n",
       "  </tbody>\n",
       "</table>\n",
       "<p>106 rows × 4 columns</p>\n",
       "</div>"
      ],
      "text/plain": [
       "           date  calories  distances  steps\n",
       "0      2021.4.7   1744.27   7.300000  10174\n",
       "1      2021.4.8   1865.11   3.460000   4829\n",
       "2      2021.4.9   2406.20   5.920000   8262\n",
       "3     2021.4.10   2384.56   6.350000   8864\n",
       "4     2021.4.11   2456.50   6.059999   8467\n",
       "..          ...       ...        ...    ...\n",
       "101   2021.11.9   1726.78   1.050000   1462\n",
       "102  2021.11.10   2498.06   5.660000   7912\n",
       "103  2021.11.11   2732.86   9.000000  12536\n",
       "104  2021.11.12   2774.22   6.450000   8985\n",
       "105  2021.11.13   2954.84   7.710000  10621\n",
       "\n",
       "[106 rows x 4 columns]"
      ]
     },
     "execution_count": 12,
     "metadata": {},
     "output_type": "execute_result"
    }
   ],
   "source": [
    "df3 = df3.reset_index(drop=True)\n",
    "df3"
   ]
  },
  {
   "cell_type": "code",
   "execution_count": 13,
   "id": "8d0a7874",
   "metadata": {},
   "outputs": [
    {
     "data": {
      "text/html": [
       "<div>\n",
       "<style scoped>\n",
       "    .dataframe tbody tr th:only-of-type {\n",
       "        vertical-align: middle;\n",
       "    }\n",
       "\n",
       "    .dataframe tbody tr th {\n",
       "        vertical-align: top;\n",
       "    }\n",
       "\n",
       "    .dataframe thead th {\n",
       "        text-align: right;\n",
       "    }\n",
       "</style>\n",
       "<table border=\"1\" class=\"dataframe\">\n",
       "  <thead>\n",
       "    <tr style=\"text-align: right;\">\n",
       "      <th></th>\n",
       "      <th>date</th>\n",
       "      <th>calories</th>\n",
       "      <th>distances</th>\n",
       "      <th>steps</th>\n",
       "    </tr>\n",
       "  </thead>\n",
       "  <tbody>\n",
       "    <tr>\n",
       "      <th>0</th>\n",
       "      <td>2021.4.7</td>\n",
       "      <td>1744.27</td>\n",
       "      <td>7.300000</td>\n",
       "      <td>10174</td>\n",
       "    </tr>\n",
       "    <tr>\n",
       "      <th>1</th>\n",
       "      <td>2021.4.8</td>\n",
       "      <td>1865.11</td>\n",
       "      <td>3.460000</td>\n",
       "      <td>4829</td>\n",
       "    </tr>\n",
       "    <tr>\n",
       "      <th>2</th>\n",
       "      <td>2021.4.9</td>\n",
       "      <td>2406.20</td>\n",
       "      <td>5.920000</td>\n",
       "      <td>8262</td>\n",
       "    </tr>\n",
       "    <tr>\n",
       "      <th>3</th>\n",
       "      <td>2021.4.10</td>\n",
       "      <td>2384.56</td>\n",
       "      <td>6.350000</td>\n",
       "      <td>8864</td>\n",
       "    </tr>\n",
       "    <tr>\n",
       "      <th>4</th>\n",
       "      <td>2021.4.11</td>\n",
       "      <td>2456.50</td>\n",
       "      <td>6.059999</td>\n",
       "      <td>8467</td>\n",
       "    </tr>\n",
       "    <tr>\n",
       "      <th>...</th>\n",
       "      <td>...</td>\n",
       "      <td>...</td>\n",
       "      <td>...</td>\n",
       "      <td>...</td>\n",
       "    </tr>\n",
       "    <tr>\n",
       "      <th>101</th>\n",
       "      <td>2021.11.9</td>\n",
       "      <td>1726.78</td>\n",
       "      <td>1.050000</td>\n",
       "      <td>1462</td>\n",
       "    </tr>\n",
       "    <tr>\n",
       "      <th>102</th>\n",
       "      <td>2021.11.10</td>\n",
       "      <td>2498.06</td>\n",
       "      <td>5.660000</td>\n",
       "      <td>7912</td>\n",
       "    </tr>\n",
       "    <tr>\n",
       "      <th>103</th>\n",
       "      <td>2021.11.11</td>\n",
       "      <td>2732.86</td>\n",
       "      <td>9.000000</td>\n",
       "      <td>12536</td>\n",
       "    </tr>\n",
       "    <tr>\n",
       "      <th>104</th>\n",
       "      <td>2021.11.12</td>\n",
       "      <td>2774.22</td>\n",
       "      <td>6.450000</td>\n",
       "      <td>8985</td>\n",
       "    </tr>\n",
       "    <tr>\n",
       "      <th>105</th>\n",
       "      <td>2021.11.13</td>\n",
       "      <td>2954.84</td>\n",
       "      <td>7.710000</td>\n",
       "      <td>10621</td>\n",
       "    </tr>\n",
       "  </tbody>\n",
       "</table>\n",
       "<p>106 rows × 4 columns</p>\n",
       "</div>"
      ],
      "text/plain": [
       "           date  calories  distances  steps\n",
       "0      2021.4.7   1744.27   7.300000  10174\n",
       "1      2021.4.8   1865.11   3.460000   4829\n",
       "2      2021.4.9   2406.20   5.920000   8262\n",
       "3     2021.4.10   2384.56   6.350000   8864\n",
       "4     2021.4.11   2456.50   6.059999   8467\n",
       "..          ...       ...        ...    ...\n",
       "101   2021.11.9   1726.78   1.050000   1462\n",
       "102  2021.11.10   2498.06   5.660000   7912\n",
       "103  2021.11.11   2732.86   9.000000  12536\n",
       "104  2021.11.12   2774.22   6.450000   8985\n",
       "105  2021.11.13   2954.84   7.710000  10621\n",
       "\n",
       "[106 rows x 4 columns]"
      ]
     },
     "execution_count": 13,
     "metadata": {},
     "output_type": "execute_result"
    }
   ],
   "source": [
    "df3 = df1.drop(df2)\n",
    "df3 = df3.reset_index(drop=True)\n",
    "df3"
   ]
  },
  {
   "cell_type": "markdown",
   "id": "07aa163e",
   "metadata": {},
   "source": [
    "### distances가 0일때의 행을 지웠더니 106행 4열이 되었다."
   ]
  },
  {
   "cell_type": "code",
   "execution_count": 14,
   "id": "2a129e4d",
   "metadata": {
    "scrolled": false
   },
   "outputs": [
    {
     "data": {
      "text/plain": [
       "13.79"
      ]
     },
     "execution_count": 14,
     "metadata": {},
     "output_type": "execute_result"
    }
   ],
   "source": [
    "df3['distances'].max()"
   ]
  },
  {
   "cell_type": "code",
   "execution_count": 15,
   "id": "1169be9f",
   "metadata": {},
   "outputs": [
    {
     "data": {
      "text/plain": [
       "0.01"
      ]
     },
     "execution_count": 15,
     "metadata": {},
     "output_type": "execute_result"
    }
   ],
   "source": [
    "df3['distances'].min()"
   ]
  },
  {
   "cell_type": "code",
   "execution_count": 16,
   "id": "deb0d502",
   "metadata": {},
   "outputs": [
    {
     "data": {
      "text/plain": [
       "calories     1828.557846\n",
       "distances       2.831138\n",
       "steps        3942.784431\n",
       "dtype: float64"
      ]
     },
     "execution_count": 16,
     "metadata": {},
     "output_type": "execute_result"
    }
   ],
   "source": [
    "df.mean()"
   ]
  },
  {
   "cell_type": "code",
   "execution_count": 17,
   "id": "770b51e7",
   "metadata": {
    "scrolled": true
   },
   "outputs": [
    {
     "data": {
      "text/plain": [
       "calories     2046.708398\n",
       "distances       4.460377\n",
       "steps        6211.613208\n",
       "dtype: float64"
      ]
     },
     "execution_count": 17,
     "metadata": {},
     "output_type": "execute_result"
    }
   ],
   "source": [
    "df3.mean()"
   ]
  },
  {
   "cell_type": "code",
   "execution_count": 18,
   "id": "d9301716",
   "metadata": {
    "scrolled": true
   },
   "outputs": [
    {
     "data": {
      "text/html": [
       "<div>\n",
       "<style scoped>\n",
       "    .dataframe tbody tr th:only-of-type {\n",
       "        vertical-align: middle;\n",
       "    }\n",
       "\n",
       "    .dataframe tbody tr th {\n",
       "        vertical-align: top;\n",
       "    }\n",
       "\n",
       "    .dataframe thead th {\n",
       "        text-align: right;\n",
       "    }\n",
       "</style>\n",
       "<table border=\"1\" class=\"dataframe\">\n",
       "  <thead>\n",
       "    <tr style=\"text-align: right;\">\n",
       "      <th></th>\n",
       "      <th>calories</th>\n",
       "      <th>distances</th>\n",
       "      <th>steps</th>\n",
       "    </tr>\n",
       "  </thead>\n",
       "  <tbody>\n",
       "    <tr>\n",
       "      <th>count</th>\n",
       "      <td>106.000000</td>\n",
       "      <td>106.000000</td>\n",
       "      <td>106.000000</td>\n",
       "    </tr>\n",
       "    <tr>\n",
       "      <th>mean</th>\n",
       "      <td>2046.708398</td>\n",
       "      <td>4.460377</td>\n",
       "      <td>6211.613208</td>\n",
       "    </tr>\n",
       "    <tr>\n",
       "      <th>std</th>\n",
       "      <td>385.531993</td>\n",
       "      <td>2.678673</td>\n",
       "      <td>3735.586769</td>\n",
       "    </tr>\n",
       "    <tr>\n",
       "      <th>min</th>\n",
       "      <td>922.160200</td>\n",
       "      <td>0.010000</td>\n",
       "      <td>10.000000</td>\n",
       "    </tr>\n",
       "    <tr>\n",
       "      <th>25%</th>\n",
       "      <td>1835.030000</td>\n",
       "      <td>2.802500</td>\n",
       "      <td>3492.250000</td>\n",
       "    </tr>\n",
       "    <tr>\n",
       "      <th>50%</th>\n",
       "      <td>2044.855000</td>\n",
       "      <td>4.390000</td>\n",
       "      <td>6066.500000</td>\n",
       "    </tr>\n",
       "    <tr>\n",
       "      <th>75%</th>\n",
       "      <td>2250.795000</td>\n",
       "      <td>6.135000</td>\n",
       "      <td>8560.000000</td>\n",
       "    </tr>\n",
       "    <tr>\n",
       "      <th>max</th>\n",
       "      <td>3552.730000</td>\n",
       "      <td>13.790000</td>\n",
       "      <td>19259.000000</td>\n",
       "    </tr>\n",
       "  </tbody>\n",
       "</table>\n",
       "</div>"
      ],
      "text/plain": [
       "          calories   distances         steps\n",
       "count   106.000000  106.000000    106.000000\n",
       "mean   2046.708398    4.460377   6211.613208\n",
       "std     385.531993    2.678673   3735.586769\n",
       "min     922.160200    0.010000     10.000000\n",
       "25%    1835.030000    2.802500   3492.250000\n",
       "50%    2044.855000    4.390000   6066.500000\n",
       "75%    2250.795000    6.135000   8560.000000\n",
       "max    3552.730000   13.790000  19259.000000"
      ]
     },
     "execution_count": 18,
     "metadata": {},
     "output_type": "execute_result"
    }
   ],
   "source": [
    "df3.describe()"
   ]
  },
  {
   "cell_type": "code",
   "execution_count": 19,
   "id": "053a7648",
   "metadata": {
    "scrolled": true
   },
   "outputs": [
    {
     "data": {
      "text/plain": [
       "(106, 4)"
      ]
     },
     "execution_count": 19,
     "metadata": {},
     "output_type": "execute_result"
    }
   ],
   "source": [
    "df3.shape"
   ]
  },
  {
   "cell_type": "code",
   "execution_count": 20,
   "id": "26116061",
   "metadata": {
    "scrolled": true
   },
   "outputs": [
    {
     "data": {
      "text/plain": [
       "<AxesSubplot:>"
      ]
     },
     "execution_count": 20,
     "metadata": {},
     "output_type": "execute_result"
    },
    {
     "data": {
      "image/png": "[encoded data removed]",
      "text/plain": [
       "<Figure size 432x288 with 1 Axes>"
      ]
     },
     "metadata": {
      "needs_background": "light"
     },
     "output_type": "display_data"
    }
   ],
   "source": [
    "df.plot()"
   ]
  },
  {
   "cell_type": "code",
   "execution_count": 21,
   "id": "8be8a327",
   "metadata": {},
   "outputs": [
    {
     "data": {
      "text/plain": [
       "<AxesSubplot:>"
      ]
     },
     "execution_count": 21,
     "metadata": {},
     "output_type": "execute_result"
    },
    {
     "data": {
      "image/png": "[encoded data removed]",
      "text/plain": [
       "<Figure size 432x288 with 1 Axes>"
      ]
     },
     "metadata": {
      "needs_background": "light"
     },
     "output_type": "display_data"
    }
   ],
   "source": [
    "df3.plot()"
   ]
  },
  {
   "cell_type": "markdown",
   "id": "1bbf43d5",
   "metadata": {},
   "source": [
    "### distances의 최대값은 13.79, 최소값은 0.01이 되었다.\n",
    "### 다른 값들과 차이가 많이나 distances를 km->m로 변환하기 위해 1000을 곱한다."
   ]
  },
  {
   "cell_type": "code",
   "execution_count": 22,
   "id": "4a8073dc",
   "metadata": {},
   "outputs": [
    {
     "data": {
      "text/html": [
       "<div>\n",
       "<style scoped>\n",
       "    .dataframe tbody tr th:only-of-type {\n",
       "        vertical-align: middle;\n",
       "    }\n",
       "\n",
       "    .dataframe tbody tr th {\n",
       "        vertical-align: top;\n",
       "    }\n",
       "\n",
       "    .dataframe thead th {\n",
       "        text-align: right;\n",
       "    }\n",
       "</style>\n",
       "<table border=\"1\" class=\"dataframe\">\n",
       "  <thead>\n",
       "    <tr style=\"text-align: right;\">\n",
       "      <th></th>\n",
       "      <th>date</th>\n",
       "      <th>calories</th>\n",
       "      <th>steps</th>\n",
       "      <th>distances(m)</th>\n",
       "    </tr>\n",
       "  </thead>\n",
       "  <tbody>\n",
       "    <tr>\n",
       "      <th>0</th>\n",
       "      <td>2021.4.7</td>\n",
       "      <td>1744.27</td>\n",
       "      <td>10174</td>\n",
       "      <td>7300.000</td>\n",
       "    </tr>\n",
       "    <tr>\n",
       "      <th>1</th>\n",
       "      <td>2021.4.8</td>\n",
       "      <td>1865.11</td>\n",
       "      <td>4829</td>\n",
       "      <td>3460.000</td>\n",
       "    </tr>\n",
       "    <tr>\n",
       "      <th>2</th>\n",
       "      <td>2021.4.9</td>\n",
       "      <td>2406.20</td>\n",
       "      <td>8262</td>\n",
       "      <td>5920.000</td>\n",
       "    </tr>\n",
       "    <tr>\n",
       "      <th>3</th>\n",
       "      <td>2021.4.10</td>\n",
       "      <td>2384.56</td>\n",
       "      <td>8864</td>\n",
       "      <td>6350.000</td>\n",
       "    </tr>\n",
       "    <tr>\n",
       "      <th>4</th>\n",
       "      <td>2021.4.11</td>\n",
       "      <td>2456.50</td>\n",
       "      <td>8467</td>\n",
       "      <td>6059.999</td>\n",
       "    </tr>\n",
       "    <tr>\n",
       "      <th>...</th>\n",
       "      <td>...</td>\n",
       "      <td>...</td>\n",
       "      <td>...</td>\n",
       "      <td>...</td>\n",
       "    </tr>\n",
       "    <tr>\n",
       "      <th>101</th>\n",
       "      <td>2021.11.9</td>\n",
       "      <td>1726.78</td>\n",
       "      <td>1462</td>\n",
       "      <td>1050.000</td>\n",
       "    </tr>\n",
       "    <tr>\n",
       "      <th>102</th>\n",
       "      <td>2021.11.10</td>\n",
       "      <td>2498.06</td>\n",
       "      <td>7912</td>\n",
       "      <td>5660.000</td>\n",
       "    </tr>\n",
       "    <tr>\n",
       "      <th>103</th>\n",
       "      <td>2021.11.11</td>\n",
       "      <td>2732.86</td>\n",
       "      <td>12536</td>\n",
       "      <td>9000.000</td>\n",
       "    </tr>\n",
       "    <tr>\n",
       "      <th>104</th>\n",
       "      <td>2021.11.12</td>\n",
       "      <td>2774.22</td>\n",
       "      <td>8985</td>\n",
       "      <td>6450.000</td>\n",
       "    </tr>\n",
       "    <tr>\n",
       "      <th>105</th>\n",
       "      <td>2021.11.13</td>\n",
       "      <td>2954.84</td>\n",
       "      <td>10621</td>\n",
       "      <td>7710.000</td>\n",
       "    </tr>\n",
       "  </tbody>\n",
       "</table>\n",
       "<p>106 rows × 4 columns</p>\n",
       "</div>"
      ],
      "text/plain": [
       "           date  calories  steps  distances(m)\n",
       "0      2021.4.7   1744.27  10174      7300.000\n",
       "1      2021.4.8   1865.11   4829      3460.000\n",
       "2      2021.4.9   2406.20   8262      5920.000\n",
       "3     2021.4.10   2384.56   8864      6350.000\n",
       "4     2021.4.11   2456.50   8467      6059.999\n",
       "..          ...       ...    ...           ...\n",
       "101   2021.11.9   1726.78   1462      1050.000\n",
       "102  2021.11.10   2498.06   7912      5660.000\n",
       "103  2021.11.11   2732.86  12536      9000.000\n",
       "104  2021.11.12   2774.22   8985      6450.000\n",
       "105  2021.11.13   2954.84  10621      7710.000\n",
       "\n",
       "[106 rows x 4 columns]"
      ]
     },
     "execution_count": 22,
     "metadata": {},
     "output_type": "execute_result"
    }
   ],
   "source": [
    "df3['distances(m)'] = df3['distances']*1000\n",
    "df_m = df3.copy()\n",
    "df_m = df_m.drop(columns = ['distances'],axis=1)\n",
    "df_m"
   ]
  },
  {
   "cell_type": "code",
   "execution_count": 23,
   "id": "b205f3b6",
   "metadata": {
    "scrolled": false
   },
   "outputs": [
    {
     "data": {
      "text/plain": [
       "calories        2046.708398\n",
       "steps           6211.613208\n",
       "distances(m)    4460.377349\n",
       "dtype: float64"
      ]
     },
     "execution_count": 23,
     "metadata": {},
     "output_type": "execute_result"
    }
   ],
   "source": [
    "df_m.mean()"
   ]
  },
  {
   "cell_type": "markdown",
   "id": "11047753",
   "metadata": {},
   "source": [
    "## 0값일 경우도 동일하게 비교하기 위해 단위를 맞춰준다."
   ]
  },
  {
   "cell_type": "code",
   "execution_count": 24,
   "id": "45090394",
   "metadata": {},
   "outputs": [
    {
     "data": {
      "text/html": [
       "<div>\n",
       "<style scoped>\n",
       "    .dataframe tbody tr th:only-of-type {\n",
       "        vertical-align: middle;\n",
       "    }\n",
       "\n",
       "    .dataframe tbody tr th {\n",
       "        vertical-align: top;\n",
       "    }\n",
       "\n",
       "    .dataframe thead th {\n",
       "        text-align: right;\n",
       "    }\n",
       "</style>\n",
       "<table border=\"1\" class=\"dataframe\">\n",
       "  <thead>\n",
       "    <tr style=\"text-align: right;\">\n",
       "      <th></th>\n",
       "      <th>date</th>\n",
       "      <th>calories</th>\n",
       "      <th>steps</th>\n",
       "      <th>distances(m)</th>\n",
       "    </tr>\n",
       "  </thead>\n",
       "  <tbody>\n",
       "    <tr>\n",
       "      <th>0</th>\n",
       "      <td>2021.4.7</td>\n",
       "      <td>1744.27</td>\n",
       "      <td>10174</td>\n",
       "      <td>7300.000</td>\n",
       "    </tr>\n",
       "    <tr>\n",
       "      <th>1</th>\n",
       "      <td>2021.4.8</td>\n",
       "      <td>1865.11</td>\n",
       "      <td>4829</td>\n",
       "      <td>3460.000</td>\n",
       "    </tr>\n",
       "    <tr>\n",
       "      <th>2</th>\n",
       "      <td>2021.4.9</td>\n",
       "      <td>2406.20</td>\n",
       "      <td>8262</td>\n",
       "      <td>5920.000</td>\n",
       "    </tr>\n",
       "    <tr>\n",
       "      <th>3</th>\n",
       "      <td>2021.4.10</td>\n",
       "      <td>2384.56</td>\n",
       "      <td>8864</td>\n",
       "      <td>6350.000</td>\n",
       "    </tr>\n",
       "    <tr>\n",
       "      <th>4</th>\n",
       "      <td>2021.4.11</td>\n",
       "      <td>2456.50</td>\n",
       "      <td>8467</td>\n",
       "      <td>6059.999</td>\n",
       "    </tr>\n",
       "    <tr>\n",
       "      <th>...</th>\n",
       "      <td>...</td>\n",
       "      <td>...</td>\n",
       "      <td>...</td>\n",
       "      <td>...</td>\n",
       "    </tr>\n",
       "    <tr>\n",
       "      <th>162</th>\n",
       "      <td>2021.11.10</td>\n",
       "      <td>2498.06</td>\n",
       "      <td>7912</td>\n",
       "      <td>5660.000</td>\n",
       "    </tr>\n",
       "    <tr>\n",
       "      <th>163</th>\n",
       "      <td>2021.11.11</td>\n",
       "      <td>2732.86</td>\n",
       "      <td>12536</td>\n",
       "      <td>9000.000</td>\n",
       "    </tr>\n",
       "    <tr>\n",
       "      <th>164</th>\n",
       "      <td>2021.11.12</td>\n",
       "      <td>2774.22</td>\n",
       "      <td>8985</td>\n",
       "      <td>6450.000</td>\n",
       "    </tr>\n",
       "    <tr>\n",
       "      <th>165</th>\n",
       "      <td>2021.11.13</td>\n",
       "      <td>2954.84</td>\n",
       "      <td>10621</td>\n",
       "      <td>7710.000</td>\n",
       "    </tr>\n",
       "    <tr>\n",
       "      <th>166</th>\n",
       "      <td>2021.11.14</td>\n",
       "      <td>1464.48</td>\n",
       "      <td>0</td>\n",
       "      <td>0.000</td>\n",
       "    </tr>\n",
       "  </tbody>\n",
       "</table>\n",
       "<p>167 rows × 4 columns</p>\n",
       "</div>"
      ],
      "text/plain": [
       "           date  calories  steps  distances(m)\n",
       "0      2021.4.7   1744.27  10174      7300.000\n",
       "1      2021.4.8   1865.11   4829      3460.000\n",
       "2      2021.4.9   2406.20   8262      5920.000\n",
       "3     2021.4.10   2384.56   8864      6350.000\n",
       "4     2021.4.11   2456.50   8467      6059.999\n",
       "..          ...       ...    ...           ...\n",
       "162  2021.11.10   2498.06   7912      5660.000\n",
       "163  2021.11.11   2732.86  12536      9000.000\n",
       "164  2021.11.12   2774.22   8985      6450.000\n",
       "165  2021.11.13   2954.84  10621      7710.000\n",
       "166  2021.11.14   1464.48      0         0.000\n",
       "\n",
       "[167 rows x 4 columns]"
      ]
     },
     "execution_count": 24,
     "metadata": {},
     "output_type": "execute_result"
    }
   ],
   "source": [
    "df1['distances(m)'] = df1['distances']*1000\n",
    "df_n = df1.copy()\n",
    "df_n = df_n.drop(columns = ['distances'],axis=1)\n",
    "df_n"
   ]
  },
  {
   "cell_type": "code",
   "execution_count": 25,
   "id": "6e102f70",
   "metadata": {},
   "outputs": [
    {
     "data": {
      "text/plain": [
       "calories        1828.557846\n",
       "steps           3942.784431\n",
       "distances(m)    2831.137719\n",
       "dtype: float64"
      ]
     },
     "execution_count": 25,
     "metadata": {},
     "output_type": "execute_result"
    }
   ],
   "source": [
    "df_n.mean()"
   ]
  },
  {
   "cell_type": "markdown",
   "id": "c724d8f8",
   "metadata": {},
   "source": [
    "## 1. 수집 기간동안의 평균 소모 칼로리, 평균 이동거리, 평균 step수를 출력\n",
    "\n",
    "#### CSV 파일 값 그대로 평균 출력 시 \n",
    "### calories:  1828.557846,  distances :  2.831138 , steps :  3942.784431\n",
    "\n",
    "#### distances == 0 일 경우의 행을 제거하고, distances의 값이 다른 값의 범위가 크게 차이나서 1000을 곱하였다. 이때 평균 출력 시\n",
    "### calories:  2046.708398,   distances(m):  4460.377349, steps: 6211.613208\n",
    "\n",
    "#####  * csv의 기존 distances의 단위를 km 라고 판단하였음"
   ]
  },
  {
   "cell_type": "markdown",
   "id": "768f4dbb",
   "metadata": {},
   "source": [
    "## 2. x축: date, y축: calories => 꺾은선 그래프"
   ]
  },
  {
   "cell_type": "code",
   "execution_count": 26,
   "id": "a9b52ad3",
   "metadata": {
    "scrolled": true
   },
   "outputs": [
    {
     "data": {
      "image/png": "[encoded data removed]",
      "text/plain": [
       "<Figure size 432x288 with 1 Axes>"
      ]
     },
     "metadata": {
      "needs_background": "light"
     },
     "output_type": "display_data"
    }
   ],
   "source": [
    "t=df_m.date\n",
    "x=np.arange(t.size)\n",
    "\n",
    "#plt.figure(figsize=(10,8))\n",
    "plt.plot(x,df_m.calories,color='g')\n",
    "plt.title('Date-Calories graph (not Zero)')\n",
    "plt.xticks(x[::7],labels=t[::7],rotation=60)\n",
    "plt.xlabel('Date')\n",
    "plt.ylabel('Calories')\n",
    "plt.show()"
   ]
  },
  {
   "cell_type": "code",
   "execution_count": 27,
   "id": "5736c109",
   "metadata": {},
   "outputs": [
    {
     "data": {
      "image/png": "[encoded data removed]",
      "text/plain": [
       "<Figure size 432x288 with 1 Axes>"
      ]
     },
     "metadata": {
      "needs_background": "light"
     },
     "output_type": "display_data"
    }
   ],
   "source": [
    "t=df_n.date\n",
    "x=np.arange(t.size)\n",
    "\n",
    "#plt.figure(figsize=(10,8))\n",
    "plt.plot(x,df_n.calories,color='b')\n",
    "plt.title('Date-Calories graph (Zero)')\n",
    "plt.xticks(x[::7],labels=t[::7],rotation=60)\n",
    "plt.xlabel('Date')\n",
    "plt.ylabel('Calories')\n",
    "plt.show()"
   ]
  },
  {
   "cell_type": "markdown",
   "id": "e0cae15a",
   "metadata": {},
   "source": [
    "## 3. 이동한 거리와 소모된 칼로리 관계\n",
    "x축은 distance, y축은 calories로 scatter plotting해 보세요."
   ]
  },
  {
   "cell_type": "code",
   "execution_count": 28,
   "id": "3f95e2aa",
   "metadata": {
    "scrolled": true
   },
   "outputs": [
    {
     "data": {
      "image/png": "[encoded data removed]",
      "text/plain": [
       "<Figure size 432x288 with 1 Axes>"
      ]
     },
     "metadata": {
      "needs_background": "light"
     },
     "output_type": "display_data"
    }
   ],
   "source": [
    "t = df_m['distances(m)']\n",
    "\n",
    "plt.scatter(t,df_m.calories,s=10,color='r')\n",
    "plt.ylim(0,3500)\n",
    "plt.title('Distances(m)-Calories graph (Not Zero)')\n",
    "plt.xlabel('Distances(m)')\n",
    "plt.ylabel('Calories')\n",
    "plt.show()"
   ]
  },
  {
   "cell_type": "code",
   "execution_count": 93,
   "id": "5c148027",
   "metadata": {},
   "outputs": [
    {
     "data": {
      "image/png": "[encoded data removed]",
      "text/plain": [
       "<Figure size 432x288 with 1 Axes>"
      ]
     },
     "metadata": {
      "needs_background": "light"
     },
     "output_type": "display_data"
    }
   ],
   "source": [
    "t = df_n['distances(m)']\n",
    "\n",
    "plt.scatter(t,df_n.calories,s=10)\n",
    "plt.ylim(0,3500)\n",
    "plt.title('Distances(m)-Calories graph (Zero)')\n",
    "plt.xlabel('Distances(m)')\n",
    "plt.ylabel('Calories')\n",
    "plt.show()"
   ]
  },
  {
   "cell_type": "markdown",
   "id": "70992162",
   "metadata": {},
   "source": [
    "## 4. 요일 별로 평균 소모 칼로리, 평균 이동거리, 평균 steps 수를 분석"
   ]
  },
  {
   "cell_type": "markdown",
   "id": "9d35619a",
   "metadata": {},
   "source": [
    "## 0값을 제거하였을 경우"
   ]
  },
  {
   "cell_type": "code",
   "execution_count": 30,
   "id": "b2fa4467",
   "metadata": {},
   "outputs": [
    {
     "data": {
      "text/html": [
       "<div>\n",
       "<style scoped>\n",
       "    .dataframe tbody tr th:only-of-type {\n",
       "        vertical-align: middle;\n",
       "    }\n",
       "\n",
       "    .dataframe tbody tr th {\n",
       "        vertical-align: top;\n",
       "    }\n",
       "\n",
       "    .dataframe thead th {\n",
       "        text-align: right;\n",
       "    }\n",
       "</style>\n",
       "<table border=\"1\" class=\"dataframe\">\n",
       "  <thead>\n",
       "    <tr style=\"text-align: right;\">\n",
       "      <th></th>\n",
       "      <th>date</th>\n",
       "      <th>calories</th>\n",
       "      <th>steps</th>\n",
       "      <th>distances(m)</th>\n",
       "      <th>date_datetime</th>\n",
       "      <th>date_week</th>\n",
       "    </tr>\n",
       "  </thead>\n",
       "  <tbody>\n",
       "    <tr>\n",
       "      <th>0</th>\n",
       "      <td>2021.4.7</td>\n",
       "      <td>1744.27</td>\n",
       "      <td>10174</td>\n",
       "      <td>7300.000</td>\n",
       "      <td>2021-04-07</td>\n",
       "      <td>Wednesday</td>\n",
       "    </tr>\n",
       "    <tr>\n",
       "      <th>1</th>\n",
       "      <td>2021.4.8</td>\n",
       "      <td>1865.11</td>\n",
       "      <td>4829</td>\n",
       "      <td>3460.000</td>\n",
       "      <td>2021-04-08</td>\n",
       "      <td>Thursday</td>\n",
       "    </tr>\n",
       "    <tr>\n",
       "      <th>2</th>\n",
       "      <td>2021.4.9</td>\n",
       "      <td>2406.20</td>\n",
       "      <td>8262</td>\n",
       "      <td>5920.000</td>\n",
       "      <td>2021-04-09</td>\n",
       "      <td>Friday</td>\n",
       "    </tr>\n",
       "    <tr>\n",
       "      <th>3</th>\n",
       "      <td>2021.4.10</td>\n",
       "      <td>2384.56</td>\n",
       "      <td>8864</td>\n",
       "      <td>6350.000</td>\n",
       "      <td>2021-04-10</td>\n",
       "      <td>Saturday</td>\n",
       "    </tr>\n",
       "    <tr>\n",
       "      <th>4</th>\n",
       "      <td>2021.4.11</td>\n",
       "      <td>2456.50</td>\n",
       "      <td>8467</td>\n",
       "      <td>6059.999</td>\n",
       "      <td>2021-04-11</td>\n",
       "      <td>Sunday</td>\n",
       "    </tr>\n",
       "    <tr>\n",
       "      <th>...</th>\n",
       "      <td>...</td>\n",
       "      <td>...</td>\n",
       "      <td>...</td>\n",
       "      <td>...</td>\n",
       "      <td>...</td>\n",
       "      <td>...</td>\n",
       "    </tr>\n",
       "    <tr>\n",
       "      <th>101</th>\n",
       "      <td>2021.11.9</td>\n",
       "      <td>1726.78</td>\n",
       "      <td>1462</td>\n",
       "      <td>1050.000</td>\n",
       "      <td>2021-11-09</td>\n",
       "      <td>Tuesday</td>\n",
       "    </tr>\n",
       "    <tr>\n",
       "      <th>102</th>\n",
       "      <td>2021.11.10</td>\n",
       "      <td>2498.06</td>\n",
       "      <td>7912</td>\n",
       "      <td>5660.000</td>\n",
       "      <td>2021-11-10</td>\n",
       "      <td>Wednesday</td>\n",
       "    </tr>\n",
       "    <tr>\n",
       "      <th>103</th>\n",
       "      <td>2021.11.11</td>\n",
       "      <td>2732.86</td>\n",
       "      <td>12536</td>\n",
       "      <td>9000.000</td>\n",
       "      <td>2021-11-11</td>\n",
       "      <td>Thursday</td>\n",
       "    </tr>\n",
       "    <tr>\n",
       "      <th>104</th>\n",
       "      <td>2021.11.12</td>\n",
       "      <td>2774.22</td>\n",
       "      <td>8985</td>\n",
       "      <td>6450.000</td>\n",
       "      <td>2021-11-12</td>\n",
       "      <td>Friday</td>\n",
       "    </tr>\n",
       "    <tr>\n",
       "      <th>105</th>\n",
       "      <td>2021.11.13</td>\n",
       "      <td>2954.84</td>\n",
       "      <td>10621</td>\n",
       "      <td>7710.000</td>\n",
       "      <td>2021-11-13</td>\n",
       "      <td>Saturday</td>\n",
       "    </tr>\n",
       "  </tbody>\n",
       "</table>\n",
       "<p>106 rows × 6 columns</p>\n",
       "</div>"
      ],
      "text/plain": [
       "           date  calories  steps  distances(m) date_datetime  date_week\n",
       "0      2021.4.7   1744.27  10174      7300.000    2021-04-07  Wednesday\n",
       "1      2021.4.8   1865.11   4829      3460.000    2021-04-08   Thursday\n",
       "2      2021.4.9   2406.20   8262      5920.000    2021-04-09     Friday\n",
       "3     2021.4.10   2384.56   8864      6350.000    2021-04-10   Saturday\n",
       "4     2021.4.11   2456.50   8467      6059.999    2021-04-11     Sunday\n",
       "..          ...       ...    ...           ...           ...        ...\n",
       "101   2021.11.9   1726.78   1462      1050.000    2021-11-09    Tuesday\n",
       "102  2021.11.10   2498.06   7912      5660.000    2021-11-10  Wednesday\n",
       "103  2021.11.11   2732.86  12536      9000.000    2021-11-11   Thursday\n",
       "104  2021.11.12   2774.22   8985      6450.000    2021-11-12     Friday\n",
       "105  2021.11.13   2954.84  10621      7710.000    2021-11-13   Saturday\n",
       "\n",
       "[106 rows x 6 columns]"
      ]
     },
     "execution_count": 30,
     "metadata": {},
     "output_type": "execute_result"
    }
   ],
   "source": [
    "pd.to_datetime(df_m['date'])\n",
    "df_m['date_datetime'] = pd.to_datetime(df_m['date'])\n",
    "df_m['date_week'] =df_m['date_datetime'].dt.day_name()\n",
    "df_m"
   ]
  },
  {
   "cell_type": "code",
   "execution_count": 31,
   "id": "d54dd97c",
   "metadata": {},
   "outputs": [
    {
     "data": {
      "text/html": [
       "<div>\n",
       "<style scoped>\n",
       "    .dataframe tbody tr th:only-of-type {\n",
       "        vertical-align: middle;\n",
       "    }\n",
       "\n",
       "    .dataframe tbody tr th {\n",
       "        vertical-align: top;\n",
       "    }\n",
       "\n",
       "    .dataframe thead th {\n",
       "        text-align: right;\n",
       "    }\n",
       "</style>\n",
       "<table border=\"1\" class=\"dataframe\">\n",
       "  <thead>\n",
       "    <tr style=\"text-align: right;\">\n",
       "      <th></th>\n",
       "      <th>date</th>\n",
       "      <th>calories</th>\n",
       "      <th>steps</th>\n",
       "      <th>distances(m)</th>\n",
       "      <th>date_datetime</th>\n",
       "      <th>date_week</th>\n",
       "    </tr>\n",
       "  </thead>\n",
       "  <tbody>\n",
       "    <tr>\n",
       "      <th>0</th>\n",
       "      <td>2021.4.7</td>\n",
       "      <td>1744.27</td>\n",
       "      <td>10174</td>\n",
       "      <td>7300.000</td>\n",
       "      <td>2021-04-07</td>\n",
       "      <td>Wednesday</td>\n",
       "    </tr>\n",
       "    <tr>\n",
       "      <th>1</th>\n",
       "      <td>2021.4.8</td>\n",
       "      <td>1865.11</td>\n",
       "      <td>4829</td>\n",
       "      <td>3460.000</td>\n",
       "      <td>2021-04-08</td>\n",
       "      <td>Thursday</td>\n",
       "    </tr>\n",
       "    <tr>\n",
       "      <th>2</th>\n",
       "      <td>2021.4.9</td>\n",
       "      <td>2406.20</td>\n",
       "      <td>8262</td>\n",
       "      <td>5920.000</td>\n",
       "      <td>2021-04-09</td>\n",
       "      <td>Friday</td>\n",
       "    </tr>\n",
       "    <tr>\n",
       "      <th>3</th>\n",
       "      <td>2021.4.10</td>\n",
       "      <td>2384.56</td>\n",
       "      <td>8864</td>\n",
       "      <td>6350.000</td>\n",
       "      <td>2021-04-10</td>\n",
       "      <td>Saturday</td>\n",
       "    </tr>\n",
       "    <tr>\n",
       "      <th>4</th>\n",
       "      <td>2021.4.11</td>\n",
       "      <td>2456.50</td>\n",
       "      <td>8467</td>\n",
       "      <td>6059.999</td>\n",
       "      <td>2021-04-11</td>\n",
       "      <td>Sunday</td>\n",
       "    </tr>\n",
       "    <tr>\n",
       "      <th>...</th>\n",
       "      <td>...</td>\n",
       "      <td>...</td>\n",
       "      <td>...</td>\n",
       "      <td>...</td>\n",
       "      <td>...</td>\n",
       "      <td>...</td>\n",
       "    </tr>\n",
       "    <tr>\n",
       "      <th>101</th>\n",
       "      <td>2021.11.9</td>\n",
       "      <td>1726.78</td>\n",
       "      <td>1462</td>\n",
       "      <td>1050.000</td>\n",
       "      <td>2021-11-09</td>\n",
       "      <td>Tuesday</td>\n",
       "    </tr>\n",
       "    <tr>\n",
       "      <th>102</th>\n",
       "      <td>2021.11.10</td>\n",
       "      <td>2498.06</td>\n",
       "      <td>7912</td>\n",
       "      <td>5660.000</td>\n",
       "      <td>2021-11-10</td>\n",
       "      <td>Wednesday</td>\n",
       "    </tr>\n",
       "    <tr>\n",
       "      <th>103</th>\n",
       "      <td>2021.11.11</td>\n",
       "      <td>2732.86</td>\n",
       "      <td>12536</td>\n",
       "      <td>9000.000</td>\n",
       "      <td>2021-11-11</td>\n",
       "      <td>Thursday</td>\n",
       "    </tr>\n",
       "    <tr>\n",
       "      <th>104</th>\n",
       "      <td>2021.11.12</td>\n",
       "      <td>2774.22</td>\n",
       "      <td>8985</td>\n",
       "      <td>6450.000</td>\n",
       "      <td>2021-11-12</td>\n",
       "      <td>Friday</td>\n",
       "    </tr>\n",
       "    <tr>\n",
       "      <th>105</th>\n",
       "      <td>2021.11.13</td>\n",
       "      <td>2954.84</td>\n",
       "      <td>10621</td>\n",
       "      <td>7710.000</td>\n",
       "      <td>2021-11-13</td>\n",
       "      <td>Saturday</td>\n",
       "    </tr>\n",
       "  </tbody>\n",
       "</table>\n",
       "<p>106 rows × 6 columns</p>\n",
       "</div>"
      ],
      "text/plain": [
       "           date  calories  steps  distances(m) date_datetime  date_week\n",
       "0      2021.4.7   1744.27  10174      7300.000    2021-04-07  Wednesday\n",
       "1      2021.4.8   1865.11   4829      3460.000    2021-04-08   Thursday\n",
       "2      2021.4.9   2406.20   8262      5920.000    2021-04-09     Friday\n",
       "3     2021.4.10   2384.56   8864      6350.000    2021-04-10   Saturday\n",
       "4     2021.4.11   2456.50   8467      6059.999    2021-04-11     Sunday\n",
       "..          ...       ...    ...           ...           ...        ...\n",
       "101   2021.11.9   1726.78   1462      1050.000    2021-11-09    Tuesday\n",
       "102  2021.11.10   2498.06   7912      5660.000    2021-11-10  Wednesday\n",
       "103  2021.11.11   2732.86  12536      9000.000    2021-11-11   Thursday\n",
       "104  2021.11.12   2774.22   8985      6450.000    2021-11-12     Friday\n",
       "105  2021.11.13   2954.84  10621      7710.000    2021-11-13   Saturday\n",
       "\n",
       "[106 rows x 6 columns]"
      ]
     },
     "execution_count": 31,
     "metadata": {},
     "output_type": "execute_result"
    }
   ],
   "source": [
    "pd.to_datetime(df_m['date'])\n",
    "df_m"
   ]
  },
  {
   "cell_type": "code",
   "execution_count": 32,
   "id": "74bc96e2",
   "metadata": {},
   "outputs": [
    {
     "data": {
      "text/html": [
       "<div>\n",
       "<style scoped>\n",
       "    .dataframe tbody tr th:only-of-type {\n",
       "        vertical-align: middle;\n",
       "    }\n",
       "\n",
       "    .dataframe tbody tr th {\n",
       "        vertical-align: top;\n",
       "    }\n",
       "\n",
       "    .dataframe thead th {\n",
       "        text-align: right;\n",
       "    }\n",
       "</style>\n",
       "<table border=\"1\" class=\"dataframe\">\n",
       "  <thead>\n",
       "    <tr style=\"text-align: right;\">\n",
       "      <th></th>\n",
       "      <th>date</th>\n",
       "      <th>calories</th>\n",
       "      <th>steps</th>\n",
       "      <th>distances(m)</th>\n",
       "      <th>date_datetime</th>\n",
       "      <th>date_week</th>\n",
       "    </tr>\n",
       "  </thead>\n",
       "  <tbody>\n",
       "    <tr>\n",
       "      <th>0</th>\n",
       "      <td>2021.4.7</td>\n",
       "      <td>1744.27</td>\n",
       "      <td>10174</td>\n",
       "      <td>7300.000</td>\n",
       "      <td>2021-04-07</td>\n",
       "      <td>Wednesday</td>\n",
       "    </tr>\n",
       "    <tr>\n",
       "      <th>1</th>\n",
       "      <td>2021.4.8</td>\n",
       "      <td>1865.11</td>\n",
       "      <td>4829</td>\n",
       "      <td>3460.000</td>\n",
       "      <td>2021-04-08</td>\n",
       "      <td>Thursday</td>\n",
       "    </tr>\n",
       "    <tr>\n",
       "      <th>2</th>\n",
       "      <td>2021.4.9</td>\n",
       "      <td>2406.20</td>\n",
       "      <td>8262</td>\n",
       "      <td>5920.000</td>\n",
       "      <td>2021-04-09</td>\n",
       "      <td>Friday</td>\n",
       "    </tr>\n",
       "    <tr>\n",
       "      <th>3</th>\n",
       "      <td>2021.4.10</td>\n",
       "      <td>2384.56</td>\n",
       "      <td>8864</td>\n",
       "      <td>6350.000</td>\n",
       "      <td>2021-04-10</td>\n",
       "      <td>Saturday</td>\n",
       "    </tr>\n",
       "    <tr>\n",
       "      <th>4</th>\n",
       "      <td>2021.4.11</td>\n",
       "      <td>2456.50</td>\n",
       "      <td>8467</td>\n",
       "      <td>6059.999</td>\n",
       "      <td>2021-04-11</td>\n",
       "      <td>Sunday</td>\n",
       "    </tr>\n",
       "    <tr>\n",
       "      <th>...</th>\n",
       "      <td>...</td>\n",
       "      <td>...</td>\n",
       "      <td>...</td>\n",
       "      <td>...</td>\n",
       "      <td>...</td>\n",
       "      <td>...</td>\n",
       "    </tr>\n",
       "    <tr>\n",
       "      <th>101</th>\n",
       "      <td>2021.11.9</td>\n",
       "      <td>1726.78</td>\n",
       "      <td>1462</td>\n",
       "      <td>1050.000</td>\n",
       "      <td>2021-11-09</td>\n",
       "      <td>Tuesday</td>\n",
       "    </tr>\n",
       "    <tr>\n",
       "      <th>102</th>\n",
       "      <td>2021.11.10</td>\n",
       "      <td>2498.06</td>\n",
       "      <td>7912</td>\n",
       "      <td>5660.000</td>\n",
       "      <td>2021-11-10</td>\n",
       "      <td>Wednesday</td>\n",
       "    </tr>\n",
       "    <tr>\n",
       "      <th>103</th>\n",
       "      <td>2021.11.11</td>\n",
       "      <td>2732.86</td>\n",
       "      <td>12536</td>\n",
       "      <td>9000.000</td>\n",
       "      <td>2021-11-11</td>\n",
       "      <td>Thursday</td>\n",
       "    </tr>\n",
       "    <tr>\n",
       "      <th>104</th>\n",
       "      <td>2021.11.12</td>\n",
       "      <td>2774.22</td>\n",
       "      <td>8985</td>\n",
       "      <td>6450.000</td>\n",
       "      <td>2021-11-12</td>\n",
       "      <td>Friday</td>\n",
       "    </tr>\n",
       "    <tr>\n",
       "      <th>105</th>\n",
       "      <td>2021.11.13</td>\n",
       "      <td>2954.84</td>\n",
       "      <td>10621</td>\n",
       "      <td>7710.000</td>\n",
       "      <td>2021-11-13</td>\n",
       "      <td>Saturday</td>\n",
       "    </tr>\n",
       "  </tbody>\n",
       "</table>\n",
       "<p>106 rows × 6 columns</p>\n",
       "</div>"
      ],
      "text/plain": [
       "           date  calories  steps  distances(m) date_datetime  date_week\n",
       "0      2021.4.7   1744.27  10174      7300.000    2021-04-07  Wednesday\n",
       "1      2021.4.8   1865.11   4829      3460.000    2021-04-08   Thursday\n",
       "2      2021.4.9   2406.20   8262      5920.000    2021-04-09     Friday\n",
       "3     2021.4.10   2384.56   8864      6350.000    2021-04-10   Saturday\n",
       "4     2021.4.11   2456.50   8467      6059.999    2021-04-11     Sunday\n",
       "..          ...       ...    ...           ...           ...        ...\n",
       "101   2021.11.9   1726.78   1462      1050.000    2021-11-09    Tuesday\n",
       "102  2021.11.10   2498.06   7912      5660.000    2021-11-10  Wednesday\n",
       "103  2021.11.11   2732.86  12536      9000.000    2021-11-11   Thursday\n",
       "104  2021.11.12   2774.22   8985      6450.000    2021-11-12     Friday\n",
       "105  2021.11.13   2954.84  10621      7710.000    2021-11-13   Saturday\n",
       "\n",
       "[106 rows x 6 columns]"
      ]
     },
     "execution_count": 32,
     "metadata": {},
     "output_type": "execute_result"
    }
   ],
   "source": [
    "df_m['date_datetime'] = pd.to_datetime(df_m['date'])\n",
    "df_m['date_week'] =df_m['date_datetime'].dt.day_name()\n",
    "df_m"
   ]
  },
  {
   "cell_type": "code",
   "execution_count": 33,
   "id": "8c0f1add",
   "metadata": {},
   "outputs": [
    {
     "data": {
      "text/html": [
       "<div>\n",
       "<style scoped>\n",
       "    .dataframe tbody tr th:only-of-type {\n",
       "        vertical-align: middle;\n",
       "    }\n",
       "\n",
       "    .dataframe tbody tr th {\n",
       "        vertical-align: top;\n",
       "    }\n",
       "\n",
       "    .dataframe thead th {\n",
       "        text-align: right;\n",
       "    }\n",
       "</style>\n",
       "<table border=\"1\" class=\"dataframe\">\n",
       "  <thead>\n",
       "    <tr style=\"text-align: right;\">\n",
       "      <th></th>\n",
       "      <th>date</th>\n",
       "      <th>calories</th>\n",
       "      <th>steps</th>\n",
       "      <th>distances(m)</th>\n",
       "      <th>date_week</th>\n",
       "    </tr>\n",
       "  </thead>\n",
       "  <tbody>\n",
       "    <tr>\n",
       "      <th>0</th>\n",
       "      <td>2021.4.7</td>\n",
       "      <td>1744.27</td>\n",
       "      <td>10174</td>\n",
       "      <td>7300.000</td>\n",
       "      <td>Wednesday</td>\n",
       "    </tr>\n",
       "    <tr>\n",
       "      <th>1</th>\n",
       "      <td>2021.4.8</td>\n",
       "      <td>1865.11</td>\n",
       "      <td>4829</td>\n",
       "      <td>3460.000</td>\n",
       "      <td>Thursday</td>\n",
       "    </tr>\n",
       "    <tr>\n",
       "      <th>2</th>\n",
       "      <td>2021.4.9</td>\n",
       "      <td>2406.20</td>\n",
       "      <td>8262</td>\n",
       "      <td>5920.000</td>\n",
       "      <td>Friday</td>\n",
       "    </tr>\n",
       "    <tr>\n",
       "      <th>3</th>\n",
       "      <td>2021.4.10</td>\n",
       "      <td>2384.56</td>\n",
       "      <td>8864</td>\n",
       "      <td>6350.000</td>\n",
       "      <td>Saturday</td>\n",
       "    </tr>\n",
       "    <tr>\n",
       "      <th>4</th>\n",
       "      <td>2021.4.11</td>\n",
       "      <td>2456.50</td>\n",
       "      <td>8467</td>\n",
       "      <td>6059.999</td>\n",
       "      <td>Sunday</td>\n",
       "    </tr>\n",
       "    <tr>\n",
       "      <th>...</th>\n",
       "      <td>...</td>\n",
       "      <td>...</td>\n",
       "      <td>...</td>\n",
       "      <td>...</td>\n",
       "      <td>...</td>\n",
       "    </tr>\n",
       "    <tr>\n",
       "      <th>101</th>\n",
       "      <td>2021.11.9</td>\n",
       "      <td>1726.78</td>\n",
       "      <td>1462</td>\n",
       "      <td>1050.000</td>\n",
       "      <td>Tuesday</td>\n",
       "    </tr>\n",
       "    <tr>\n",
       "      <th>102</th>\n",
       "      <td>2021.11.10</td>\n",
       "      <td>2498.06</td>\n",
       "      <td>7912</td>\n",
       "      <td>5660.000</td>\n",
       "      <td>Wednesday</td>\n",
       "    </tr>\n",
       "    <tr>\n",
       "      <th>103</th>\n",
       "      <td>2021.11.11</td>\n",
       "      <td>2732.86</td>\n",
       "      <td>12536</td>\n",
       "      <td>9000.000</td>\n",
       "      <td>Thursday</td>\n",
       "    </tr>\n",
       "    <tr>\n",
       "      <th>104</th>\n",
       "      <td>2021.11.12</td>\n",
       "      <td>2774.22</td>\n",
       "      <td>8985</td>\n",
       "      <td>6450.000</td>\n",
       "      <td>Friday</td>\n",
       "    </tr>\n",
       "    <tr>\n",
       "      <th>105</th>\n",
       "      <td>2021.11.13</td>\n",
       "      <td>2954.84</td>\n",
       "      <td>10621</td>\n",
       "      <td>7710.000</td>\n",
       "      <td>Saturday</td>\n",
       "    </tr>\n",
       "  </tbody>\n",
       "</table>\n",
       "<p>106 rows × 5 columns</p>\n",
       "</div>"
      ],
      "text/plain": [
       "           date  calories  steps  distances(m)  date_week\n",
       "0      2021.4.7   1744.27  10174      7300.000  Wednesday\n",
       "1      2021.4.8   1865.11   4829      3460.000   Thursday\n",
       "2      2021.4.9   2406.20   8262      5920.000     Friday\n",
       "3     2021.4.10   2384.56   8864      6350.000   Saturday\n",
       "4     2021.4.11   2456.50   8467      6059.999     Sunday\n",
       "..          ...       ...    ...           ...        ...\n",
       "101   2021.11.9   1726.78   1462      1050.000    Tuesday\n",
       "102  2021.11.10   2498.06   7912      5660.000  Wednesday\n",
       "103  2021.11.11   2732.86  12536      9000.000   Thursday\n",
       "104  2021.11.12   2774.22   8985      6450.000     Friday\n",
       "105  2021.11.13   2954.84  10621      7710.000   Saturday\n",
       "\n",
       "[106 rows x 5 columns]"
      ]
     },
     "execution_count": 33,
     "metadata": {},
     "output_type": "execute_result"
    }
   ],
   "source": [
    "df_m.drop(['date_datetime'],axis=1)"
   ]
  },
  {
   "cell_type": "code",
   "execution_count": 34,
   "id": "d7ae51d3",
   "metadata": {
    "scrolled": false
   },
   "outputs": [
    {
     "data": {
      "text/html": [
       "<div>\n",
       "<style scoped>\n",
       "    .dataframe tbody tr th:only-of-type {\n",
       "        vertical-align: middle;\n",
       "    }\n",
       "\n",
       "    .dataframe tbody tr th {\n",
       "        vertical-align: top;\n",
       "    }\n",
       "\n",
       "    .dataframe thead th {\n",
       "        text-align: right;\n",
       "    }\n",
       "</style>\n",
       "<table border=\"1\" class=\"dataframe\">\n",
       "  <thead>\n",
       "    <tr style=\"text-align: right;\">\n",
       "      <th></th>\n",
       "      <th>calories</th>\n",
       "      <th>steps</th>\n",
       "      <th>distances(m)</th>\n",
       "    </tr>\n",
       "    <tr>\n",
       "      <th>date_week</th>\n",
       "      <th></th>\n",
       "      <th></th>\n",
       "      <th></th>\n",
       "    </tr>\n",
       "  </thead>\n",
       "  <tbody>\n",
       "    <tr>\n",
       "      <th>Friday</th>\n",
       "      <td>2203.867059</td>\n",
       "      <td>7382.823529</td>\n",
       "      <td>5288.823529</td>\n",
       "    </tr>\n",
       "    <tr>\n",
       "      <th>Monday</th>\n",
       "      <td>2009.444286</td>\n",
       "      <td>6097.285714</td>\n",
       "      <td>4376.428643</td>\n",
       "    </tr>\n",
       "    <tr>\n",
       "      <th>Saturday</th>\n",
       "      <td>1850.096888</td>\n",
       "      <td>4461.062500</td>\n",
       "      <td>3201.249937</td>\n",
       "    </tr>\n",
       "    <tr>\n",
       "      <th>Sunday</th>\n",
       "      <td>2034.847500</td>\n",
       "      <td>5840.666667</td>\n",
       "      <td>4164.166667</td>\n",
       "    </tr>\n",
       "    <tr>\n",
       "      <th>Thursday</th>\n",
       "      <td>2125.840667</td>\n",
       "      <td>6761.466667</td>\n",
       "      <td>4888.666667</td>\n",
       "    </tr>\n",
       "    <tr>\n",
       "      <th>Tuesday</th>\n",
       "      <td>2047.455000</td>\n",
       "      <td>6239.125000</td>\n",
       "      <td>4491.874937</td>\n",
       "    </tr>\n",
       "    <tr>\n",
       "      <th>Wednesday</th>\n",
       "      <td>2042.907500</td>\n",
       "      <td>6553.000000</td>\n",
       "      <td>4701.875000</td>\n",
       "    </tr>\n",
       "  </tbody>\n",
       "</table>\n",
       "</div>"
      ],
      "text/plain": [
       "              calories        steps  distances(m)\n",
       "date_week                                        \n",
       "Friday     2203.867059  7382.823529   5288.823529\n",
       "Monday     2009.444286  6097.285714   4376.428643\n",
       "Saturday   1850.096888  4461.062500   3201.249937\n",
       "Sunday     2034.847500  5840.666667   4164.166667\n",
       "Thursday   2125.840667  6761.466667   4888.666667\n",
       "Tuesday    2047.455000  6239.125000   4491.874937\n",
       "Wednesday  2042.907500  6553.000000   4701.875000"
      ]
     },
     "execution_count": 34,
     "metadata": {},
     "output_type": "execute_result"
    }
   ],
   "source": [
    "df_week = df_m.groupby('date_week').mean()\n",
    "df_week"
   ]
  },
  {
   "cell_type": "code",
   "execution_count": 35,
   "id": "f76acceb",
   "metadata": {
    "scrolled": false
   },
   "outputs": [
    {
     "data": {
      "text/html": [
       "<div>\n",
       "<style scoped>\n",
       "    .dataframe tbody tr th:only-of-type {\n",
       "        vertical-align: middle;\n",
       "    }\n",
       "\n",
       "    .dataframe tbody tr th {\n",
       "        vertical-align: top;\n",
       "    }\n",
       "\n",
       "    .dataframe thead th {\n",
       "        text-align: right;\n",
       "    }\n",
       "</style>\n",
       "<table border=\"1\" class=\"dataframe\">\n",
       "  <thead>\n",
       "    <tr style=\"text-align: right;\">\n",
       "      <th></th>\n",
       "      <th>calories</th>\n",
       "      <th>steps</th>\n",
       "      <th>distances(m)</th>\n",
       "    </tr>\n",
       "    <tr>\n",
       "      <th>date_week</th>\n",
       "      <th></th>\n",
       "      <th></th>\n",
       "      <th></th>\n",
       "    </tr>\n",
       "  </thead>\n",
       "  <tbody>\n",
       "    <tr>\n",
       "      <th>Monday</th>\n",
       "      <td>2009.444286</td>\n",
       "      <td>6097.285714</td>\n",
       "      <td>4376.428643</td>\n",
       "    </tr>\n",
       "    <tr>\n",
       "      <th>Tuesday</th>\n",
       "      <td>2047.455000</td>\n",
       "      <td>6239.125000</td>\n",
       "      <td>4491.874937</td>\n",
       "    </tr>\n",
       "    <tr>\n",
       "      <th>Wednesday</th>\n",
       "      <td>2042.907500</td>\n",
       "      <td>6553.000000</td>\n",
       "      <td>4701.875000</td>\n",
       "    </tr>\n",
       "    <tr>\n",
       "      <th>Thursday</th>\n",
       "      <td>2125.840667</td>\n",
       "      <td>6761.466667</td>\n",
       "      <td>4888.666667</td>\n",
       "    </tr>\n",
       "    <tr>\n",
       "      <th>Friday</th>\n",
       "      <td>2203.867059</td>\n",
       "      <td>7382.823529</td>\n",
       "      <td>5288.823529</td>\n",
       "    </tr>\n",
       "    <tr>\n",
       "      <th>Saturday</th>\n",
       "      <td>1850.096888</td>\n",
       "      <td>4461.062500</td>\n",
       "      <td>3201.249937</td>\n",
       "    </tr>\n",
       "    <tr>\n",
       "      <th>Sunday</th>\n",
       "      <td>2034.847500</td>\n",
       "      <td>5840.666667</td>\n",
       "      <td>4164.166667</td>\n",
       "    </tr>\n",
       "  </tbody>\n",
       "</table>\n",
       "</div>"
      ],
      "text/plain": [
       "              calories        steps  distances(m)\n",
       "date_week                                        \n",
       "Monday     2009.444286  6097.285714   4376.428643\n",
       "Tuesday    2047.455000  6239.125000   4491.874937\n",
       "Wednesday  2042.907500  6553.000000   4701.875000\n",
       "Thursday   2125.840667  6761.466667   4888.666667\n",
       "Friday     2203.867059  7382.823529   5288.823529\n",
       "Saturday   1850.096888  4461.062500   3201.249937\n",
       "Sunday     2034.847500  5840.666667   4164.166667"
      ]
     },
     "execution_count": 35,
     "metadata": {},
     "output_type": "execute_result"
    }
   ],
   "source": [
    "df_week=df_week.reindex(index=['Monday','Tuesday','Wednesday','Thursday','Friday','Saturday','Sunday'])\n",
    "df_week"
   ]
  },
  {
   "cell_type": "code",
   "execution_count": 36,
   "id": "6a2563f9",
   "metadata": {},
   "outputs": [
    {
     "data": {
      "text/html": [
       "<div>\n",
       "<style scoped>\n",
       "    .dataframe tbody tr th:only-of-type {\n",
       "        vertical-align: middle;\n",
       "    }\n",
       "\n",
       "    .dataframe tbody tr th {\n",
       "        vertical-align: top;\n",
       "    }\n",
       "\n",
       "    .dataframe thead th {\n",
       "        text-align: right;\n",
       "    }\n",
       "</style>\n",
       "<table border=\"1\" class=\"dataframe\">\n",
       "  <thead>\n",
       "    <tr style=\"text-align: right;\">\n",
       "      <th></th>\n",
       "      <th>calories</th>\n",
       "      <th>steps</th>\n",
       "      <th>distances(m)</th>\n",
       "    </tr>\n",
       "    <tr>\n",
       "      <th>date_week</th>\n",
       "      <th></th>\n",
       "      <th></th>\n",
       "      <th></th>\n",
       "    </tr>\n",
       "  </thead>\n",
       "  <tbody>\n",
       "    <tr>\n",
       "      <th>Mon</th>\n",
       "      <td>2009.444286</td>\n",
       "      <td>6097.285714</td>\n",
       "      <td>4376.428643</td>\n",
       "    </tr>\n",
       "    <tr>\n",
       "      <th>Tue</th>\n",
       "      <td>2047.455000</td>\n",
       "      <td>6239.125000</td>\n",
       "      <td>4491.874937</td>\n",
       "    </tr>\n",
       "    <tr>\n",
       "      <th>Wed</th>\n",
       "      <td>2042.907500</td>\n",
       "      <td>6553.000000</td>\n",
       "      <td>4701.875000</td>\n",
       "    </tr>\n",
       "    <tr>\n",
       "      <th>Thu</th>\n",
       "      <td>2125.840667</td>\n",
       "      <td>6761.466667</td>\n",
       "      <td>4888.666667</td>\n",
       "    </tr>\n",
       "    <tr>\n",
       "      <th>Fri</th>\n",
       "      <td>2203.867059</td>\n",
       "      <td>7382.823529</td>\n",
       "      <td>5288.823529</td>\n",
       "    </tr>\n",
       "    <tr>\n",
       "      <th>Sat</th>\n",
       "      <td>1850.096888</td>\n",
       "      <td>4461.062500</td>\n",
       "      <td>3201.249937</td>\n",
       "    </tr>\n",
       "    <tr>\n",
       "      <th>Sun</th>\n",
       "      <td>2034.847500</td>\n",
       "      <td>5840.666667</td>\n",
       "      <td>4164.166667</td>\n",
       "    </tr>\n",
       "  </tbody>\n",
       "</table>\n",
       "</div>"
      ],
      "text/plain": [
       "              calories        steps  distances(m)\n",
       "date_week                                        \n",
       "Mon        2009.444286  6097.285714   4376.428643\n",
       "Tue        2047.455000  6239.125000   4491.874937\n",
       "Wed        2042.907500  6553.000000   4701.875000\n",
       "Thu        2125.840667  6761.466667   4888.666667\n",
       "Fri        2203.867059  7382.823529   5288.823529\n",
       "Sat        1850.096888  4461.062500   3201.249937\n",
       "Sun        2034.847500  5840.666667   4164.166667"
      ]
     },
     "execution_count": 36,
     "metadata": {},
     "output_type": "execute_result"
    }
   ],
   "source": [
    "df_week=df_week.rename(index={'Monday':'Mon','Tuesday':'Tue','Wednesday':'Wed','Thursday':'Thu','Friday':'Fri','Saturday':'Sat','Sunday':'Sun'})\n",
    "df_week"
   ]
  },
  {
   "cell_type": "code",
   "execution_count": 37,
   "id": "70948da3",
   "metadata": {},
   "outputs": [
    {
     "name": "stdout",
     "output_type": "stream",
     "text": [
      "<class 'pandas.core.frame.DataFrame'>\n",
      "Index: 7 entries, Mon to Sun\n",
      "Data columns (total 3 columns):\n",
      " #   Column        Non-Null Count  Dtype  \n",
      "---  ------        --------------  -----  \n",
      " 0   calories      7 non-null      float64\n",
      " 1   steps         7 non-null      float64\n",
      " 2   distances(m)  7 non-null      float64\n",
      "dtypes: float64(3)\n",
      "memory usage: 224.0+ bytes\n"
     ]
    }
   ],
   "source": [
    "df_week.info()"
   ]
  },
  {
   "cell_type": "code",
   "execution_count": 38,
   "id": "987a2e66",
   "metadata": {},
   "outputs": [
    {
     "data": {
      "text/plain": [
       "calories        0\n",
       "steps           0\n",
       "distances(m)    0\n",
       "dtype: int64"
      ]
     },
     "execution_count": 38,
     "metadata": {},
     "output_type": "execute_result"
    }
   ],
   "source": [
    "df_week.isnull().sum()"
   ]
  },
  {
   "cell_type": "code",
   "execution_count": 39,
   "id": "b5b62c59",
   "metadata": {},
   "outputs": [
    {
     "data": {
      "text/html": [
       "<div>\n",
       "<style scoped>\n",
       "    .dataframe tbody tr th:only-of-type {\n",
       "        vertical-align: middle;\n",
       "    }\n",
       "\n",
       "    .dataframe tbody tr th {\n",
       "        vertical-align: top;\n",
       "    }\n",
       "\n",
       "    .dataframe thead th {\n",
       "        text-align: right;\n",
       "    }\n",
       "</style>\n",
       "<table border=\"1\" class=\"dataframe\">\n",
       "  <thead>\n",
       "    <tr style=\"text-align: right;\">\n",
       "      <th></th>\n",
       "      <th>calories</th>\n",
       "      <th>steps</th>\n",
       "      <th>distances(m)</th>\n",
       "    </tr>\n",
       "    <tr>\n",
       "      <th>date_week</th>\n",
       "      <th></th>\n",
       "      <th></th>\n",
       "      <th></th>\n",
       "    </tr>\n",
       "  </thead>\n",
       "  <tbody>\n",
       "    <tr>\n",
       "      <th>Mon</th>\n",
       "      <td>2009.444286</td>\n",
       "      <td>6097.285714</td>\n",
       "      <td>4376.428643</td>\n",
       "    </tr>\n",
       "    <tr>\n",
       "      <th>Tue</th>\n",
       "      <td>2047.455000</td>\n",
       "      <td>6239.125000</td>\n",
       "      <td>4491.874937</td>\n",
       "    </tr>\n",
       "    <tr>\n",
       "      <th>Wed</th>\n",
       "      <td>2042.907500</td>\n",
       "      <td>6553.000000</td>\n",
       "      <td>4701.875000</td>\n",
       "    </tr>\n",
       "    <tr>\n",
       "      <th>Thu</th>\n",
       "      <td>2125.840667</td>\n",
       "      <td>6761.466667</td>\n",
       "      <td>4888.666667</td>\n",
       "    </tr>\n",
       "    <tr>\n",
       "      <th>Fri</th>\n",
       "      <td>2203.867059</td>\n",
       "      <td>7382.823529</td>\n",
       "      <td>5288.823529</td>\n",
       "    </tr>\n",
       "    <tr>\n",
       "      <th>Sat</th>\n",
       "      <td>1850.096888</td>\n",
       "      <td>4461.062500</td>\n",
       "      <td>3201.249937</td>\n",
       "    </tr>\n",
       "    <tr>\n",
       "      <th>Sun</th>\n",
       "      <td>2034.847500</td>\n",
       "      <td>5840.666667</td>\n",
       "      <td>4164.166667</td>\n",
       "    </tr>\n",
       "  </tbody>\n",
       "</table>\n",
       "</div>"
      ],
      "text/plain": [
       "              calories        steps  distances(m)\n",
       "date_week                                        \n",
       "Mon        2009.444286  6097.285714   4376.428643\n",
       "Tue        2047.455000  6239.125000   4491.874937\n",
       "Wed        2042.907500  6553.000000   4701.875000\n",
       "Thu        2125.840667  6761.466667   4888.666667\n",
       "Fri        2203.867059  7382.823529   5288.823529\n",
       "Sat        1850.096888  4461.062500   3201.249937\n",
       "Sun        2034.847500  5840.666667   4164.166667"
      ]
     },
     "execution_count": 39,
     "metadata": {},
     "output_type": "execute_result"
    }
   ],
   "source": [
    "from pandas import DataFrame\n",
    "df_week=DataFrame(df_week)\n",
    "df_week"
   ]
  },
  {
   "cell_type": "code",
   "execution_count": 40,
   "id": "900dd27f",
   "metadata": {},
   "outputs": [
    {
     "data": {
      "text/html": [
       "<div>\n",
       "<style scoped>\n",
       "    .dataframe tbody tr th:only-of-type {\n",
       "        vertical-align: middle;\n",
       "    }\n",
       "\n",
       "    .dataframe tbody tr th {\n",
       "        vertical-align: top;\n",
       "    }\n",
       "\n",
       "    .dataframe thead th {\n",
       "        text-align: right;\n",
       "    }\n",
       "</style>\n",
       "<table border=\"1\" class=\"dataframe\">\n",
       "  <thead>\n",
       "    <tr style=\"text-align: right;\">\n",
       "      <th></th>\n",
       "      <th>calories</th>\n",
       "      <th>steps</th>\n",
       "      <th>distances(m)</th>\n",
       "    </tr>\n",
       "  </thead>\n",
       "  <tbody>\n",
       "    <tr>\n",
       "      <th>count</th>\n",
       "      <td>7.000000</td>\n",
       "      <td>7.000000</td>\n",
       "      <td>7.000000</td>\n",
       "    </tr>\n",
       "    <tr>\n",
       "      <th>mean</th>\n",
       "      <td>2044.922700</td>\n",
       "      <td>6190.775725</td>\n",
       "      <td>4444.726483</td>\n",
       "    </tr>\n",
       "    <tr>\n",
       "      <th>std</th>\n",
       "      <td>108.887423</td>\n",
       "      <td>913.184426</td>\n",
       "      <td>659.234831</td>\n",
       "    </tr>\n",
       "    <tr>\n",
       "      <th>min</th>\n",
       "      <td>1850.096888</td>\n",
       "      <td>4461.062500</td>\n",
       "      <td>3201.249937</td>\n",
       "    </tr>\n",
       "    <tr>\n",
       "      <th>25%</th>\n",
       "      <td>2022.145893</td>\n",
       "      <td>5968.976190</td>\n",
       "      <td>4270.297655</td>\n",
       "    </tr>\n",
       "    <tr>\n",
       "      <th>50%</th>\n",
       "      <td>2042.907500</td>\n",
       "      <td>6239.125000</td>\n",
       "      <td>4491.874937</td>\n",
       "    </tr>\n",
       "    <tr>\n",
       "      <th>75%</th>\n",
       "      <td>2086.647833</td>\n",
       "      <td>6657.233333</td>\n",
       "      <td>4795.270833</td>\n",
       "    </tr>\n",
       "    <tr>\n",
       "      <th>max</th>\n",
       "      <td>2203.867059</td>\n",
       "      <td>7382.823529</td>\n",
       "      <td>5288.823529</td>\n",
       "    </tr>\n",
       "  </tbody>\n",
       "</table>\n",
       "</div>"
      ],
      "text/plain": [
       "          calories        steps  distances(m)\n",
       "count     7.000000     7.000000      7.000000\n",
       "mean   2044.922700  6190.775725   4444.726483\n",
       "std     108.887423   913.184426    659.234831\n",
       "min    1850.096888  4461.062500   3201.249937\n",
       "25%    2022.145893  5968.976190   4270.297655\n",
       "50%    2042.907500  6239.125000   4491.874937\n",
       "75%    2086.647833  6657.233333   4795.270833\n",
       "max    2203.867059  7382.823529   5288.823529"
      ]
     },
     "execution_count": 40,
     "metadata": {},
     "output_type": "execute_result"
    }
   ],
   "source": [
    "df_week.describe()"
   ]
  },
  {
   "cell_type": "code",
   "execution_count": 59,
   "id": "202fbe13",
   "metadata": {},
   "outputs": [],
   "source": [
    "x = df_week.index\n",
    "y1 = df_week['calories']\n",
    "y2 = df_week['distances(m)']\n",
    "y3 = df_week['steps']"
   ]
  },
  {
   "cell_type": "code",
   "execution_count": 60,
   "id": "8837fb21",
   "metadata": {},
   "outputs": [
    {
     "data": {
      "text/plain": [
       "<matplotlib.legend.Legend at 0x1b7e9cda100>"
      ]
     },
     "execution_count": 60,
     "metadata": {},
     "output_type": "execute_result"
    },
    {
     "data": {
      "image/png": "[encoded data removed]",
      "text/plain": [
       "<Figure size 432x288 with 1 Axes>"
      ]
     },
     "metadata": {
      "needs_background": "light"
     },
     "output_type": "display_data"
    },
    {
     "data": {
      "text/plain": [
       "<Figure size 432x288 with 0 Axes>"
      ]
     },
     "metadata": {},
     "output_type": "display_data"
    }
   ],
   "source": [
    "fig, ax = plt.subplots() \n",
    "width = 0.75\n",
    "plt.figure()\n",
    "ax.bar(x, y1, width, color=\"skyblue\",label='calories')\n",
    "ax.set_ylim(1800,2300)\n",
    "\n",
    "for v, i in enumerate(y1):\n",
    "    ax.text(v-.40, i+8, str(round(i,1)), color='gray', fontweight='bold')\n",
    "\n",
    "ax.legend()"
   ]
  },
  {
   "cell_type": "code",
   "execution_count": 61,
   "id": "c1712834",
   "metadata": {},
   "outputs": [
    {
     "data": {
      "text/plain": [
       "<matplotlib.legend.Legend at 0x1b7e9d56520>"
      ]
     },
     "execution_count": 61,
     "metadata": {},
     "output_type": "execute_result"
    },
    {
     "data": {
      "image/png": "[encoded data removed]",
      "text/plain": [
       "<Figure size 432x288 with 1 Axes>"
      ]
     },
     "metadata": {
      "needs_background": "light"
     },
     "output_type": "display_data"
    },
    {
     "data": {
      "text/plain": [
       "<Figure size 432x288 with 0 Axes>"
      ]
     },
     "metadata": {},
     "output_type": "display_data"
    }
   ],
   "source": [
    "fig, ax = plt.subplots() \n",
    "width = 0.75\n",
    "plt.figure()\n",
    "ax.bar(x, y2, width, color=\"khaki\",label='distances(m)')\n",
    "ax.set_ylim(3000,6000)\n",
    "\n",
    "for v, i in enumerate(y2):\n",
    "    ax.text(v-.40, i+50, str(round(i,1)), color='gray', fontweight='bold')\n",
    "\n",
    "ax.legend()"
   ]
  },
  {
   "cell_type": "code",
   "execution_count": 62,
   "id": "d3643ee0",
   "metadata": {
    "scrolled": true
   },
   "outputs": [
    {
     "data": {
      "text/plain": [
       "<matplotlib.legend.Legend at 0x1b7e8b40df0>"
      ]
     },
     "execution_count": 62,
     "metadata": {},
     "output_type": "execute_result"
    },
    {
     "data": {
      "image/png": "[encoded data removed]",
      "text/plain": [
       "<Figure size 432x288 with 1 Axes>"
      ]
     },
     "metadata": {
      "needs_background": "light"
     },
     "output_type": "display_data"
    },
    {
     "data": {
      "text/plain": [
       "<Figure size 432x288 with 0 Axes>"
      ]
     },
     "metadata": {},
     "output_type": "display_data"
    }
   ],
   "source": [
    "fig, ax = plt.subplots() \n",
    "width = 0.75\n",
    "plt.figure()\n",
    "ax.bar(x, y3, width, color=\"pink\",label='steps')\n",
    "ax.set_ylim(4200,8000)\n",
    "\n",
    "for v, i in enumerate(y3):\n",
    "    ax.text(v-.40, i+50, str(round(i,1)), color='gray', fontweight='bold')\n",
    "\n",
    "ax.legend()"
   ]
  },
  {
   "cell_type": "markdown",
   "id": "1449cec0",
   "metadata": {},
   "source": [
    "## 0값을 제거하지 않았을 경우"
   ]
  },
  {
   "cell_type": "code",
   "execution_count": 63,
   "id": "eb933aa5",
   "metadata": {},
   "outputs": [
    {
     "data": {
      "text/html": [
       "<div>\n",
       "<style scoped>\n",
       "    .dataframe tbody tr th:only-of-type {\n",
       "        vertical-align: middle;\n",
       "    }\n",
       "\n",
       "    .dataframe tbody tr th {\n",
       "        vertical-align: top;\n",
       "    }\n",
       "\n",
       "    .dataframe thead th {\n",
       "        text-align: right;\n",
       "    }\n",
       "</style>\n",
       "<table border=\"1\" class=\"dataframe\">\n",
       "  <thead>\n",
       "    <tr style=\"text-align: right;\">\n",
       "      <th></th>\n",
       "      <th>date</th>\n",
       "      <th>calories</th>\n",
       "      <th>steps</th>\n",
       "      <th>distances(m)</th>\n",
       "      <th>date_datetime</th>\n",
       "      <th>date_week</th>\n",
       "    </tr>\n",
       "  </thead>\n",
       "  <tbody>\n",
       "    <tr>\n",
       "      <th>0</th>\n",
       "      <td>2021.4.7</td>\n",
       "      <td>1744.27</td>\n",
       "      <td>10174</td>\n",
       "      <td>7300.000</td>\n",
       "      <td>2021-04-07</td>\n",
       "      <td>Wednesday</td>\n",
       "    </tr>\n",
       "    <tr>\n",
       "      <th>1</th>\n",
       "      <td>2021.4.8</td>\n",
       "      <td>1865.11</td>\n",
       "      <td>4829</td>\n",
       "      <td>3460.000</td>\n",
       "      <td>2021-04-08</td>\n",
       "      <td>Thursday</td>\n",
       "    </tr>\n",
       "    <tr>\n",
       "      <th>2</th>\n",
       "      <td>2021.4.9</td>\n",
       "      <td>2406.20</td>\n",
       "      <td>8262</td>\n",
       "      <td>5920.000</td>\n",
       "      <td>2021-04-09</td>\n",
       "      <td>Friday</td>\n",
       "    </tr>\n",
       "    <tr>\n",
       "      <th>3</th>\n",
       "      <td>2021.4.10</td>\n",
       "      <td>2384.56</td>\n",
       "      <td>8864</td>\n",
       "      <td>6350.000</td>\n",
       "      <td>2021-04-10</td>\n",
       "      <td>Saturday</td>\n",
       "    </tr>\n",
       "    <tr>\n",
       "      <th>4</th>\n",
       "      <td>2021.4.11</td>\n",
       "      <td>2456.50</td>\n",
       "      <td>8467</td>\n",
       "      <td>6059.999</td>\n",
       "      <td>2021-04-11</td>\n",
       "      <td>Sunday</td>\n",
       "    </tr>\n",
       "    <tr>\n",
       "      <th>...</th>\n",
       "      <td>...</td>\n",
       "      <td>...</td>\n",
       "      <td>...</td>\n",
       "      <td>...</td>\n",
       "      <td>...</td>\n",
       "      <td>...</td>\n",
       "    </tr>\n",
       "    <tr>\n",
       "      <th>162</th>\n",
       "      <td>2021.11.10</td>\n",
       "      <td>2498.06</td>\n",
       "      <td>7912</td>\n",
       "      <td>5660.000</td>\n",
       "      <td>2021-11-10</td>\n",
       "      <td>Wednesday</td>\n",
       "    </tr>\n",
       "    <tr>\n",
       "      <th>163</th>\n",
       "      <td>2021.11.11</td>\n",
       "      <td>2732.86</td>\n",
       "      <td>12536</td>\n",
       "      <td>9000.000</td>\n",
       "      <td>2021-11-11</td>\n",
       "      <td>Thursday</td>\n",
       "    </tr>\n",
       "    <tr>\n",
       "      <th>164</th>\n",
       "      <td>2021.11.12</td>\n",
       "      <td>2774.22</td>\n",
       "      <td>8985</td>\n",
       "      <td>6450.000</td>\n",
       "      <td>2021-11-12</td>\n",
       "      <td>Friday</td>\n",
       "    </tr>\n",
       "    <tr>\n",
       "      <th>165</th>\n",
       "      <td>2021.11.13</td>\n",
       "      <td>2954.84</td>\n",
       "      <td>10621</td>\n",
       "      <td>7710.000</td>\n",
       "      <td>2021-11-13</td>\n",
       "      <td>Saturday</td>\n",
       "    </tr>\n",
       "    <tr>\n",
       "      <th>166</th>\n",
       "      <td>2021.11.14</td>\n",
       "      <td>1464.48</td>\n",
       "      <td>0</td>\n",
       "      <td>0.000</td>\n",
       "      <td>2021-11-14</td>\n",
       "      <td>Sunday</td>\n",
       "    </tr>\n",
       "  </tbody>\n",
       "</table>\n",
       "<p>167 rows × 6 columns</p>\n",
       "</div>"
      ],
      "text/plain": [
       "           date  calories  steps  distances(m) date_datetime  date_week\n",
       "0      2021.4.7   1744.27  10174      7300.000    2021-04-07  Wednesday\n",
       "1      2021.4.8   1865.11   4829      3460.000    2021-04-08   Thursday\n",
       "2      2021.4.9   2406.20   8262      5920.000    2021-04-09     Friday\n",
       "3     2021.4.10   2384.56   8864      6350.000    2021-04-10   Saturday\n",
       "4     2021.4.11   2456.50   8467      6059.999    2021-04-11     Sunday\n",
       "..          ...       ...    ...           ...           ...        ...\n",
       "162  2021.11.10   2498.06   7912      5660.000    2021-11-10  Wednesday\n",
       "163  2021.11.11   2732.86  12536      9000.000    2021-11-11   Thursday\n",
       "164  2021.11.12   2774.22   8985      6450.000    2021-11-12     Friday\n",
       "165  2021.11.13   2954.84  10621      7710.000    2021-11-13   Saturday\n",
       "166  2021.11.14   1464.48      0         0.000    2021-11-14     Sunday\n",
       "\n",
       "[167 rows x 6 columns]"
      ]
     },
     "execution_count": 63,
     "metadata": {},
     "output_type": "execute_result"
    }
   ],
   "source": [
    "pd.to_datetime(df_n['date'])\n",
    "df_n['date_datetime'] = pd.to_datetime(df_n['date'])\n",
    "df_n['date_week'] =df_n['date_datetime'].dt.day_name()\n",
    "df_n"
   ]
  },
  {
   "cell_type": "code",
   "execution_count": 64,
   "id": "aa41b801",
   "metadata": {},
   "outputs": [
    {
     "data": {
      "text/html": [
       "<div>\n",
       "<style scoped>\n",
       "    .dataframe tbody tr th:only-of-type {\n",
       "        vertical-align: middle;\n",
       "    }\n",
       "\n",
       "    .dataframe tbody tr th {\n",
       "        vertical-align: top;\n",
       "    }\n",
       "\n",
       "    .dataframe thead th {\n",
       "        text-align: right;\n",
       "    }\n",
       "</style>\n",
       "<table border=\"1\" class=\"dataframe\">\n",
       "  <thead>\n",
       "    <tr style=\"text-align: right;\">\n",
       "      <th></th>\n",
       "      <th>date</th>\n",
       "      <th>calories</th>\n",
       "      <th>steps</th>\n",
       "      <th>distances(m)</th>\n",
       "      <th>date_datetime</th>\n",
       "      <th>date_week</th>\n",
       "    </tr>\n",
       "  </thead>\n",
       "  <tbody>\n",
       "    <tr>\n",
       "      <th>0</th>\n",
       "      <td>2021.4.7</td>\n",
       "      <td>1744.27</td>\n",
       "      <td>10174</td>\n",
       "      <td>7300.000</td>\n",
       "      <td>2021-04-07</td>\n",
       "      <td>Wednesday</td>\n",
       "    </tr>\n",
       "    <tr>\n",
       "      <th>1</th>\n",
       "      <td>2021.4.8</td>\n",
       "      <td>1865.11</td>\n",
       "      <td>4829</td>\n",
       "      <td>3460.000</td>\n",
       "      <td>2021-04-08</td>\n",
       "      <td>Thursday</td>\n",
       "    </tr>\n",
       "    <tr>\n",
       "      <th>2</th>\n",
       "      <td>2021.4.9</td>\n",
       "      <td>2406.20</td>\n",
       "      <td>8262</td>\n",
       "      <td>5920.000</td>\n",
       "      <td>2021-04-09</td>\n",
       "      <td>Friday</td>\n",
       "    </tr>\n",
       "    <tr>\n",
       "      <th>3</th>\n",
       "      <td>2021.4.10</td>\n",
       "      <td>2384.56</td>\n",
       "      <td>8864</td>\n",
       "      <td>6350.000</td>\n",
       "      <td>2021-04-10</td>\n",
       "      <td>Saturday</td>\n",
       "    </tr>\n",
       "    <tr>\n",
       "      <th>4</th>\n",
       "      <td>2021.4.11</td>\n",
       "      <td>2456.50</td>\n",
       "      <td>8467</td>\n",
       "      <td>6059.999</td>\n",
       "      <td>2021-04-11</td>\n",
       "      <td>Sunday</td>\n",
       "    </tr>\n",
       "    <tr>\n",
       "      <th>...</th>\n",
       "      <td>...</td>\n",
       "      <td>...</td>\n",
       "      <td>...</td>\n",
       "      <td>...</td>\n",
       "      <td>...</td>\n",
       "      <td>...</td>\n",
       "    </tr>\n",
       "    <tr>\n",
       "      <th>162</th>\n",
       "      <td>2021.11.10</td>\n",
       "      <td>2498.06</td>\n",
       "      <td>7912</td>\n",
       "      <td>5660.000</td>\n",
       "      <td>2021-11-10</td>\n",
       "      <td>Wednesday</td>\n",
       "    </tr>\n",
       "    <tr>\n",
       "      <th>163</th>\n",
       "      <td>2021.11.11</td>\n",
       "      <td>2732.86</td>\n",
       "      <td>12536</td>\n",
       "      <td>9000.000</td>\n",
       "      <td>2021-11-11</td>\n",
       "      <td>Thursday</td>\n",
       "    </tr>\n",
       "    <tr>\n",
       "      <th>164</th>\n",
       "      <td>2021.11.12</td>\n",
       "      <td>2774.22</td>\n",
       "      <td>8985</td>\n",
       "      <td>6450.000</td>\n",
       "      <td>2021-11-12</td>\n",
       "      <td>Friday</td>\n",
       "    </tr>\n",
       "    <tr>\n",
       "      <th>165</th>\n",
       "      <td>2021.11.13</td>\n",
       "      <td>2954.84</td>\n",
       "      <td>10621</td>\n",
       "      <td>7710.000</td>\n",
       "      <td>2021-11-13</td>\n",
       "      <td>Saturday</td>\n",
       "    </tr>\n",
       "    <tr>\n",
       "      <th>166</th>\n",
       "      <td>2021.11.14</td>\n",
       "      <td>1464.48</td>\n",
       "      <td>0</td>\n",
       "      <td>0.000</td>\n",
       "      <td>2021-11-14</td>\n",
       "      <td>Sunday</td>\n",
       "    </tr>\n",
       "  </tbody>\n",
       "</table>\n",
       "<p>167 rows × 6 columns</p>\n",
       "</div>"
      ],
      "text/plain": [
       "           date  calories  steps  distances(m) date_datetime  date_week\n",
       "0      2021.4.7   1744.27  10174      7300.000    2021-04-07  Wednesday\n",
       "1      2021.4.8   1865.11   4829      3460.000    2021-04-08   Thursday\n",
       "2      2021.4.9   2406.20   8262      5920.000    2021-04-09     Friday\n",
       "3     2021.4.10   2384.56   8864      6350.000    2021-04-10   Saturday\n",
       "4     2021.4.11   2456.50   8467      6059.999    2021-04-11     Sunday\n",
       "..          ...       ...    ...           ...           ...        ...\n",
       "162  2021.11.10   2498.06   7912      5660.000    2021-11-10  Wednesday\n",
       "163  2021.11.11   2732.86  12536      9000.000    2021-11-11   Thursday\n",
       "164  2021.11.12   2774.22   8985      6450.000    2021-11-12     Friday\n",
       "165  2021.11.13   2954.84  10621      7710.000    2021-11-13   Saturday\n",
       "166  2021.11.14   1464.48      0         0.000    2021-11-14     Sunday\n",
       "\n",
       "[167 rows x 6 columns]"
      ]
     },
     "execution_count": 64,
     "metadata": {},
     "output_type": "execute_result"
    }
   ],
   "source": [
    "pd.to_datetime(df_n['date'])\n",
    "df_n"
   ]
  },
  {
   "cell_type": "code",
   "execution_count": 65,
   "id": "10d6fece",
   "metadata": {},
   "outputs": [
    {
     "data": {
      "text/html": [
       "<div>\n",
       "<style scoped>\n",
       "    .dataframe tbody tr th:only-of-type {\n",
       "        vertical-align: middle;\n",
       "    }\n",
       "\n",
       "    .dataframe tbody tr th {\n",
       "        vertical-align: top;\n",
       "    }\n",
       "\n",
       "    .dataframe thead th {\n",
       "        text-align: right;\n",
       "    }\n",
       "</style>\n",
       "<table border=\"1\" class=\"dataframe\">\n",
       "  <thead>\n",
       "    <tr style=\"text-align: right;\">\n",
       "      <th></th>\n",
       "      <th>date</th>\n",
       "      <th>calories</th>\n",
       "      <th>steps</th>\n",
       "      <th>distances(m)</th>\n",
       "      <th>date_week</th>\n",
       "    </tr>\n",
       "  </thead>\n",
       "  <tbody>\n",
       "    <tr>\n",
       "      <th>0</th>\n",
       "      <td>2021.4.7</td>\n",
       "      <td>1744.27</td>\n",
       "      <td>10174</td>\n",
       "      <td>7300.000</td>\n",
       "      <td>Wednesday</td>\n",
       "    </tr>\n",
       "    <tr>\n",
       "      <th>1</th>\n",
       "      <td>2021.4.8</td>\n",
       "      <td>1865.11</td>\n",
       "      <td>4829</td>\n",
       "      <td>3460.000</td>\n",
       "      <td>Thursday</td>\n",
       "    </tr>\n",
       "    <tr>\n",
       "      <th>2</th>\n",
       "      <td>2021.4.9</td>\n",
       "      <td>2406.20</td>\n",
       "      <td>8262</td>\n",
       "      <td>5920.000</td>\n",
       "      <td>Friday</td>\n",
       "    </tr>\n",
       "    <tr>\n",
       "      <th>3</th>\n",
       "      <td>2021.4.10</td>\n",
       "      <td>2384.56</td>\n",
       "      <td>8864</td>\n",
       "      <td>6350.000</td>\n",
       "      <td>Saturday</td>\n",
       "    </tr>\n",
       "    <tr>\n",
       "      <th>4</th>\n",
       "      <td>2021.4.11</td>\n",
       "      <td>2456.50</td>\n",
       "      <td>8467</td>\n",
       "      <td>6059.999</td>\n",
       "      <td>Sunday</td>\n",
       "    </tr>\n",
       "    <tr>\n",
       "      <th>...</th>\n",
       "      <td>...</td>\n",
       "      <td>...</td>\n",
       "      <td>...</td>\n",
       "      <td>...</td>\n",
       "      <td>...</td>\n",
       "    </tr>\n",
       "    <tr>\n",
       "      <th>162</th>\n",
       "      <td>2021.11.10</td>\n",
       "      <td>2498.06</td>\n",
       "      <td>7912</td>\n",
       "      <td>5660.000</td>\n",
       "      <td>Wednesday</td>\n",
       "    </tr>\n",
       "    <tr>\n",
       "      <th>163</th>\n",
       "      <td>2021.11.11</td>\n",
       "      <td>2732.86</td>\n",
       "      <td>12536</td>\n",
       "      <td>9000.000</td>\n",
       "      <td>Thursday</td>\n",
       "    </tr>\n",
       "    <tr>\n",
       "      <th>164</th>\n",
       "      <td>2021.11.12</td>\n",
       "      <td>2774.22</td>\n",
       "      <td>8985</td>\n",
       "      <td>6450.000</td>\n",
       "      <td>Friday</td>\n",
       "    </tr>\n",
       "    <tr>\n",
       "      <th>165</th>\n",
       "      <td>2021.11.13</td>\n",
       "      <td>2954.84</td>\n",
       "      <td>10621</td>\n",
       "      <td>7710.000</td>\n",
       "      <td>Saturday</td>\n",
       "    </tr>\n",
       "    <tr>\n",
       "      <th>166</th>\n",
       "      <td>2021.11.14</td>\n",
       "      <td>1464.48</td>\n",
       "      <td>0</td>\n",
       "      <td>0.000</td>\n",
       "      <td>Sunday</td>\n",
       "    </tr>\n",
       "  </tbody>\n",
       "</table>\n",
       "<p>167 rows × 5 columns</p>\n",
       "</div>"
      ],
      "text/plain": [
       "           date  calories  steps  distances(m)  date_week\n",
       "0      2021.4.7   1744.27  10174      7300.000  Wednesday\n",
       "1      2021.4.8   1865.11   4829      3460.000   Thursday\n",
       "2      2021.4.9   2406.20   8262      5920.000     Friday\n",
       "3     2021.4.10   2384.56   8864      6350.000   Saturday\n",
       "4     2021.4.11   2456.50   8467      6059.999     Sunday\n",
       "..          ...       ...    ...           ...        ...\n",
       "162  2021.11.10   2498.06   7912      5660.000  Wednesday\n",
       "163  2021.11.11   2732.86  12536      9000.000   Thursday\n",
       "164  2021.11.12   2774.22   8985      6450.000     Friday\n",
       "165  2021.11.13   2954.84  10621      7710.000   Saturday\n",
       "166  2021.11.14   1464.48      0         0.000     Sunday\n",
       "\n",
       "[167 rows x 5 columns]"
      ]
     },
     "execution_count": 65,
     "metadata": {},
     "output_type": "execute_result"
    }
   ],
   "source": [
    "df_n.drop(['date_datetime'],axis=1)"
   ]
  },
  {
   "cell_type": "code",
   "execution_count": 69,
   "id": "61d7cacc",
   "metadata": {},
   "outputs": [
    {
     "data": {
      "text/html": [
       "<div>\n",
       "<style scoped>\n",
       "    .dataframe tbody tr th:only-of-type {\n",
       "        vertical-align: middle;\n",
       "    }\n",
       "\n",
       "    .dataframe tbody tr th {\n",
       "        vertical-align: top;\n",
       "    }\n",
       "\n",
       "    .dataframe thead th {\n",
       "        text-align: right;\n",
       "    }\n",
       "</style>\n",
       "<table border=\"1\" class=\"dataframe\">\n",
       "  <thead>\n",
       "    <tr style=\"text-align: right;\">\n",
       "      <th></th>\n",
       "      <th>calories</th>\n",
       "      <th>steps</th>\n",
       "      <th>distances(m)</th>\n",
       "    </tr>\n",
       "    <tr>\n",
       "      <th>date_week</th>\n",
       "      <th></th>\n",
       "      <th></th>\n",
       "      <th></th>\n",
       "    </tr>\n",
       "  </thead>\n",
       "  <tbody>\n",
       "    <tr>\n",
       "      <th>Friday</th>\n",
       "      <td>1988.057917</td>\n",
       "      <td>5229.500000</td>\n",
       "      <td>3746.250000</td>\n",
       "    </tr>\n",
       "    <tr>\n",
       "      <th>Monday</th>\n",
       "      <td>1771.546667</td>\n",
       "      <td>3556.750000</td>\n",
       "      <td>2552.916708</td>\n",
       "    </tr>\n",
       "    <tr>\n",
       "      <th>Saturday</th>\n",
       "      <td>1716.314592</td>\n",
       "      <td>2974.625000</td>\n",
       "      <td>2134.166625</td>\n",
       "    </tr>\n",
       "    <tr>\n",
       "      <th>Sunday</th>\n",
       "      <td>1767.989583</td>\n",
       "      <td>2920.333333</td>\n",
       "      <td>2082.083333</td>\n",
       "    </tr>\n",
       "    <tr>\n",
       "      <th>Thursday</th>\n",
       "      <td>1895.617826</td>\n",
       "      <td>4409.652174</td>\n",
       "      <td>3188.260870</td>\n",
       "    </tr>\n",
       "    <tr>\n",
       "      <th>Tuesday</th>\n",
       "      <td>1850.301250</td>\n",
       "      <td>4159.416667</td>\n",
       "      <td>2994.583292</td>\n",
       "    </tr>\n",
       "    <tr>\n",
       "      <th>Wednesday</th>\n",
       "      <td>1812.871250</td>\n",
       "      <td>4368.666667</td>\n",
       "      <td>3134.583333</td>\n",
       "    </tr>\n",
       "  </tbody>\n",
       "</table>\n",
       "</div>"
      ],
      "text/plain": [
       "              calories        steps  distances(m)\n",
       "date_week                                        \n",
       "Friday     1988.057917  5229.500000   3746.250000\n",
       "Monday     1771.546667  3556.750000   2552.916708\n",
       "Saturday   1716.314592  2974.625000   2134.166625\n",
       "Sunday     1767.989583  2920.333333   2082.083333\n",
       "Thursday   1895.617826  4409.652174   3188.260870\n",
       "Tuesday    1850.301250  4159.416667   2994.583292\n",
       "Wednesday  1812.871250  4368.666667   3134.583333"
      ]
     },
     "execution_count": 69,
     "metadata": {},
     "output_type": "execute_result"
    }
   ],
   "source": [
    "df_week0 = df_n.groupby('date_week').mean()\n",
    "df_week0"
   ]
  },
  {
   "cell_type": "code",
   "execution_count": 70,
   "id": "be6a2fa9",
   "metadata": {},
   "outputs": [
    {
     "data": {
      "text/html": [
       "<div>\n",
       "<style scoped>\n",
       "    .dataframe tbody tr th:only-of-type {\n",
       "        vertical-align: middle;\n",
       "    }\n",
       "\n",
       "    .dataframe tbody tr th {\n",
       "        vertical-align: top;\n",
       "    }\n",
       "\n",
       "    .dataframe thead th {\n",
       "        text-align: right;\n",
       "    }\n",
       "</style>\n",
       "<table border=\"1\" class=\"dataframe\">\n",
       "  <thead>\n",
       "    <tr style=\"text-align: right;\">\n",
       "      <th></th>\n",
       "      <th>calories</th>\n",
       "      <th>steps</th>\n",
       "      <th>distances(m)</th>\n",
       "    </tr>\n",
       "    <tr>\n",
       "      <th>date_week</th>\n",
       "      <th></th>\n",
       "      <th></th>\n",
       "      <th></th>\n",
       "    </tr>\n",
       "  </thead>\n",
       "  <tbody>\n",
       "    <tr>\n",
       "      <th>Monday</th>\n",
       "      <td>1771.546667</td>\n",
       "      <td>3556.750000</td>\n",
       "      <td>2552.916708</td>\n",
       "    </tr>\n",
       "    <tr>\n",
       "      <th>Tuesday</th>\n",
       "      <td>1850.301250</td>\n",
       "      <td>4159.416667</td>\n",
       "      <td>2994.583292</td>\n",
       "    </tr>\n",
       "    <tr>\n",
       "      <th>Wednesday</th>\n",
       "      <td>1812.871250</td>\n",
       "      <td>4368.666667</td>\n",
       "      <td>3134.583333</td>\n",
       "    </tr>\n",
       "    <tr>\n",
       "      <th>Thursday</th>\n",
       "      <td>1895.617826</td>\n",
       "      <td>4409.652174</td>\n",
       "      <td>3188.260870</td>\n",
       "    </tr>\n",
       "    <tr>\n",
       "      <th>Friday</th>\n",
       "      <td>1988.057917</td>\n",
       "      <td>5229.500000</td>\n",
       "      <td>3746.250000</td>\n",
       "    </tr>\n",
       "    <tr>\n",
       "      <th>Saturday</th>\n",
       "      <td>1716.314592</td>\n",
       "      <td>2974.625000</td>\n",
       "      <td>2134.166625</td>\n",
       "    </tr>\n",
       "    <tr>\n",
       "      <th>Sunday</th>\n",
       "      <td>1767.989583</td>\n",
       "      <td>2920.333333</td>\n",
       "      <td>2082.083333</td>\n",
       "    </tr>\n",
       "  </tbody>\n",
       "</table>\n",
       "</div>"
      ],
      "text/plain": [
       "              calories        steps  distances(m)\n",
       "date_week                                        \n",
       "Monday     1771.546667  3556.750000   2552.916708\n",
       "Tuesday    1850.301250  4159.416667   2994.583292\n",
       "Wednesday  1812.871250  4368.666667   3134.583333\n",
       "Thursday   1895.617826  4409.652174   3188.260870\n",
       "Friday     1988.057917  5229.500000   3746.250000\n",
       "Saturday   1716.314592  2974.625000   2134.166625\n",
       "Sunday     1767.989583  2920.333333   2082.083333"
      ]
     },
     "execution_count": 70,
     "metadata": {},
     "output_type": "execute_result"
    }
   ],
   "source": [
    "df_week0=df_week0.reindex(index=['Monday','Tuesday','Wednesday','Thursday','Friday','Saturday','Sunday'])\n",
    "df_week0"
   ]
  },
  {
   "cell_type": "code",
   "execution_count": 71,
   "id": "2b946476",
   "metadata": {},
   "outputs": [
    {
     "data": {
      "text/html": [
       "<div>\n",
       "<style scoped>\n",
       "    .dataframe tbody tr th:only-of-type {\n",
       "        vertical-align: middle;\n",
       "    }\n",
       "\n",
       "    .dataframe tbody tr th {\n",
       "        vertical-align: top;\n",
       "    }\n",
       "\n",
       "    .dataframe thead th {\n",
       "        text-align: right;\n",
       "    }\n",
       "</style>\n",
       "<table border=\"1\" class=\"dataframe\">\n",
       "  <thead>\n",
       "    <tr style=\"text-align: right;\">\n",
       "      <th></th>\n",
       "      <th>calories</th>\n",
       "      <th>steps</th>\n",
       "      <th>distances(m)</th>\n",
       "    </tr>\n",
       "    <tr>\n",
       "      <th>date_week</th>\n",
       "      <th></th>\n",
       "      <th></th>\n",
       "      <th></th>\n",
       "    </tr>\n",
       "  </thead>\n",
       "  <tbody>\n",
       "    <tr>\n",
       "      <th>Mon</th>\n",
       "      <td>1771.546667</td>\n",
       "      <td>3556.750000</td>\n",
       "      <td>2552.916708</td>\n",
       "    </tr>\n",
       "    <tr>\n",
       "      <th>Tue</th>\n",
       "      <td>1850.301250</td>\n",
       "      <td>4159.416667</td>\n",
       "      <td>2994.583292</td>\n",
       "    </tr>\n",
       "    <tr>\n",
       "      <th>Wed</th>\n",
       "      <td>1812.871250</td>\n",
       "      <td>4368.666667</td>\n",
       "      <td>3134.583333</td>\n",
       "    </tr>\n",
       "    <tr>\n",
       "      <th>Thu</th>\n",
       "      <td>1895.617826</td>\n",
       "      <td>4409.652174</td>\n",
       "      <td>3188.260870</td>\n",
       "    </tr>\n",
       "    <tr>\n",
       "      <th>Fri</th>\n",
       "      <td>1988.057917</td>\n",
       "      <td>5229.500000</td>\n",
       "      <td>3746.250000</td>\n",
       "    </tr>\n",
       "    <tr>\n",
       "      <th>Sat</th>\n",
       "      <td>1716.314592</td>\n",
       "      <td>2974.625000</td>\n",
       "      <td>2134.166625</td>\n",
       "    </tr>\n",
       "    <tr>\n",
       "      <th>Sun</th>\n",
       "      <td>1767.989583</td>\n",
       "      <td>2920.333333</td>\n",
       "      <td>2082.083333</td>\n",
       "    </tr>\n",
       "  </tbody>\n",
       "</table>\n",
       "</div>"
      ],
      "text/plain": [
       "              calories        steps  distances(m)\n",
       "date_week                                        \n",
       "Mon        1771.546667  3556.750000   2552.916708\n",
       "Tue        1850.301250  4159.416667   2994.583292\n",
       "Wed        1812.871250  4368.666667   3134.583333\n",
       "Thu        1895.617826  4409.652174   3188.260870\n",
       "Fri        1988.057917  5229.500000   3746.250000\n",
       "Sat        1716.314592  2974.625000   2134.166625\n",
       "Sun        1767.989583  2920.333333   2082.083333"
      ]
     },
     "execution_count": 71,
     "metadata": {},
     "output_type": "execute_result"
    }
   ],
   "source": [
    "df_week0=df_week0.rename(index={'Monday':'Mon','Tuesday':'Tue','Wednesday':'Wed','Thursday':'Thu','Friday':'Fri','Saturday':'Sat','Sunday':'Sun'})\n",
    "df_week0"
   ]
  },
  {
   "cell_type": "code",
   "execution_count": 72,
   "id": "b79a92d2",
   "metadata": {},
   "outputs": [
    {
     "data": {
      "text/html": [
       "<div>\n",
       "<style scoped>\n",
       "    .dataframe tbody tr th:only-of-type {\n",
       "        vertical-align: middle;\n",
       "    }\n",
       "\n",
       "    .dataframe tbody tr th {\n",
       "        vertical-align: top;\n",
       "    }\n",
       "\n",
       "    .dataframe thead th {\n",
       "        text-align: right;\n",
       "    }\n",
       "</style>\n",
       "<table border=\"1\" class=\"dataframe\">\n",
       "  <thead>\n",
       "    <tr style=\"text-align: right;\">\n",
       "      <th></th>\n",
       "      <th>calories</th>\n",
       "      <th>steps</th>\n",
       "      <th>distances(m)</th>\n",
       "    </tr>\n",
       "    <tr>\n",
       "      <th>date_week</th>\n",
       "      <th></th>\n",
       "      <th></th>\n",
       "      <th></th>\n",
       "    </tr>\n",
       "  </thead>\n",
       "  <tbody>\n",
       "    <tr>\n",
       "      <th>Mon</th>\n",
       "      <td>1771.546667</td>\n",
       "      <td>3556.750000</td>\n",
       "      <td>2552.916708</td>\n",
       "    </tr>\n",
       "    <tr>\n",
       "      <th>Tue</th>\n",
       "      <td>1850.301250</td>\n",
       "      <td>4159.416667</td>\n",
       "      <td>2994.583292</td>\n",
       "    </tr>\n",
       "    <tr>\n",
       "      <th>Wed</th>\n",
       "      <td>1812.871250</td>\n",
       "      <td>4368.666667</td>\n",
       "      <td>3134.583333</td>\n",
       "    </tr>\n",
       "    <tr>\n",
       "      <th>Thu</th>\n",
       "      <td>1895.617826</td>\n",
       "      <td>4409.652174</td>\n",
       "      <td>3188.260870</td>\n",
       "    </tr>\n",
       "    <tr>\n",
       "      <th>Fri</th>\n",
       "      <td>1988.057917</td>\n",
       "      <td>5229.500000</td>\n",
       "      <td>3746.250000</td>\n",
       "    </tr>\n",
       "    <tr>\n",
       "      <th>Sat</th>\n",
       "      <td>1716.314592</td>\n",
       "      <td>2974.625000</td>\n",
       "      <td>2134.166625</td>\n",
       "    </tr>\n",
       "    <tr>\n",
       "      <th>Sun</th>\n",
       "      <td>1767.989583</td>\n",
       "      <td>2920.333333</td>\n",
       "      <td>2082.083333</td>\n",
       "    </tr>\n",
       "  </tbody>\n",
       "</table>\n",
       "</div>"
      ],
      "text/plain": [
       "              calories        steps  distances(m)\n",
       "date_week                                        \n",
       "Mon        1771.546667  3556.750000   2552.916708\n",
       "Tue        1850.301250  4159.416667   2994.583292\n",
       "Wed        1812.871250  4368.666667   3134.583333\n",
       "Thu        1895.617826  4409.652174   3188.260870\n",
       "Fri        1988.057917  5229.500000   3746.250000\n",
       "Sat        1716.314592  2974.625000   2134.166625\n",
       "Sun        1767.989583  2920.333333   2082.083333"
      ]
     },
     "execution_count": 72,
     "metadata": {},
     "output_type": "execute_result"
    }
   ],
   "source": [
    "df_week0=DataFrame(df_week0)\n",
    "df_week0"
   ]
  },
  {
   "cell_type": "code",
   "execution_count": 73,
   "id": "8f8d3f77",
   "metadata": {},
   "outputs": [
    {
     "data": {
      "text/html": [
       "<div>\n",
       "<style scoped>\n",
       "    .dataframe tbody tr th:only-of-type {\n",
       "        vertical-align: middle;\n",
       "    }\n",
       "\n",
       "    .dataframe tbody tr th {\n",
       "        vertical-align: top;\n",
       "    }\n",
       "\n",
       "    .dataframe thead th {\n",
       "        text-align: right;\n",
       "    }\n",
       "</style>\n",
       "<table border=\"1\" class=\"dataframe\">\n",
       "  <thead>\n",
       "    <tr style=\"text-align: right;\">\n",
       "      <th></th>\n",
       "      <th>calories</th>\n",
       "      <th>steps</th>\n",
       "      <th>distances(m)</th>\n",
       "    </tr>\n",
       "  </thead>\n",
       "  <tbody>\n",
       "    <tr>\n",
       "      <th>count</th>\n",
       "      <td>7.000000</td>\n",
       "      <td>7.000000</td>\n",
       "      <td>7.000000</td>\n",
       "    </tr>\n",
       "    <tr>\n",
       "      <th>mean</th>\n",
       "      <td>1828.957012</td>\n",
       "      <td>3945.563406</td>\n",
       "      <td>2833.263452</td>\n",
       "    </tr>\n",
       "    <tr>\n",
       "      <th>std</th>\n",
       "      <td>91.444318</td>\n",
       "      <td>840.001498</td>\n",
       "      <td>606.628333</td>\n",
       "    </tr>\n",
       "    <tr>\n",
       "      <th>min</th>\n",
       "      <td>1716.314592</td>\n",
       "      <td>2920.333333</td>\n",
       "      <td>2082.083333</td>\n",
       "    </tr>\n",
       "    <tr>\n",
       "      <th>25%</th>\n",
       "      <td>1769.768125</td>\n",
       "      <td>3265.687500</td>\n",
       "      <td>2343.541667</td>\n",
       "    </tr>\n",
       "    <tr>\n",
       "      <th>50%</th>\n",
       "      <td>1812.871250</td>\n",
       "      <td>4159.416667</td>\n",
       "      <td>2994.583292</td>\n",
       "    </tr>\n",
       "    <tr>\n",
       "      <th>75%</th>\n",
       "      <td>1872.959538</td>\n",
       "      <td>4389.159420</td>\n",
       "      <td>3161.422101</td>\n",
       "    </tr>\n",
       "    <tr>\n",
       "      <th>max</th>\n",
       "      <td>1988.057917</td>\n",
       "      <td>5229.500000</td>\n",
       "      <td>3746.250000</td>\n",
       "    </tr>\n",
       "  </tbody>\n",
       "</table>\n",
       "</div>"
      ],
      "text/plain": [
       "          calories        steps  distances(m)\n",
       "count     7.000000     7.000000      7.000000\n",
       "mean   1828.957012  3945.563406   2833.263452\n",
       "std      91.444318   840.001498    606.628333\n",
       "min    1716.314592  2920.333333   2082.083333\n",
       "25%    1769.768125  3265.687500   2343.541667\n",
       "50%    1812.871250  4159.416667   2994.583292\n",
       "75%    1872.959538  4389.159420   3161.422101\n",
       "max    1988.057917  5229.500000   3746.250000"
      ]
     },
     "execution_count": 73,
     "metadata": {},
     "output_type": "execute_result"
    }
   ],
   "source": [
    "df_week0.describe()"
   ]
  },
  {
   "cell_type": "code",
   "execution_count": 78,
   "id": "90c7c57c",
   "metadata": {},
   "outputs": [],
   "source": [
    "x0 = df_week0.index\n",
    "y01 = df_week0['calories']\n",
    "y02 = df_week0['distances(m)']\n",
    "y03 = df_week0['steps']"
   ]
  },
  {
   "cell_type": "code",
   "execution_count": 79,
   "id": "224da268",
   "metadata": {},
   "outputs": [
    {
     "data": {
      "text/plain": [
       "<matplotlib.legend.Legend at 0x1b7e9ee0130>"
      ]
     },
     "execution_count": 79,
     "metadata": {},
     "output_type": "execute_result"
    },
    {
     "data": {
      "image/png": "[encoded data removed]",
      "text/plain": [
       "<Figure size 432x288 with 1 Axes>"
      ]
     },
     "metadata": {
      "needs_background": "light"
     },
     "output_type": "display_data"
    },
    {
     "data": {
      "text/plain": [
       "<Figure size 432x288 with 0 Axes>"
      ]
     },
     "metadata": {},
     "output_type": "display_data"
    }
   ],
   "source": [
    "fig, ax = plt.subplots() \n",
    "width = 0.75\n",
    "plt.figure()\n",
    "ax.bar(x0, y01, width, color=\"skyblue\",label='calories')\n",
    "ax.set_ylim(1700,2100)\n",
    "\n",
    "for v, i in enumerate(y01):\n",
    "    ax.text(v-.40, i+8, str(round(i,1)), color='gray', fontweight='bold')\n",
    "\n",
    "ax.legend()"
   ]
  },
  {
   "cell_type": "code",
   "execution_count": 92,
   "id": "8159a2aa",
   "metadata": {},
   "outputs": [
    {
     "data": {
      "text/plain": [
       "<matplotlib.legend.Legend at 0x1b7eb4e1130>"
      ]
     },
     "execution_count": 92,
     "metadata": {},
     "output_type": "execute_result"
    },
    {
     "data": {
      "image/png": "[encoded data removed]",
      "text/plain": [
       "<Figure size 432x288 with 1 Axes>"
      ]
     },
     "metadata": {
      "needs_background": "light"
     },
     "output_type": "display_data"
    },
    {
     "data": {
      "text/plain": [
       "<Figure size 432x288 with 0 Axes>"
      ]
     },
     "metadata": {},
     "output_type": "display_data"
    }
   ],
   "source": [
    "fig, ax = plt.subplots() \n",
    "width = 0.75\n",
    "plt.figure()\n",
    "ax.bar(x0, y02, width, color=\"khaki\",label='distances(m)')\n",
    "ax.set_ylim(2000,4000)\n",
    "\n",
    "for v, i in enumerate(y02):\n",
    "    ax.text(v-.40, i+50, str(round(i,1)), color='gray', fontweight='bold')\n",
    "\n",
    "ax.legend()"
   ]
  },
  {
   "cell_type": "code",
   "execution_count": 91,
   "id": "4f19948e",
   "metadata": {},
   "outputs": [
    {
     "data": {
      "text/plain": [
       "<matplotlib.legend.Legend at 0x1b7ea491430>"
      ]
     },
     "execution_count": 91,
     "metadata": {},
     "output_type": "execute_result"
    },
    {
     "data": {
      "image/png": "[encoded data removed]",
      "text/plain": [
       "<Figure size 432x288 with 1 Axes>"
      ]
     },
     "metadata": {
      "needs_background": "light"
     },
     "output_type": "display_data"
    },
    {
     "data": {
      "text/plain": [
       "<Figure size 432x288 with 0 Axes>"
      ]
     },
     "metadata": {},
     "output_type": "display_data"
    }
   ],
   "source": [
    "fig, ax = plt.subplots() \n",
    "width = 0.75\n",
    "plt.figure()\n",
    "ax.bar(x0, y03, width, color=\"pink\",label='steps')\n",
    "ax.set_ylim(2800,6000)\n",
    "\n",
    "for v, i in enumerate(y03):\n",
    "    ax.text(v-.40, i+50, str(round(i,1)), color='gray', fontweight='bold')\n",
    "\n",
    "ax.legend()"
   ]
  },
  {
   "cell_type": "code",
   "execution_count": null,
   "id": "8978d8b6",
   "metadata": {},
   "outputs": [],
   "source": []
  }
 ],
 "metadata": {
  "kernelspec": {
   "display_name": "Python 3 (ipykernel)",
   "language": "python",
   "name": "python3"
  },
  "language_info": {
   "codemirror_mode": {
    "name": "ipython",
    "version": 3
   },
   "file_extension": ".py",
   "mimetype": "text/x-python",
   "name": "python",
   "nbconvert_exporter": "python",
   "pygments_lexer": "ipython3",
   "version": "3.9.7"
  }
 },
 "nbformat": 4,
 "nbformat_minor": 5
}
