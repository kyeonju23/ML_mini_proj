{
 "cells": [
  {
   "cell_type": "markdown",
   "id": "706a1165",
   "metadata": {},
   "source": [
    "# DL_mini project #3"
   ]
  },
  {
   "cell_type": "code",
   "execution_count": 1,
   "id": "e9cd6f57",
   "metadata": {},
   "outputs": [],
   "source": [
    "# Python ≥3.5 is required\n",
    "import sys\n",
    "assert sys.version_info >= (3, 5)\n",
    "\n",
    "# Scikit-Learn ≥0.20 is required\n",
    "import sklearn\n",
    "assert sklearn.__version__ >= \"0.20\"\n",
    "\n",
    "try:\n",
    "    # %tensorflow_version only exists in Colab.\n",
    "    %tensorflow_version 2.x\n",
    "except Exception:\n",
    "    pass\n",
    "\n",
    "# TensorFlow ≥2.0 is required\n",
    "import tensorflow as tf\n",
    "from tensorflow import keras\n",
    "assert tf.__version__ >= \"2.0\"\n",
    "\n",
    "%load_ext tensorboard\n",
    "\n",
    "# Common imports\n",
    "import numpy as np\n",
    "import os\n",
    "\n",
    "# to make this notebook's output stable across runs\n",
    "np.random.seed(42)\n",
    "\n",
    "# To plot pretty figures\n",
    "%matplotlib inline"
   ]
  },
  {
   "cell_type": "code",
   "execution_count": 2,
   "id": "d3ba8314",
   "metadata": {},
   "outputs": [],
   "source": [
    "import pandas as pd\n",
    "kc_house = pd.read_csv('../../DL/data/kc_house_data.csv')"
   ]
  },
  {
   "cell_type": "code",
   "execution_count": 3,
   "id": "5ea83489",
   "metadata": {},
   "outputs": [],
   "source": [
    "from sklearn.utils import shuffle\n",
    "kc_house = shuffle(kc_house, random_state = 42)"
   ]
  },
  {
   "cell_type": "code",
   "execution_count": 4,
   "id": "f793ce5c",
   "metadata": {},
   "outputs": [
    {
     "data": {
      "text/html": [
       "<div>\n",
       "<style scoped>\n",
       "    .dataframe tbody tr th:only-of-type {\n",
       "        vertical-align: middle;\n",
       "    }\n",
       "\n",
       "    .dataframe tbody tr th {\n",
       "        vertical-align: top;\n",
       "    }\n",
       "\n",
       "    .dataframe thead th {\n",
       "        text-align: right;\n",
       "    }\n",
       "</style>\n",
       "<table border=\"1\" class=\"dataframe\">\n",
       "  <thead>\n",
       "    <tr style=\"text-align: right;\">\n",
       "      <th></th>\n",
       "      <th>price</th>\n",
       "      <th>bedrooms</th>\n",
       "      <th>bathrooms</th>\n",
       "      <th>sqft_living</th>\n",
       "      <th>sqft_lot</th>\n",
       "      <th>floors</th>\n",
       "      <th>waterfront</th>\n",
       "      <th>view</th>\n",
       "      <th>condition</th>\n",
       "      <th>grade</th>\n",
       "      <th>sqft_above</th>\n",
       "      <th>sqft_basement</th>\n",
       "      <th>yr_built</th>\n",
       "      <th>yr_renovated</th>\n",
       "      <th>zipcode</th>\n",
       "      <th>lat</th>\n",
       "      <th>long</th>\n",
       "      <th>sqft_living15</th>\n",
       "      <th>sqft_lot15</th>\n",
       "      <th>year</th>\n",
       "    </tr>\n",
       "  </thead>\n",
       "  <tbody>\n",
       "    <tr>\n",
       "      <th>735</th>\n",
       "      <td>365000.0</td>\n",
       "      <td>4</td>\n",
       "      <td>2.25</td>\n",
       "      <td>2070</td>\n",
       "      <td>8893</td>\n",
       "      <td>2.0</td>\n",
       "      <td>0</td>\n",
       "      <td>0</td>\n",
       "      <td>4</td>\n",
       "      <td>8</td>\n",
       "      <td>2070</td>\n",
       "      <td>0</td>\n",
       "      <td>1986</td>\n",
       "      <td>0</td>\n",
       "      <td>98058</td>\n",
       "      <td>47.4388</td>\n",
       "      <td>-122.162</td>\n",
       "      <td>2390</td>\n",
       "      <td>7700</td>\n",
       "      <td>2014</td>\n",
       "    </tr>\n",
       "    <tr>\n",
       "      <th>2830</th>\n",
       "      <td>865000.0</td>\n",
       "      <td>5</td>\n",
       "      <td>3.00</td>\n",
       "      <td>2900</td>\n",
       "      <td>6730</td>\n",
       "      <td>1.0</td>\n",
       "      <td>0</td>\n",
       "      <td>0</td>\n",
       "      <td>5</td>\n",
       "      <td>8</td>\n",
       "      <td>1830</td>\n",
       "      <td>1070</td>\n",
       "      <td>1977</td>\n",
       "      <td>0</td>\n",
       "      <td>98115</td>\n",
       "      <td>47.6784</td>\n",
       "      <td>-122.285</td>\n",
       "      <td>2370</td>\n",
       "      <td>6283</td>\n",
       "      <td>2014</td>\n",
       "    </tr>\n",
       "    <tr>\n",
       "      <th>4106</th>\n",
       "      <td>1038000.0</td>\n",
       "      <td>4</td>\n",
       "      <td>2.50</td>\n",
       "      <td>3770</td>\n",
       "      <td>10893</td>\n",
       "      <td>2.0</td>\n",
       "      <td>0</td>\n",
       "      <td>2</td>\n",
       "      <td>3</td>\n",
       "      <td>11</td>\n",
       "      <td>3770</td>\n",
       "      <td>0</td>\n",
       "      <td>1997</td>\n",
       "      <td>0</td>\n",
       "      <td>98006</td>\n",
       "      <td>47.5646</td>\n",
       "      <td>-122.129</td>\n",
       "      <td>3710</td>\n",
       "      <td>9685</td>\n",
       "      <td>2014</td>\n",
       "    </tr>\n",
       "    <tr>\n",
       "      <th>16218</th>\n",
       "      <td>1490000.0</td>\n",
       "      <td>3</td>\n",
       "      <td>3.50</td>\n",
       "      <td>4560</td>\n",
       "      <td>14608</td>\n",
       "      <td>2.0</td>\n",
       "      <td>0</td>\n",
       "      <td>2</td>\n",
       "      <td>3</td>\n",
       "      <td>12</td>\n",
       "      <td>4560</td>\n",
       "      <td>0</td>\n",
       "      <td>1990</td>\n",
       "      <td>0</td>\n",
       "      <td>98034</td>\n",
       "      <td>47.6995</td>\n",
       "      <td>-122.228</td>\n",
       "      <td>4050</td>\n",
       "      <td>14226</td>\n",
       "      <td>2015</td>\n",
       "    </tr>\n",
       "    <tr>\n",
       "      <th>19964</th>\n",
       "      <td>711000.0</td>\n",
       "      <td>3</td>\n",
       "      <td>2.50</td>\n",
       "      <td>2550</td>\n",
       "      <td>5376</td>\n",
       "      <td>2.0</td>\n",
       "      <td>0</td>\n",
       "      <td>0</td>\n",
       "      <td>3</td>\n",
       "      <td>9</td>\n",
       "      <td>2550</td>\n",
       "      <td>0</td>\n",
       "      <td>2004</td>\n",
       "      <td>0</td>\n",
       "      <td>98052</td>\n",
       "      <td>47.6647</td>\n",
       "      <td>-122.083</td>\n",
       "      <td>2250</td>\n",
       "      <td>4050</td>\n",
       "      <td>2014</td>\n",
       "    </tr>\n",
       "    <tr>\n",
       "      <th>...</th>\n",
       "      <td>...</td>\n",
       "      <td>...</td>\n",
       "      <td>...</td>\n",
       "      <td>...</td>\n",
       "      <td>...</td>\n",
       "      <td>...</td>\n",
       "      <td>...</td>\n",
       "      <td>...</td>\n",
       "      <td>...</td>\n",
       "      <td>...</td>\n",
       "      <td>...</td>\n",
       "      <td>...</td>\n",
       "      <td>...</td>\n",
       "      <td>...</td>\n",
       "      <td>...</td>\n",
       "      <td>...</td>\n",
       "      <td>...</td>\n",
       "      <td>...</td>\n",
       "      <td>...</td>\n",
       "      <td>...</td>\n",
       "    </tr>\n",
       "    <tr>\n",
       "      <th>11964</th>\n",
       "      <td>378000.0</td>\n",
       "      <td>3</td>\n",
       "      <td>1.50</td>\n",
       "      <td>1000</td>\n",
       "      <td>6914</td>\n",
       "      <td>1.0</td>\n",
       "      <td>0</td>\n",
       "      <td>0</td>\n",
       "      <td>3</td>\n",
       "      <td>7</td>\n",
       "      <td>1000</td>\n",
       "      <td>0</td>\n",
       "      <td>1947</td>\n",
       "      <td>0</td>\n",
       "      <td>98125</td>\n",
       "      <td>47.7144</td>\n",
       "      <td>-122.319</td>\n",
       "      <td>1000</td>\n",
       "      <td>6947</td>\n",
       "      <td>2014</td>\n",
       "    </tr>\n",
       "    <tr>\n",
       "      <th>21575</th>\n",
       "      <td>399950.0</td>\n",
       "      <td>3</td>\n",
       "      <td>2.50</td>\n",
       "      <td>3087</td>\n",
       "      <td>5002</td>\n",
       "      <td>2.0</td>\n",
       "      <td>0</td>\n",
       "      <td>0</td>\n",
       "      <td>3</td>\n",
       "      <td>8</td>\n",
       "      <td>3087</td>\n",
       "      <td>0</td>\n",
       "      <td>2014</td>\n",
       "      <td>0</td>\n",
       "      <td>98023</td>\n",
       "      <td>47.2974</td>\n",
       "      <td>-122.349</td>\n",
       "      <td>2927</td>\n",
       "      <td>5183</td>\n",
       "      <td>2014</td>\n",
       "    </tr>\n",
       "    <tr>\n",
       "      <th>5390</th>\n",
       "      <td>575000.0</td>\n",
       "      <td>3</td>\n",
       "      <td>2.50</td>\n",
       "      <td>2120</td>\n",
       "      <td>4780</td>\n",
       "      <td>2.0</td>\n",
       "      <td>0</td>\n",
       "      <td>0</td>\n",
       "      <td>3</td>\n",
       "      <td>7</td>\n",
       "      <td>2120</td>\n",
       "      <td>0</td>\n",
       "      <td>2004</td>\n",
       "      <td>0</td>\n",
       "      <td>98053</td>\n",
       "      <td>47.6810</td>\n",
       "      <td>-122.032</td>\n",
       "      <td>1690</td>\n",
       "      <td>2650</td>\n",
       "      <td>2014</td>\n",
       "    </tr>\n",
       "    <tr>\n",
       "      <th>860</th>\n",
       "      <td>245000.0</td>\n",
       "      <td>1</td>\n",
       "      <td>0.75</td>\n",
       "      <td>380</td>\n",
       "      <td>15000</td>\n",
       "      <td>1.0</td>\n",
       "      <td>0</td>\n",
       "      <td>0</td>\n",
       "      <td>3</td>\n",
       "      <td>5</td>\n",
       "      <td>380</td>\n",
       "      <td>0</td>\n",
       "      <td>1963</td>\n",
       "      <td>0</td>\n",
       "      <td>98168</td>\n",
       "      <td>47.4810</td>\n",
       "      <td>-122.323</td>\n",
       "      <td>1170</td>\n",
       "      <td>15000</td>\n",
       "      <td>2014</td>\n",
       "    </tr>\n",
       "    <tr>\n",
       "      <th>15795</th>\n",
       "      <td>315000.0</td>\n",
       "      <td>4</td>\n",
       "      <td>2.50</td>\n",
       "      <td>3130</td>\n",
       "      <td>5999</td>\n",
       "      <td>2.0</td>\n",
       "      <td>0</td>\n",
       "      <td>0</td>\n",
       "      <td>3</td>\n",
       "      <td>7</td>\n",
       "      <td>3130</td>\n",
       "      <td>0</td>\n",
       "      <td>2006</td>\n",
       "      <td>0</td>\n",
       "      <td>98042</td>\n",
       "      <td>47.3837</td>\n",
       "      <td>-122.099</td>\n",
       "      <td>3020</td>\n",
       "      <td>5997</td>\n",
       "      <td>2015</td>\n",
       "    </tr>\n",
       "  </tbody>\n",
       "</table>\n",
       "<p>21613 rows × 20 columns</p>\n",
       "</div>"
      ],
      "text/plain": [
       "           price  bedrooms  bathrooms  sqft_living  sqft_lot  floors  \\\n",
       "735     365000.0         4       2.25         2070      8893     2.0   \n",
       "2830    865000.0         5       3.00         2900      6730     1.0   \n",
       "4106   1038000.0         4       2.50         3770     10893     2.0   \n",
       "16218  1490000.0         3       3.50         4560     14608     2.0   \n",
       "19964   711000.0         3       2.50         2550      5376     2.0   \n",
       "...          ...       ...        ...          ...       ...     ...   \n",
       "11964   378000.0         3       1.50         1000      6914     1.0   \n",
       "21575   399950.0         3       2.50         3087      5002     2.0   \n",
       "5390    575000.0         3       2.50         2120      4780     2.0   \n",
       "860     245000.0         1       0.75          380     15000     1.0   \n",
       "15795   315000.0         4       2.50         3130      5999     2.0   \n",
       "\n",
       "       waterfront  view  condition  grade  sqft_above  sqft_basement  \\\n",
       "735             0     0          4      8        2070              0   \n",
       "2830            0     0          5      8        1830           1070   \n",
       "4106            0     2          3     11        3770              0   \n",
       "16218           0     2          3     12        4560              0   \n",
       "19964           0     0          3      9        2550              0   \n",
       "...           ...   ...        ...    ...         ...            ...   \n",
       "11964           0     0          3      7        1000              0   \n",
       "21575           0     0          3      8        3087              0   \n",
       "5390            0     0          3      7        2120              0   \n",
       "860             0     0          3      5         380              0   \n",
       "15795           0     0          3      7        3130              0   \n",
       "\n",
       "       yr_built  yr_renovated  zipcode      lat     long  sqft_living15  \\\n",
       "735        1986             0    98058  47.4388 -122.162           2390   \n",
       "2830       1977             0    98115  47.6784 -122.285           2370   \n",
       "4106       1997             0    98006  47.5646 -122.129           3710   \n",
       "16218      1990             0    98034  47.6995 -122.228           4050   \n",
       "19964      2004             0    98052  47.6647 -122.083           2250   \n",
       "...         ...           ...      ...      ...      ...            ...   \n",
       "11964      1947             0    98125  47.7144 -122.319           1000   \n",
       "21575      2014             0    98023  47.2974 -122.349           2927   \n",
       "5390       2004             0    98053  47.6810 -122.032           1690   \n",
       "860        1963             0    98168  47.4810 -122.323           1170   \n",
       "15795      2006             0    98042  47.3837 -122.099           3020   \n",
       "\n",
       "       sqft_lot15  year  \n",
       "735          7700  2014  \n",
       "2830         6283  2014  \n",
       "4106         9685  2014  \n",
       "16218       14226  2015  \n",
       "19964        4050  2014  \n",
       "...           ...   ...  \n",
       "11964        6947  2014  \n",
       "21575        5183  2014  \n",
       "5390         2650  2014  \n",
       "860         15000  2014  \n",
       "15795        5997  2015  \n",
       "\n",
       "[21613 rows x 20 columns]"
      ]
     },
     "execution_count": 4,
     "metadata": {},
     "output_type": "execute_result"
    }
   ],
   "source": [
    "df = kc_house.copy()\n",
    "df = pd.DataFrame(kc_house)\n",
    "df['year'] = pd.DatetimeIndex(df['date']).year\n",
    "df = df.drop(['date','id'], axis = 1)\n",
    "df"
   ]
  },
  {
   "cell_type": "code",
   "execution_count": 5,
   "id": "08643b30",
   "metadata": {},
   "outputs": [],
   "source": [
    "X_train_full = df.copy()"
   ]
  },
  {
   "cell_type": "code",
   "execution_count": 6,
   "id": "651ca1bd",
   "metadata": {
    "scrolled": true
   },
   "outputs": [],
   "source": [
    "y_train = X_train_full[['price']]\n",
    "X_train = X_train_full.drop(['price'],axis=1)"
   ]
  },
  {
   "cell_type": "code",
   "execution_count": 7,
   "id": "109dff80",
   "metadata": {},
   "outputs": [],
   "source": [
    "mean = X_train.mean(axis=0)\n",
    "X_train -= mean\n",
    "std = X_train.std(axis=0)\n",
    "X_train /= std"
   ]
  },
  {
   "cell_type": "code",
   "execution_count": 10,
   "id": "5f921ca7",
   "metadata": {},
   "outputs": [],
   "source": [
    "def build_model():\n",
    "    model = keras.models.Sequential()\n",
    "    model.add(keras.layers.Flatten(input_shape = (X_train.shape[1],)))\n",
    "    #model.add(keras.layers.BatchNormalization())\n",
    "    model.add(keras.layers.Dense(300, kernel_initializer = 'lecun_normal', activation = \"selu\"))\n",
    "    #model.add(keras.layers.BatchNormalization())\n",
    "    model.add(keras.layers.Dense(300, kernel_initializer = 'lecun_normal', activation = \"selu\"))\n",
    "    #model.add(keras.layers.BatchNormalization())\n",
    "    model.add(keras.layers.Dense(300, kernel_initializer = 'lecun_normal', activation = \"selu\"))\n",
    "    #model.add(keras.layers.BatchNormalization())\n",
    "    model.add(keras.layers.Dense(1))\n",
    "    \n",
    "    model.compile(loss=\"mse\", \n",
    "                  optimizer = \"adam\", \n",
    "                  metrics=[\"mse\"])\n",
    "    return model"
   ]
  },
  {
   "cell_type": "code",
   "execution_count": 14,
   "id": "4afc288c",
   "metadata": {},
   "outputs": [],
   "source": [
    "def build_model(): \n",
    "    model = keras.models.Sequential()\n",
    "    model.add(keras.layers.Flatten(input_shape=(X_train.shape[1],)))\n",
    "    model.add(keras.layers.BatchNormalization())\n",
    "    model.add(keras.layers.Dense(100, activation='selu'))\n",
    "    model.add(keras.layers.Dense(64, activation='selu'))\n",
    "    model.add(keras.layers.Dense(64, activation='selu'))\n",
    "    model.add(keras.layers.Dense(64, activation='selu'))\n",
    "    model.add(keras.layers.Dropout(0.3))\n",
    "    model.add(keras.layers.Dense(1))\n",
    "    \n",
    "    model.compile(optimizer='adam', loss='mse', metrics=['mse'])\n",
    "    \n",
    "    return model"
   ]
  },
  {
   "cell_type": "code",
   "execution_count": 15,
   "id": "e21e0a3a",
   "metadata": {},
   "outputs": [
    {
     "name": "stdout",
     "output_type": "stream",
     "text": [
      "processing fold # 0\n",
      "processing fold # 1\n",
      "processing fold # 2\n",
      "processing fold # 3\n",
      "processing fold # 4\n",
      "processing fold # 5\n",
      "processing fold # 6\n",
      "processing fold # 7\n",
      "processing fold # 8\n",
      "processing fold # 9\n"
     ]
    }
   ],
   "source": [
    "k = 10\n",
    "num_val = len(X_train) // k\n",
    "num_epochs = 300\n",
    "all_scores = []\n",
    "temp = []\n",
    "\n",
    "for i in range(k):\n",
    "    print('processing fold #', i)\n",
    "    X_val = X_train[i * num_val: (i + 1) * num_val]\n",
    "    y_val = y_train[i * num_val: (i + 1) * num_val]\n",
    "\n",
    "    X_train_part = np.concatenate(\n",
    "        [X_train[:i * num_val],\n",
    "         X_train[(i + 1) * num_val:]],\n",
    "        axis=0)\n",
    "    y_train_part = np.concatenate(\n",
    "        [y_train[:i * num_val],\n",
    "         y_train[(i + 1) * num_val:]],\n",
    "        axis=0)\n",
    "    \n",
    "    model = build_model()\n",
    "    model.fit(X_train_part, y_train_part,\n",
    "              epochs=num_epochs, \n",
    "              verbose=0)\n",
    "\n",
    "    val_mse, val_mae = model.evaluate(X_val, y_val, verbose=0)\n",
    "    all_scores.append(val_mse)\n",
    "    temp.append(val_mse)    "
   ]
  },
  {
   "cell_type": "code",
   "execution_count": 16,
   "id": "d64447e7",
   "metadata": {},
   "outputs": [
    {
     "data": {
      "text/plain": [
       "[25308958720.0,\n",
       " 44104179712.0,\n",
       " 18429632512.0,\n",
       " 21096239104.0,\n",
       " 19721121792.0,\n",
       " 18143004672.0,\n",
       " 16964812800.0,\n",
       " 37762777088.0,\n",
       " 18871560192.0,\n",
       " 14004678656.0]"
      ]
     },
     "execution_count": 16,
     "metadata": {},
     "output_type": "execute_result"
    }
   ],
   "source": [
    "all_scores"
   ]
  },
  {
   "cell_type": "code",
   "execution_count": 17,
   "id": "58af8103",
   "metadata": {},
   "outputs": [
    {
     "data": {
      "text/plain": [
       "23440696524.8"
      ]
     },
     "execution_count": 17,
     "metadata": {},
     "output_type": "execute_result"
    }
   ],
   "source": [
    "np.mean(all_scores)"
   ]
  },
  {
   "cell_type": "code",
   "execution_count": null,
   "id": "d7a0d894",
   "metadata": {},
   "outputs": [],
   "source": []
  },
  {
   "cell_type": "code",
   "execution_count": 17,
   "id": "373fc34c",
   "metadata": {},
   "outputs": [],
   "source": [
    "def build_model(): \n",
    "    model = keras.models.Sequential()\n",
    "    model.add(keras.layers.Flatten(input_shape=(X_train.shape[1],)))\n",
    "    model.add(keras.layers.Dense(300, activation='relu'))\n",
    "    model.add(keras.layers.Dense(200, activation='relu'))\n",
    "    model.add(keras.layers.Dense(100, activation='relu'))\n",
    "#     model.add(keras.layers.Dense(64, activation='relu'))\n",
    "#     model.add(keras.layers.Dropout(0.3))\n",
    "    model.add(keras.layers.Dense(1))\n",
    "    \n",
    "    model.compile(optimizer='rmsprop', loss='mse', metrics=['mse'])\n",
    "    \n",
    "    return model"
   ]
  },
  {
   "cell_type": "code",
   "execution_count": 18,
   "id": "39b5a750",
   "metadata": {},
   "outputs": [
    {
     "name": "stdout",
     "output_type": "stream",
     "text": [
      "processing fold # 0\n",
      "processing fold # 1\n",
      "processing fold # 2\n",
      "processing fold # 3\n",
      "processing fold # 4\n",
      "processing fold # 5\n",
      "processing fold # 6\n",
      "processing fold # 7\n",
      "processing fold # 8\n",
      "processing fold # 9\n"
     ]
    }
   ],
   "source": [
    "k = 10\n",
    "num_val = len(X_train) // k\n",
    "num_epochs = 300\n",
    "all_scores = []\n",
    "temp = []\n",
    "\n",
    "for i in range(k):\n",
    "    print('processing fold #', i)\n",
    "    X_val = X_train[i * num_val: (i + 1) * num_val]\n",
    "    y_val = y_train[i * num_val: (i + 1) * num_val]\n",
    "\n",
    "    X_train_part = np.concatenate(\n",
    "        [X_train[:i * num_val],\n",
    "         X_train[(i + 1) * num_val:]],\n",
    "        axis=0)\n",
    "    y_train_part = np.concatenate(\n",
    "        [y_train[:i * num_val],\n",
    "         y_train[(i + 1) * num_val:]],\n",
    "        axis=0)\n",
    "    \n",
    "    model = build_model()\n",
    "    model.fit(X_train_part, y_train_part,\n",
    "              epochs=num_epochs, \n",
    "              verbose=0)\n",
    "\n",
    "    val_mse, val_mae = model.evaluate(X_val, y_val, verbose=0)\n",
    "    all_scores.append(val_mse)\n",
    "    temp.append(val_mse)    "
   ]
  },
  {
   "cell_type": "code",
   "execution_count": 19,
   "id": "fd1b0f8e",
   "metadata": {},
   "outputs": [
    {
     "data": {
      "text/plain": [
       "[13806368768.0,\n",
       " 18980960256.0,\n",
       " 13360280576.0,\n",
       " 15514058752.0,\n",
       " 12047620096.0,\n",
       " 12184570880.0,\n",
       " 16293819392.0,\n",
       " 16030162944.0,\n",
       " 16110180352.0,\n",
       " 17616619520.0]"
      ]
     },
     "execution_count": 19,
     "metadata": {},
     "output_type": "execute_result"
    }
   ],
   "source": [
    "all_scores"
   ]
  },
  {
   "cell_type": "code",
   "execution_count": 20,
   "id": "30ae6ccf",
   "metadata": {},
   "outputs": [
    {
     "data": {
      "text/plain": [
       "15194464153.6"
      ]
     },
     "execution_count": 20,
     "metadata": {},
     "output_type": "execute_result"
    }
   ],
   "source": [
    "np.mean(all_scores)"
   ]
  },
  {
   "cell_type": "code",
   "execution_count": null,
   "id": "c381773c",
   "metadata": {},
   "outputs": [],
   "source": []
  },
  {
   "cell_type": "code",
   "execution_count": 21,
   "id": "4ff93db4",
   "metadata": {},
   "outputs": [],
   "source": [
    "def build_model(): \n",
    "    model = keras.models.Sequential()\n",
    "    model.add(keras.layers.Flatten(input_shape=(X_train.shape[1],)))\n",
    "    model.add(keras.layers.Dense(64, activation='selu'))\n",
    "    model.add(keras.layers.Dense(64, activation='selu'))\n",
    "    model.add(keras.layers.Dense(64, activation='selu'))\n",
    "    model.add(keras.layers.Dense(64, activation='selu'))\n",
    "    model.add(keras.layers.Dropout(0.3))\n",
    "    model.add(keras.layers.Dense(1))\n",
    "    \n",
    "    model.compile(optimizer='rmsprop', loss='mse', metrics=['mse'])\n",
    "    \n",
    "    return model"
   ]
  },
  {
   "cell_type": "code",
   "execution_count": 22,
   "id": "759a3740",
   "metadata": {},
   "outputs": [
    {
     "name": "stdout",
     "output_type": "stream",
     "text": [
      "processing fold # 0\n",
      "processing fold # 1\n",
      "processing fold # 2\n",
      "processing fold # 3\n",
      "processing fold # 4\n",
      "processing fold # 5\n",
      "processing fold # 6\n",
      "processing fold # 7\n",
      "processing fold # 8\n",
      "processing fold # 9\n"
     ]
    }
   ],
   "source": [
    "k = 10\n",
    "num_val = len(X_train) // k\n",
    "num_epochs = 300\n",
    "all_scores = []\n",
    "temp = []\n",
    "\n",
    "for i in range(k):\n",
    "    print('processing fold #', i)\n",
    "    X_val = X_train[i * num_val: (i + 1) * num_val]\n",
    "    y_val = y_train[i * num_val: (i + 1) * num_val]\n",
    "\n",
    "    X_train_part = np.concatenate(\n",
    "        [X_train[:i * num_val],\n",
    "         X_train[(i + 1) * num_val:]],\n",
    "        axis=0)\n",
    "    y_train_part = np.concatenate(\n",
    "        [y_train[:i * num_val],\n",
    "         y_train[(i + 1) * num_val:]],\n",
    "        axis=0)\n",
    "    \n",
    "    model = build_model()\n",
    "    model.fit(X_train_part, y_train_part,\n",
    "              epochs=num_epochs, \n",
    "              verbose=0)\n",
    "\n",
    "    val_mse, val_mae = model.evaluate(X_val, y_val, verbose=0)\n",
    "    all_scores.append(val_mse)\n",
    "    temp.append(val_mse)    "
   ]
  },
  {
   "cell_type": "code",
   "execution_count": 23,
   "id": "939b11e4",
   "metadata": {},
   "outputs": [
    {
     "data": {
      "text/plain": [
       "[12640817152.0,\n",
       " 15923390464.0,\n",
       " 13757606912.0,\n",
       " 17048558592.0,\n",
       " 13980404736.0,\n",
       " 12524831744.0,\n",
       " 13530193920.0,\n",
       " 12817385472.0,\n",
       " 15166085120.0,\n",
       " 14198850560.0]"
      ]
     },
     "execution_count": 23,
     "metadata": {},
     "output_type": "execute_result"
    }
   ],
   "source": [
    "all_scores"
   ]
  },
  {
   "cell_type": "code",
   "execution_count": 24,
   "id": "386836e3",
   "metadata": {},
   "outputs": [
    {
     "data": {
      "text/plain": [
       "14158812467.2"
      ]
     },
     "execution_count": 24,
     "metadata": {},
     "output_type": "execute_result"
    }
   ],
   "source": [
    "np.mean(all_scores)"
   ]
  },
  {
   "cell_type": "code",
   "execution_count": null,
   "id": "1ab810b5",
   "metadata": {},
   "outputs": [],
   "source": []
  },
  {
   "cell_type": "code",
   "execution_count": 25,
   "id": "a4687a55",
   "metadata": {},
   "outputs": [],
   "source": [
    "def build_model(): \n",
    "    model = keras.models.Sequential()\n",
    "    model.add(keras.layers.Flatten(input_shape=(X_train.shape[1],)))\n",
    "    model.add(keras.layers.Dense(300, activation='selu'))\n",
    "    model.add(keras.layers.Dense(200, activation='selu'))\n",
    "    model.add(keras.layers.Dense(100, activation='selu'))\n",
    "    model.add(keras.layers.Dense(64, activation='selu'))\n",
    "    model.add(keras.layers.Dropout(0.3))\n",
    "    model.add(keras.layers.Dense(1))\n",
    "    \n",
    "    model.compile(optimizer='adam', loss='mse', metrics=['mse'])\n",
    "    \n",
    "    return model"
   ]
  },
  {
   "cell_type": "code",
   "execution_count": 26,
   "id": "f11d3228",
   "metadata": {},
   "outputs": [
    {
     "name": "stdout",
     "output_type": "stream",
     "text": [
      "processing fold # 0\n",
      "processing fold # 1\n",
      "processing fold # 2\n",
      "processing fold # 3\n",
      "processing fold # 4\n",
      "processing fold # 5\n",
      "processing fold # 6\n",
      "processing fold # 7\n",
      "processing fold # 8\n",
      "processing fold # 9\n"
     ]
    }
   ],
   "source": [
    "k = 10\n",
    "num_val = len(X_train) // k\n",
    "num_epochs = 300\n",
    "all_scores = []\n",
    "temp = []\n",
    "\n",
    "for i in range(k):\n",
    "    print('processing fold #', i)\n",
    "    X_val = X_train[i * num_val: (i + 1) * num_val]\n",
    "    y_val = y_train[i * num_val: (i + 1) * num_val]\n",
    "\n",
    "    X_train_part = np.concatenate(\n",
    "        [X_train[:i * num_val],\n",
    "         X_train[(i + 1) * num_val:]],\n",
    "        axis=0)\n",
    "    y_train_part = np.concatenate(\n",
    "        [y_train[:i * num_val],\n",
    "         y_train[(i + 1) * num_val:]],\n",
    "        axis=0)\n",
    "    \n",
    "    model = build_model()\n",
    "    model.fit(X_train_part, y_train_part,\n",
    "              epochs=num_epochs, \n",
    "              verbose=0)\n",
    "\n",
    "    val_mse, val_mae = model.evaluate(X_val, y_val, verbose=0)\n",
    "    all_scores.append(val_mse)\n",
    "    temp.append(val_mse)    "
   ]
  },
  {
   "cell_type": "code",
   "execution_count": 27,
   "id": "82fd4e35",
   "metadata": {},
   "outputs": [
    {
     "data": {
      "text/plain": [
       "[11844591616.0,\n",
       " 14450809856.0,\n",
       " 13823792128.0,\n",
       " 25407162368.0,\n",
       " 11603164160.0,\n",
       " 14355822592.0,\n",
       " 16811030528.0,\n",
       " 70122725376.0,\n",
       " 15873592320.0,\n",
       " 16535623680.0]"
      ]
     },
     "execution_count": 27,
     "metadata": {},
     "output_type": "execute_result"
    }
   ],
   "source": [
    "all_scores"
   ]
  },
  {
   "cell_type": "code",
   "execution_count": 28,
   "id": "d55f463f",
   "metadata": {},
   "outputs": [
    {
     "data": {
      "text/plain": [
       "21082831462.4"
      ]
     },
     "execution_count": 28,
     "metadata": {},
     "output_type": "execute_result"
    }
   ],
   "source": [
    "np.mean(all_scores)"
   ]
  },
  {
   "cell_type": "code",
   "execution_count": null,
   "id": "7ae32aaa",
   "metadata": {},
   "outputs": [],
   "source": []
  },
  {
   "cell_type": "code",
   "execution_count": null,
   "id": "7a8571f0",
   "metadata": {},
   "outputs": [],
   "source": []
  }
 ],
 "metadata": {
  "kernelspec": {
   "display_name": "Python 3",
   "language": "python",
   "name": "python3"
  },
  "language_info": {
   "codemirror_mode": {
    "name": "ipython",
    "version": 3
   },
   "file_extension": ".py",
   "mimetype": "text/x-python",
   "name": "python",
   "nbconvert_exporter": "python",
   "pygments_lexer": "ipython3",
   "version": "3.8.8"
  }
 },
 "nbformat": 4,
 "nbformat_minor": 5
}
