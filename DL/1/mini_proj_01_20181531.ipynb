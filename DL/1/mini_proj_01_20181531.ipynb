{
 "cells": [
  {
   "cell_type": "markdown",
   "id": "b7d9ddde",
   "metadata": {},
   "source": [
    "# MINI-PROJ-01"
   ]
  },
  {
   "cell_type": "code",
   "execution_count": 1,
   "id": "d94c9868",
   "metadata": {},
   "outputs": [],
   "source": [
    "# Python ≥3.5 is required\n",
    "import sys\n",
    "assert sys.version_info >= (3, 5)\n",
    "\n",
    "# Scikit-Learn ≥0.20 is required\n",
    "import sklearn\n",
    "assert sklearn.__version__ >= \"0.20\"\n",
    "\n",
    "try:\n",
    "    # %tensorflow_version only exists in Colab.\n",
    "    %tensorflow_version 2.x\n",
    "except Exception:\n",
    "    pass\n",
    "\n",
    "# TensorFlow ≥2.0 is required\n",
    "import tensorflow as tf\n",
    "from tensorflow import keras\n",
    "assert tf.__version__ >= \"2.0\"\n",
    "\n",
    "# Common imports\n",
    "import numpy as np\n",
    "import os\n",
    "\n",
    "# to make this notebook's output stable across runs\n",
    "np.random.seed(42)\n",
    "tf.random.set_seed(42)"
   ]
  },
  {
   "cell_type": "code",
   "execution_count": 2,
   "id": "66bbd25b",
   "metadata": {},
   "outputs": [],
   "source": [
    "fashion_mnist = keras.datasets.fashion_mnist\n",
    "(X_train_full, y_train_full), (X_test, y_test) = fashion_mnist.load_data()"
   ]
  },
  {
   "cell_type": "code",
   "execution_count": 3,
   "id": "a21fdb7b",
   "metadata": {},
   "outputs": [],
   "source": [
    "X_train = X_train_full / 255.\n",
    "y_train = y_train_full.astype(float)"
   ]
  },
  {
   "cell_type": "code",
   "execution_count": 4,
   "id": "a6f4e861",
   "metadata": {},
   "outputs": [
    {
     "data": {
      "text/plain": [
       "array([[[0., 0., 0., ..., 0., 0., 0.],\n",
       "        [0., 0., 0., ..., 0., 0., 0.],\n",
       "        [0., 0., 0., ..., 0., 0., 0.],\n",
       "        ...,\n",
       "        [0., 0., 0., ..., 0., 0., 0.],\n",
       "        [0., 0., 0., ..., 0., 0., 0.],\n",
       "        [0., 0., 0., ..., 0., 0., 0.]],\n",
       "\n",
       "       [[0., 0., 0., ..., 0., 0., 0.],\n",
       "        [0., 0., 0., ..., 0., 0., 0.],\n",
       "        [0., 0., 0., ..., 0., 0., 0.],\n",
       "        ...,\n",
       "        [0., 0., 0., ..., 0., 0., 0.],\n",
       "        [0., 0., 0., ..., 0., 0., 0.],\n",
       "        [0., 0., 0., ..., 0., 0., 0.]],\n",
       "\n",
       "       [[0., 0., 0., ..., 0., 0., 0.],\n",
       "        [0., 0., 0., ..., 0., 0., 0.],\n",
       "        [0., 0., 0., ..., 0., 0., 0.],\n",
       "        ...,\n",
       "        [0., 0., 0., ..., 0., 0., 0.],\n",
       "        [0., 0., 0., ..., 0., 0., 0.],\n",
       "        [0., 0., 0., ..., 0., 0., 0.]],\n",
       "\n",
       "       ...,\n",
       "\n",
       "       [[0., 0., 0., ..., 0., 0., 0.],\n",
       "        [0., 0., 0., ..., 0., 0., 0.],\n",
       "        [0., 0., 0., ..., 0., 0., 0.],\n",
       "        ...,\n",
       "        [0., 0., 0., ..., 0., 0., 0.],\n",
       "        [0., 0., 0., ..., 0., 0., 0.],\n",
       "        [0., 0., 0., ..., 0., 0., 0.]],\n",
       "\n",
       "       [[0., 0., 0., ..., 0., 0., 0.],\n",
       "        [0., 0., 0., ..., 0., 0., 0.],\n",
       "        [0., 0., 0., ..., 0., 0., 0.],\n",
       "        ...,\n",
       "        [0., 0., 0., ..., 0., 0., 0.],\n",
       "        [0., 0., 0., ..., 0., 0., 0.],\n",
       "        [0., 0., 0., ..., 0., 0., 0.]],\n",
       "\n",
       "       [[0., 0., 0., ..., 0., 0., 0.],\n",
       "        [0., 0., 0., ..., 0., 0., 0.],\n",
       "        [0., 0., 0., ..., 0., 0., 0.],\n",
       "        ...,\n",
       "        [0., 0., 0., ..., 0., 0., 0.],\n",
       "        [0., 0., 0., ..., 0., 0., 0.],\n",
       "        [0., 0., 0., ..., 0., 0., 0.]]])"
      ]
     },
     "execution_count": 4,
     "metadata": {},
     "output_type": "execute_result"
    }
   ],
   "source": [
    "X_train"
   ]
  },
  {
   "cell_type": "code",
   "execution_count": 5,
   "id": "981fe624",
   "metadata": {},
   "outputs": [
    {
     "data": {
      "text/plain": [
       "array([9., 0., 0., ..., 3., 0., 5.])"
      ]
     },
     "execution_count": 5,
     "metadata": {},
     "output_type": "execute_result"
    }
   ],
   "source": [
    "y_train"
   ]
  },
  {
   "cell_type": "code",
   "execution_count": 6,
   "id": "8cfd52d1",
   "metadata": {},
   "outputs": [],
   "source": [
    "def build_model(): \n",
    "    model = keras.models.Sequential()\n",
    "    model.add(keras.layers.Flatten(input_shape=[28, 28]))\n",
    "    \n",
    "    lrelu = lambda x: tf.keras.activations.relu(x, alpha=0.2)\n",
    "    model.add(keras.layers.Dense(300, activation=lrelu))\n",
    "    model.add(keras.layers.Dense(150, activation=lrelu))\n",
    "    model.add(keras.layers.Dense(100, activation=lrelu))\n",
    "    model.add(keras.layers.Dense(10, activation=\"softmax\"))\n",
    "    \n",
    "    model.compile(loss=\"sparse_categorical_crossentropy\",\n",
    "                  optimizer=\"sgd\",\n",
    "                  metrics=[\"accuracy\"])\n",
    "    return model"
   ]
  },
  {
   "cell_type": "code",
   "execution_count": 13,
   "id": "fa2b52a0",
   "metadata": {},
   "outputs": [
    {
     "name": "stdout",
     "output_type": "stream",
     "text": [
      "processing fold # 0\n",
      "188/188 [==============================] - 0s 1ms/step - loss: 0.3320 - accuracy: 0.8783\n",
      "processing fold # 1\n",
      "188/188 [==============================] - 0s 1ms/step - loss: 0.2961 - accuracy: 0.8943\n",
      "processing fold # 2\n",
      "188/188 [==============================] - 0s 1ms/step - loss: 0.3069 - accuracy: 0.8845\n",
      "processing fold # 3\n",
      "188/188 [==============================] - 0s 2ms/step - loss: 0.3124 - accuracy: 0.8873\n",
      "processing fold # 4\n",
      "188/188 [==============================] - 0s 2ms/step - loss: 0.3111 - accuracy: 0.8842\n",
      "processing fold # 5\n",
      "188/188 [==============================] - 0s 2ms/step - loss: 0.3056 - accuracy: 0.8907\n",
      "processing fold # 6\n",
      "188/188 [==============================] - 0s 1ms/step - loss: 0.3088 - accuracy: 0.8965\n",
      "processing fold # 7\n",
      "188/188 [==============================] - 0s 1ms/step - loss: 0.2955 - accuracy: 0.8968\n",
      "processing fold # 8\n",
      "188/188 [==============================] - 1s 2ms/step - loss: 0.3129 - accuracy: 0.8880\n",
      "processing fold # 9\n",
      "188/188 [==============================] - 1s 2ms/step - loss: 0.3158 - accuracy: 0.8885\n"
     ]
    }
   ],
   "source": [
    "k = 10\n",
    "num_val = len(X_train) // k\n",
    "num_epochs = 30\n",
    "all_scores = []\n",
    "\n",
    "for i in range(k):\n",
    "    print('processing fold #', i)\n",
    "    \n",
    "    X_val = X_train[i * num_val: (i + 1) * num_val]\n",
    "    y_val = y_train[i * num_val: (i + 1) * num_val]\n",
    "\n",
    "    X_train_part = np.concatenate(\n",
    "        [X_train[:i * num_val],\n",
    "         X_train[(i + 1) * num_val:]],\n",
    "        axis=0)\n",
    "    y_train_part = np.concatenate(\n",
    "        [y_train[:i * num_val],\n",
    "         y_train[(i + 1) * num_val:]],\n",
    "        axis=0)\n",
    "\n",
    "    model = build_model()\n",
    "    \n",
    "    model.fit(X_train_part, y_train_part,\n",
    "              epochs=num_epochs, verbose=0, )\n",
    "    \n",
    "    val_loss, val_acc = model.evaluate(X_val, y_val)\n",
    "    all_scores.append(val_acc)"
   ]
  },
  {
   "cell_type": "code",
   "execution_count": 14,
   "id": "e4f839e6",
   "metadata": {},
   "outputs": [
    {
     "data": {
      "text/plain": [
       "[0.878333330154419,\n",
       " 0.8943333625793457,\n",
       " 0.8845000267028809,\n",
       " 0.887333333492279,\n",
       " 0.8841666579246521,\n",
       " 0.890666663646698,\n",
       " 0.8964999914169312,\n",
       " 0.8968333601951599,\n",
       " 0.8880000114440918,\n",
       " 0.8884999752044678]"
      ]
     },
     "execution_count": 14,
     "metadata": {},
     "output_type": "execute_result"
    }
   ],
   "source": [
    "all_scores"
   ]
  },
  {
   "cell_type": "code",
   "execution_count": 15,
   "id": "d4989752",
   "metadata": {
    "scrolled": true
   },
   "outputs": [
    {
     "data": {
      "text/plain": [
       "0.8889166712760925"
      ]
     },
     "execution_count": 15,
     "metadata": {},
     "output_type": "execute_result"
    }
   ],
   "source": [
    "np.mean(all_scores)"
   ]
  },
  {
   "cell_type": "code",
   "execution_count": null,
   "id": "5acacd69",
   "metadata": {},
   "outputs": [],
   "source": []
  },
  {
   "cell_type": "code",
   "execution_count": 16,
   "id": "d34e647a",
   "metadata": {},
   "outputs": [
    {
     "name": "stdout",
     "output_type": "stream",
     "text": [
      "processing fold # 0\n",
      "188/188 [==============================] - 0s 1ms/step - loss: 0.3063 - accuracy: 0.8883\n",
      "processing fold # 1\n",
      "188/188 [==============================] - 0s 1ms/step - loss: 0.2918 - accuracy: 0.8920\n",
      "processing fold # 2\n",
      "188/188 [==============================] - 0s 1ms/step - loss: 0.3122 - accuracy: 0.8895\n",
      "processing fold # 3\n",
      "188/188 [==============================] - 0s 1ms/step - loss: 0.3058 - accuracy: 0.8928\n",
      "processing fold # 4\n",
      "188/188 [==============================] - 0s 1ms/step - loss: 0.3045 - accuracy: 0.8932\n",
      "processing fold # 5\n",
      "188/188 [==============================] - 1s 2ms/step - loss: 0.2984 - accuracy: 0.8965\n",
      "processing fold # 6\n",
      "188/188 [==============================] - 0s 2ms/step - loss: 0.3055 - accuracy: 0.8927\n",
      "processing fold # 7\n",
      "188/188 [==============================] - 0s 2ms/step - loss: 0.3017 - accuracy: 0.8950\n",
      "processing fold # 8\n",
      "188/188 [==============================] - 0s 2ms/step - loss: 0.3021 - accuracy: 0.8962\n",
      "processing fold # 9\n",
      "188/188 [==============================] - 0s 2ms/step - loss: 0.3148 - accuracy: 0.8910\n"
     ]
    }
   ],
   "source": [
    "k = 10\n",
    "num_val = len(X_train) // k\n",
    "num_epochs = 35\n",
    "all_scores = []\n",
    "\n",
    "for i in range(k):\n",
    "    print('processing fold #', i)\n",
    "    \n",
    "    X_val = X_train[i * num_val: (i + 1) * num_val]\n",
    "    y_val = y_train[i * num_val: (i + 1) * num_val]\n",
    "\n",
    "    X_train_part = np.concatenate(\n",
    "        [X_train[:i * num_val],\n",
    "         X_train[(i + 1) * num_val:]],\n",
    "        axis=0)\n",
    "    y_train_part = np.concatenate(\n",
    "        [y_train[:i * num_val],\n",
    "         y_train[(i + 1) * num_val:]],\n",
    "        axis=0)\n",
    "\n",
    "    model = build_model()\n",
    "    \n",
    "    model.fit(X_train_part, y_train_part,\n",
    "              epochs=num_epochs, verbose=0, )\n",
    "    \n",
    "    val_loss, val_acc = model.evaluate(X_val, y_val)\n",
    "    all_scores.append(val_acc)"
   ]
  },
  {
   "cell_type": "code",
   "execution_count": 17,
   "id": "f9d4a4f1",
   "metadata": {},
   "outputs": [
    {
     "data": {
      "text/plain": [
       "[0.8883333206176758,\n",
       " 0.8920000195503235,\n",
       " 0.8895000219345093,\n",
       " 0.8928333520889282,\n",
       " 0.8931666612625122,\n",
       " 0.8964999914169312,\n",
       " 0.8926666378974915,\n",
       " 0.8949999809265137,\n",
       " 0.8961666822433472,\n",
       " 0.890999972820282]"
      ]
     },
     "execution_count": 17,
     "metadata": {},
     "output_type": "execute_result"
    }
   ],
   "source": [
    "all_scores"
   ]
  },
  {
   "cell_type": "code",
   "execution_count": 19,
   "id": "fb7476c6",
   "metadata": {},
   "outputs": [
    {
     "data": {
      "text/plain": [
       "0.8927166640758515"
      ]
     },
     "execution_count": 19,
     "metadata": {},
     "output_type": "execute_result"
    }
   ],
   "source": [
    "np.mean(all_scores)"
   ]
  },
  {
   "cell_type": "code",
   "execution_count": null,
   "id": "becef6d5",
   "metadata": {},
   "outputs": [],
   "source": []
  },
  {
   "cell_type": "code",
   "execution_count": 20,
   "id": "ffbd5309",
   "metadata": {},
   "outputs": [
    {
     "name": "stdout",
     "output_type": "stream",
     "text": [
      "processing fold # 0\n",
      "188/188 [==============================] - 0s 1ms/step - loss: 0.3041 - accuracy: 0.8907\n",
      "processing fold # 1\n",
      "188/188 [==============================] - 0s 1ms/step - loss: 0.3015 - accuracy: 0.8913\n",
      "processing fold # 2\n",
      "188/188 [==============================] - 1s 2ms/step - loss: 0.3157 - accuracy: 0.8888\n",
      "processing fold # 3\n",
      "188/188 [==============================] - 0s 2ms/step - loss: 0.3156 - accuracy: 0.8897\n",
      "processing fold # 4\n",
      "188/188 [==============================] - 1s 2ms/step - loss: 0.3041 - accuracy: 0.8945\n",
      "processing fold # 5\n",
      "188/188 [==============================] - 0s 2ms/step - loss: 0.3259 - accuracy: 0.8870\n",
      "processing fold # 6\n",
      "188/188 [==============================] - 0s 2ms/step - loss: 0.3167 - accuracy: 0.8972\n",
      "processing fold # 7\n",
      "188/188 [==============================] - 0s 2ms/step - loss: 0.3355 - accuracy: 0.8867\n",
      "processing fold # 8\n",
      "188/188 [==============================] - 0s 2ms/step - loss: 0.3112 - accuracy: 0.8933\n",
      "processing fold # 9\n",
      "188/188 [==============================] - 0s 2ms/step - loss: 0.3253 - accuracy: 0.8903\n"
     ]
    }
   ],
   "source": [
    "k = 10\n",
    "num_val = len(X_train) // k\n",
    "num_epochs = 40\n",
    "all_scores = []\n",
    "\n",
    "for i in range(k):\n",
    "    print('processing fold #', i)\n",
    "    \n",
    "    X_val = X_train[i * num_val: (i + 1) * num_val]\n",
    "    y_val = y_train[i * num_val: (i + 1) * num_val]\n",
    "\n",
    "    X_train_part = np.concatenate(\n",
    "        [X_train[:i * num_val],\n",
    "         X_train[(i + 1) * num_val:]],\n",
    "        axis=0)\n",
    "    y_train_part = np.concatenate(\n",
    "        [y_train[:i * num_val],\n",
    "         y_train[(i + 1) * num_val:]],\n",
    "        axis=0)\n",
    "\n",
    "    model = build_model()\n",
    "    \n",
    "    model.fit(X_train_part, y_train_part,\n",
    "              epochs=num_epochs, verbose=0, )\n",
    "    \n",
    "    val_loss, val_acc = model.evaluate(X_val, y_val)\n",
    "    all_scores.append(val_acc)"
   ]
  },
  {
   "cell_type": "code",
   "execution_count": 21,
   "id": "95b7c90b",
   "metadata": {},
   "outputs": [
    {
     "data": {
      "text/plain": [
       "[0.890666663646698,\n",
       " 0.8913333415985107,\n",
       " 0.8888333439826965,\n",
       " 0.8896666765213013,\n",
       " 0.8945000171661377,\n",
       " 0.8870000243186951,\n",
       " 0.8971666693687439,\n",
       " 0.8866666555404663,\n",
       " 0.8933333158493042,\n",
       " 0.890333354473114]"
      ]
     },
     "execution_count": 21,
     "metadata": {},
     "output_type": "execute_result"
    }
   ],
   "source": [
    "all_scores"
   ]
  },
  {
   "cell_type": "code",
   "execution_count": 22,
   "id": "cd519acd",
   "metadata": {},
   "outputs": [
    {
     "data": {
      "text/plain": [
       "0.8909500062465667"
      ]
     },
     "execution_count": 22,
     "metadata": {},
     "output_type": "execute_result"
    }
   ],
   "source": [
    "np.mean(all_scores)"
   ]
  },
  {
   "cell_type": "code",
   "execution_count": null,
   "id": "c0402940",
   "metadata": {},
   "outputs": [],
   "source": []
  },
  {
   "cell_type": "code",
   "execution_count": null,
   "id": "023ec263",
   "metadata": {},
   "outputs": [
    {
     "name": "stdout",
     "output_type": "stream",
     "text": [
      "processing fold # 0\n",
      "188/188 [==============================] - 0s 2ms/step - loss: 0.3520 - accuracy: 0.8830\n",
      "processing fold # 1\n",
      "188/188 [==============================] - 0s 2ms/step - loss: 0.3482 - accuracy: 0.8828\n",
      "processing fold # 2\n"
     ]
    }
   ],
   "source": [
    "k = 10\n",
    "num_val = len(X_train) // k\n",
    "num_epochs = 45\n",
    "all_scores = []\n",
    "\n",
    "for i in range(k):\n",
    "    print('processing fold #', i)\n",
    "    \n",
    "    X_val = X_train[i * num_val: (i + 1) * num_val]\n",
    "    y_val = y_train[i * num_val: (i + 1) * num_val]\n",
    "\n",
    "    X_train_part = np.concatenate(\n",
    "        [X_train[:i * num_val],\n",
    "         X_train[(i + 1) * num_val:]],\n",
    "        axis=0)\n",
    "    y_train_part = np.concatenate(\n",
    "        [y_train[:i * num_val],\n",
    "         y_train[(i + 1) * num_val:]],\n",
    "        axis=0)\n",
    "\n",
    "    model = build_model()\n",
    "    \n",
    "    model.fit(X_train_part, y_train_part,\n",
    "              epochs=num_epochs, verbose=0, )\n",
    "    \n",
    "    val_loss, val_acc = model.evaluate(X_val, y_val)\n",
    "    all_scores.append(val_acc)\n",
    "\n",
    "\n",
    "\n"
   ]
  },
  {
   "cell_type": "code",
   "execution_count": null,
   "id": "a5919906",
   "metadata": {},
   "outputs": [],
   "source": [
    "all_scores"
   ]
  },
  {
   "cell_type": "code",
   "execution_count": null,
   "id": "0cdacfdd",
   "metadata": {},
   "outputs": [],
   "source": [
    "np.mean(all_scores)"
   ]
  },
  {
   "cell_type": "code",
   "execution_count": null,
   "id": "99ac502e",
   "metadata": {},
   "outputs": [],
   "source": []
  }
 ],
 "metadata": {
  "kernelspec": {
   "display_name": "Python 3",
   "language": "python",
   "name": "python3"
  },
  "language_info": {
   "codemirror_mode": {
    "name": "ipython",
    "version": 3
   },
   "file_extension": ".py",
   "mimetype": "text/x-python",
   "name": "python",
   "nbconvert_exporter": "python",
   "pygments_lexer": "ipython3",
   "version": "3.8.8"
  }
 },
 "nbformat": 4,
 "nbformat_minor": 5
}
