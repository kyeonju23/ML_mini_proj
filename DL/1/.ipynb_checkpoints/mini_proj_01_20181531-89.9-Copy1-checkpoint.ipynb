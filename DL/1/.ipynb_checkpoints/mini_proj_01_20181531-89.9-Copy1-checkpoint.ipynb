{
 "cells": [
  {
   "cell_type": "markdown",
   "id": "b7d9ddde",
   "metadata": {},
   "source": [
    "# MINI-PROJ-01"
   ]
  },
  {
   "cell_type": "code",
   "execution_count": 1,
   "id": "d94c9868",
   "metadata": {},
   "outputs": [],
   "source": [
    "# Python ≥3.5 is required\n",
    "import sys\n",
    "assert sys.version_info >= (3, 5)\n",
    "\n",
    "# Scikit-Learn ≥0.20 is required\n",
    "import sklearn\n",
    "assert sklearn.__version__ >= \"0.20\"\n",
    "\n",
    "try:\n",
    "    # %tensorflow_version only exists in Colab.\n",
    "    %tensorflow_version 2.x\n",
    "except Exception:\n",
    "    pass\n",
    "\n",
    "# TensorFlow ≥2.0 is required\n",
    "import tensorflow as tf\n",
    "from tensorflow import keras\n",
    "assert tf.__version__ >= \"2.0\"\n",
    "\n",
    "# Common imports\n",
    "import numpy as np\n",
    "import os\n",
    "\n",
    "# to make this notebook's output stable across runs\n",
    "np.random.seed(42)\n",
    "tf.random.set_seed(42)"
   ]
  },
  {
   "cell_type": "code",
   "execution_count": 2,
   "id": "66bbd25b",
   "metadata": {},
   "outputs": [],
   "source": [
    "fashion_mnist = keras.datasets.fashion_mnist\n",
    "(X_train_full, y_train_full), (X_test, y_test) = fashion_mnist.load_data()"
   ]
  },
  {
   "cell_type": "code",
   "execution_count": 3,
   "id": "a21fdb7b",
   "metadata": {},
   "outputs": [],
   "source": [
    "X_train = X_train_full / 255.\n",
    "y_train = y_train_full.astype(float)"
   ]
  },
  {
   "cell_type": "code",
   "execution_count": 4,
   "id": "a6f4e861",
   "metadata": {},
   "outputs": [
    {
     "data": {
      "text/plain": [
       "array([[[0., 0., 0., ..., 0., 0., 0.],\n",
       "        [0., 0., 0., ..., 0., 0., 0.],\n",
       "        [0., 0., 0., ..., 0., 0., 0.],\n",
       "        ...,\n",
       "        [0., 0., 0., ..., 0., 0., 0.],\n",
       "        [0., 0., 0., ..., 0., 0., 0.],\n",
       "        [0., 0., 0., ..., 0., 0., 0.]],\n",
       "\n",
       "       [[0., 0., 0., ..., 0., 0., 0.],\n",
       "        [0., 0., 0., ..., 0., 0., 0.],\n",
       "        [0., 0., 0., ..., 0., 0., 0.],\n",
       "        ...,\n",
       "        [0., 0., 0., ..., 0., 0., 0.],\n",
       "        [0., 0., 0., ..., 0., 0., 0.],\n",
       "        [0., 0., 0., ..., 0., 0., 0.]],\n",
       "\n",
       "       [[0., 0., 0., ..., 0., 0., 0.],\n",
       "        [0., 0., 0., ..., 0., 0., 0.],\n",
       "        [0., 0., 0., ..., 0., 0., 0.],\n",
       "        ...,\n",
       "        [0., 0., 0., ..., 0., 0., 0.],\n",
       "        [0., 0., 0., ..., 0., 0., 0.],\n",
       "        [0., 0., 0., ..., 0., 0., 0.]],\n",
       "\n",
       "       ...,\n",
       "\n",
       "       [[0., 0., 0., ..., 0., 0., 0.],\n",
       "        [0., 0., 0., ..., 0., 0., 0.],\n",
       "        [0., 0., 0., ..., 0., 0., 0.],\n",
       "        ...,\n",
       "        [0., 0., 0., ..., 0., 0., 0.],\n",
       "        [0., 0., 0., ..., 0., 0., 0.],\n",
       "        [0., 0., 0., ..., 0., 0., 0.]],\n",
       "\n",
       "       [[0., 0., 0., ..., 0., 0., 0.],\n",
       "        [0., 0., 0., ..., 0., 0., 0.],\n",
       "        [0., 0., 0., ..., 0., 0., 0.],\n",
       "        ...,\n",
       "        [0., 0., 0., ..., 0., 0., 0.],\n",
       "        [0., 0., 0., ..., 0., 0., 0.],\n",
       "        [0., 0., 0., ..., 0., 0., 0.]],\n",
       "\n",
       "       [[0., 0., 0., ..., 0., 0., 0.],\n",
       "        [0., 0., 0., ..., 0., 0., 0.],\n",
       "        [0., 0., 0., ..., 0., 0., 0.],\n",
       "        ...,\n",
       "        [0., 0., 0., ..., 0., 0., 0.],\n",
       "        [0., 0., 0., ..., 0., 0., 0.],\n",
       "        [0., 0., 0., ..., 0., 0., 0.]]])"
      ]
     },
     "execution_count": 4,
     "metadata": {},
     "output_type": "execute_result"
    }
   ],
   "source": [
    "X_train"
   ]
  },
  {
   "cell_type": "code",
   "execution_count": 5,
   "id": "981fe624",
   "metadata": {},
   "outputs": [
    {
     "data": {
      "text/plain": [
       "array([9., 0., 0., ..., 3., 0., 5.])"
      ]
     },
     "execution_count": 5,
     "metadata": {},
     "output_type": "execute_result"
    }
   ],
   "source": [
    "y_train"
   ]
  },
  {
   "cell_type": "code",
   "execution_count": 6,
   "id": "8cfd52d1",
   "metadata": {},
   "outputs": [],
   "source": [
    "def build_model():\n",
    "    from functools import partial\n",
    "\n",
    "    DefaultConv2D = partial(keras.layers.Conv2D,\n",
    "                            kernel_size=2, kernel_initializer = 'he_normal',\n",
    "                            activation='relu', padding=\"SAME\")\n",
    "\n",
    "    model = keras.models.Sequential([\n",
    "        DefaultConv2D(filters=64, kernel_size=3, input_shape=[28, 28,1]),\n",
    "        keras.layers.MaxPooling2D(pool_size=2),\n",
    "        DefaultConv2D(filters=256),\n",
    "        keras.layers.BatchNormalization(),\n",
    "        DefaultConv2D(filters=256),\n",
    "        keras.layers.BatchNormalization(),\n",
    "        keras.layers.MaxPooling2D(pool_size=2),\n",
    "        DefaultConv2D(filters=128),\n",
    "        keras.layers.BatchNormalization(),\n",
    "        DefaultConv2D(filters=128),\n",
    "        keras.layers.BatchNormalization(),\n",
    "        keras.layers.MaxPooling2D(pool_size=2),\n",
    "        \n",
    "        keras.layers.Flatten(),\n",
    "        keras.layers.Dense(units=128, activation='selu'),\n",
    "        keras.layers.BatchNormalization(),\n",
    "#         keras.layers.Dropout(0.5),\n",
    "        keras.layers.Dense(units=64, activation='selu'),\n",
    "        keras.layers.BatchNormalization(),\n",
    "#         keras.layers.Dropout(0.5),\n",
    "        keras.layers.Dense(units=10, activation='softmax'),\n",
    "    ])\n",
    "    \n",
    "    \n",
    "    model.compile(loss=\"sparse_categorical_crossentropy\",\n",
    "                  optimizer=\"adam\",\n",
    "                  metrics=[\"accuracy\"])\n",
    "    return model"
   ]
  },
  {
   "cell_type": "code",
   "execution_count": 13,
   "id": "fa2b52a0",
   "metadata": {},
   "outputs": [
    {
     "name": "stdout",
     "output_type": "stream",
     "text": [
      "processing fold # 0\n",
      "188/188 [==============================] - 0s 1ms/step - loss: 0.3320 - accuracy: 0.8783\n",
      "processing fold # 1\n",
      "188/188 [==============================] - 0s 1ms/step - loss: 0.2961 - accuracy: 0.8943\n",
      "processing fold # 2\n",
      "188/188 [==============================] - 0s 1ms/step - loss: 0.3069 - accuracy: 0.8845\n",
      "processing fold # 3\n",
      "188/188 [==============================] - 0s 2ms/step - loss: 0.3124 - accuracy: 0.8873\n",
      "processing fold # 4\n",
      "188/188 [==============================] - 0s 2ms/step - loss: 0.3111 - accuracy: 0.8842\n",
      "processing fold # 5\n",
      "188/188 [==============================] - 0s 2ms/step - loss: 0.3056 - accuracy: 0.8907\n",
      "processing fold # 6\n",
      "188/188 [==============================] - 0s 1ms/step - loss: 0.3088 - accuracy: 0.8965\n",
      "processing fold # 7\n",
      "188/188 [==============================] - 0s 1ms/step - loss: 0.2955 - accuracy: 0.8968\n",
      "processing fold # 8\n",
      "188/188 [==============================] - 1s 2ms/step - loss: 0.3129 - accuracy: 0.8880\n",
      "processing fold # 9\n",
      "188/188 [==============================] - 1s 2ms/step - loss: 0.3158 - accuracy: 0.8885\n"
     ]
    }
   ],
   "source": [
    "k = 10\n",
    "num_val = len(X_train) // k\n",
    "num_epochs = 30\n",
    "all_scores = []\n",
    "\n",
    "for i in range(k):\n",
    "    print('processing fold #', i)\n",
    "    \n",
    "    X_val = X_train[i * num_val: (i + 1) * num_val]\n",
    "    y_val = y_train[i * num_val: (i + 1) * num_val]\n",
    "\n",
    "    X_train_part = np.concatenate(\n",
    "        [X_train[:i * num_val],\n",
    "         X_train[(i + 1) * num_val:]],\n",
    "        axis=0)\n",
    "    y_train_part = np.concatenate(\n",
    "        [y_train[:i * num_val],\n",
    "         y_train[(i + 1) * num_val:]],\n",
    "        axis=0)\n",
    "\n",
    "    model = build_model()\n",
    "    \n",
    "    model.fit(X_train_part, y_train_part,\n",
    "              epochs=num_epochs, verbose=0, )\n",
    "    \n",
    "    val_loss, val_acc = model.evaluate(X_val, y_val)\n",
    "    all_scores.append(val_acc)"
   ]
  },
  {
   "cell_type": "code",
   "execution_count": 14,
   "id": "e4f839e6",
   "metadata": {},
   "outputs": [
    {
     "data": {
      "text/plain": [
       "[0.878333330154419,\n",
       " 0.8943333625793457,\n",
       " 0.8845000267028809,\n",
       " 0.887333333492279,\n",
       " 0.8841666579246521,\n",
       " 0.890666663646698,\n",
       " 0.8964999914169312,\n",
       " 0.8968333601951599,\n",
       " 0.8880000114440918,\n",
       " 0.8884999752044678]"
      ]
     },
     "execution_count": 14,
     "metadata": {},
     "output_type": "execute_result"
    }
   ],
   "source": [
    "all_scores"
   ]
  },
  {
   "cell_type": "code",
   "execution_count": 15,
   "id": "d4989752",
   "metadata": {
    "scrolled": true
   },
   "outputs": [
    {
     "data": {
      "text/plain": [
       "0.8889166712760925"
      ]
     },
     "execution_count": 15,
     "metadata": {},
     "output_type": "execute_result"
    }
   ],
   "source": [
    "np.mean(all_scores)"
   ]
  },
  {
   "cell_type": "code",
   "execution_count": null,
   "id": "5acacd69",
   "metadata": {},
   "outputs": [],
   "source": []
  },
  {
   "cell_type": "code",
   "execution_count": 16,
   "id": "d34e647a",
   "metadata": {},
   "outputs": [
    {
     "name": "stdout",
     "output_type": "stream",
     "text": [
      "processing fold # 0\n",
      "188/188 [==============================] - 0s 1ms/step - loss: 0.3063 - accuracy: 0.8883\n",
      "processing fold # 1\n",
      "188/188 [==============================] - 0s 1ms/step - loss: 0.2918 - accuracy: 0.8920\n",
      "processing fold # 2\n",
      "188/188 [==============================] - 0s 1ms/step - loss: 0.3122 - accuracy: 0.8895\n",
      "processing fold # 3\n",
      "188/188 [==============================] - 0s 1ms/step - loss: 0.3058 - accuracy: 0.8928\n",
      "processing fold # 4\n",
      "188/188 [==============================] - 0s 1ms/step - loss: 0.3045 - accuracy: 0.8932\n",
      "processing fold # 5\n",
      "188/188 [==============================] - 1s 2ms/step - loss: 0.2984 - accuracy: 0.8965\n",
      "processing fold # 6\n",
      "188/188 [==============================] - 0s 2ms/step - loss: 0.3055 - accuracy: 0.8927\n",
      "processing fold # 7\n",
      "188/188 [==============================] - 0s 2ms/step - loss: 0.3017 - accuracy: 0.8950\n",
      "processing fold # 8\n",
      "188/188 [==============================] - 0s 2ms/step - loss: 0.3021 - accuracy: 0.8962\n",
      "processing fold # 9\n",
      "188/188 [==============================] - 0s 2ms/step - loss: 0.3148 - accuracy: 0.8910\n"
     ]
    }
   ],
   "source": [
    "k = 10\n",
    "num_val = len(X_train) // k\n",
    "num_epochs = 35\n",
    "all_scores = []\n",
    "\n",
    "for i in range(k):\n",
    "    print('processing fold #', i)\n",
    "    \n",
    "    X_val = X_train[i * num_val: (i + 1) * num_val]\n",
    "    y_val = y_train[i * num_val: (i + 1) * num_val]\n",
    "\n",
    "    X_train_part = np.concatenate(\n",
    "        [X_train[:i * num_val],\n",
    "         X_train[(i + 1) * num_val:]],\n",
    "        axis=0)\n",
    "    y_train_part = np.concatenate(\n",
    "        [y_train[:i * num_val],\n",
    "         y_train[(i + 1) * num_val:]],\n",
    "        axis=0)\n",
    "\n",
    "    model = build_model()\n",
    "    \n",
    "    model.fit(X_train_part, y_train_part,\n",
    "              epochs=num_epochs, verbose=0, )\n",
    "    \n",
    "    val_loss, val_acc = model.evaluate(X_val, y_val)\n",
    "    all_scores.append(val_acc)"
   ]
  },
  {
   "cell_type": "code",
   "execution_count": 17,
   "id": "f9d4a4f1",
   "metadata": {},
   "outputs": [
    {
     "data": {
      "text/plain": [
       "[0.8883333206176758,\n",
       " 0.8920000195503235,\n",
       " 0.8895000219345093,\n",
       " 0.8928333520889282,\n",
       " 0.8931666612625122,\n",
       " 0.8964999914169312,\n",
       " 0.8926666378974915,\n",
       " 0.8949999809265137,\n",
       " 0.8961666822433472,\n",
       " 0.890999972820282]"
      ]
     },
     "execution_count": 17,
     "metadata": {},
     "output_type": "execute_result"
    }
   ],
   "source": [
    "all_scores"
   ]
  },
  {
   "cell_type": "code",
   "execution_count": 19,
   "id": "fb7476c6",
   "metadata": {},
   "outputs": [
    {
     "data": {
      "text/plain": [
       "0.8927166640758515"
      ]
     },
     "execution_count": 19,
     "metadata": {},
     "output_type": "execute_result"
    }
   ],
   "source": [
    "np.mean(all_scores)"
   ]
  },
  {
   "cell_type": "code",
   "execution_count": null,
   "id": "becef6d5",
   "metadata": {},
   "outputs": [],
   "source": []
  },
  {
   "cell_type": "code",
   "execution_count": 20,
   "id": "ffbd5309",
   "metadata": {},
   "outputs": [
    {
     "name": "stdout",
     "output_type": "stream",
     "text": [
      "processing fold # 0\n",
      "188/188 [==============================] - 0s 1ms/step - loss: 0.3041 - accuracy: 0.8907\n",
      "processing fold # 1\n",
      "188/188 [==============================] - 0s 1ms/step - loss: 0.3015 - accuracy: 0.8913\n",
      "processing fold # 2\n",
      "188/188 [==============================] - 1s 2ms/step - loss: 0.3157 - accuracy: 0.8888\n",
      "processing fold # 3\n",
      "188/188 [==============================] - 0s 2ms/step - loss: 0.3156 - accuracy: 0.8897\n",
      "processing fold # 4\n",
      "188/188 [==============================] - 1s 2ms/step - loss: 0.3041 - accuracy: 0.8945\n",
      "processing fold # 5\n",
      "188/188 [==============================] - 0s 2ms/step - loss: 0.3259 - accuracy: 0.8870\n",
      "processing fold # 6\n",
      "188/188 [==============================] - 0s 2ms/step - loss: 0.3167 - accuracy: 0.8972\n",
      "processing fold # 7\n",
      "188/188 [==============================] - 0s 2ms/step - loss: 0.3355 - accuracy: 0.8867\n",
      "processing fold # 8\n",
      "188/188 [==============================] - 0s 2ms/step - loss: 0.3112 - accuracy: 0.8933\n",
      "processing fold # 9\n",
      "188/188 [==============================] - 0s 2ms/step - loss: 0.3253 - accuracy: 0.8903\n"
     ]
    }
   ],
   "source": [
    "k = 10\n",
    "num_val = len(X_train) // k\n",
    "num_epochs = 40\n",
    "all_scores = []\n",
    "\n",
    "for i in range(k):\n",
    "    print('processing fold #', i)\n",
    "    \n",
    "    X_val = X_train[i * num_val: (i + 1) * num_val]\n",
    "    y_val = y_train[i * num_val: (i + 1) * num_val]\n",
    "\n",
    "    X_train_part = np.concatenate(\n",
    "        [X_train[:i * num_val],\n",
    "         X_train[(i + 1) * num_val:]],\n",
    "        axis=0)\n",
    "    y_train_part = np.concatenate(\n",
    "        [y_train[:i * num_val],\n",
    "         y_train[(i + 1) * num_val:]],\n",
    "        axis=0)\n",
    "\n",
    "    model = build_model()\n",
    "    \n",
    "    model.fit(X_train_part, y_train_part,\n",
    "              epochs=num_epochs, verbose=0, )\n",
    "    \n",
    "    val_loss, val_acc = model.evaluate(X_val, y_val)\n",
    "    all_scores.append(val_acc)"
   ]
  },
  {
   "cell_type": "code",
   "execution_count": 21,
   "id": "95b7c90b",
   "metadata": {},
   "outputs": [
    {
     "data": {
      "text/plain": [
       "[0.890666663646698,\n",
       " 0.8913333415985107,\n",
       " 0.8888333439826965,\n",
       " 0.8896666765213013,\n",
       " 0.8945000171661377,\n",
       " 0.8870000243186951,\n",
       " 0.8971666693687439,\n",
       " 0.8866666555404663,\n",
       " 0.8933333158493042,\n",
       " 0.890333354473114]"
      ]
     },
     "execution_count": 21,
     "metadata": {},
     "output_type": "execute_result"
    }
   ],
   "source": [
    "all_scores"
   ]
  },
  {
   "cell_type": "code",
   "execution_count": 22,
   "id": "cd519acd",
   "metadata": {},
   "outputs": [
    {
     "data": {
      "text/plain": [
       "0.8909500062465667"
      ]
     },
     "execution_count": 22,
     "metadata": {},
     "output_type": "execute_result"
    }
   ],
   "source": [
    "np.mean(all_scores)"
   ]
  },
  {
   "cell_type": "code",
   "execution_count": null,
   "id": "c0402940",
   "metadata": {},
   "outputs": [],
   "source": []
  },
  {
   "cell_type": "code",
   "execution_count": 7,
   "id": "023ec263",
   "metadata": {},
   "outputs": [
    {
     "name": "stdout",
     "output_type": "stream",
     "text": [
      "processing fold # 0\n",
      "188/188 [==============================] - 0s 1ms/step - loss: 0.3516 - accuracy: 0.8787\n",
      "processing fold # 1\n",
      "188/188 [==============================] - 0s 1ms/step - loss: 0.3287 - accuracy: 0.8903\n",
      "processing fold # 2\n",
      "188/188 [==============================] - 0s 1ms/step - loss: 0.3544 - accuracy: 0.8808\n",
      "processing fold # 3\n",
      "188/188 [==============================] - 0s 1ms/step - loss: 0.3257 - accuracy: 0.8895\n",
      "processing fold # 4\n",
      "188/188 [==============================] - 0s 1ms/step - loss: 0.3490 - accuracy: 0.8845\n",
      "processing fold # 5\n",
      "188/188 [==============================] - 0s 2ms/step - loss: 0.3555 - accuracy: 0.8893\n",
      "processing fold # 6\n",
      "188/188 [==============================] - 0s 1ms/step - loss: 0.3313 - accuracy: 0.8872\n",
      "processing fold # 7\n",
      "188/188 [==============================] - 0s 1ms/step - loss: 0.3370 - accuracy: 0.8887\n",
      "processing fold # 8\n",
      "188/188 [==============================] - 0s 1ms/step - loss: 0.3463 - accuracy: 0.8865\n",
      "processing fold # 9\n",
      "188/188 [==============================] - 0s 1ms/step - loss: 0.3256 - accuracy: 0.8903\n"
     ]
    }
   ],
   "source": [
    "k = 10\n",
    "num_val = len(X_train) // k\n",
    "num_epochs = 45\n",
    "all_scores = []\n",
    "\n",
    "for i in range(k):\n",
    "    print('processing fold #', i)\n",
    "    \n",
    "    X_val = X_train[i * num_val: (i + 1) * num_val]\n",
    "    y_val = y_train[i * num_val: (i + 1) * num_val]\n",
    "\n",
    "    X_train_part = np.concatenate(\n",
    "        [X_train[:i * num_val],\n",
    "         X_train[(i + 1) * num_val:]],\n",
    "        axis=0)\n",
    "    y_train_part = np.concatenate(\n",
    "        [y_train[:i * num_val],\n",
    "         y_train[(i + 1) * num_val:]],\n",
    "        axis=0)\n",
    "\n",
    "    model = build_model()\n",
    "    \n",
    "    model.fit(X_train_part, y_train_part,\n",
    "              epochs=num_epochs, verbose=0, )\n",
    "    \n",
    "    val_loss, val_acc = model.evaluate(X_val, y_val)\n",
    "    all_scores.append(val_acc)\n",
    "\n",
    "\n",
    "\n"
   ]
  },
  {
   "cell_type": "code",
   "execution_count": 8,
   "id": "a5919906",
   "metadata": {},
   "outputs": [
    {
     "data": {
      "text/plain": [
       "[0.8786666393280029,\n",
       " 0.890333354473114,\n",
       " 0.8808333277702332,\n",
       " 0.8895000219345093,\n",
       " 0.8845000267028809,\n",
       " 0.8893333077430725,\n",
       " 0.8871666789054871,\n",
       " 0.8886666893959045,\n",
       " 0.8865000009536743,\n",
       " 0.890333354473114]"
      ]
     },
     "execution_count": 8,
     "metadata": {},
     "output_type": "execute_result"
    }
   ],
   "source": [
    "all_scores"
   ]
  },
  {
   "cell_type": "code",
   "execution_count": 9,
   "id": "0cdacfdd",
   "metadata": {},
   "outputs": [
    {
     "data": {
      "text/plain": [
       "0.8865833401679992"
      ]
     },
     "execution_count": 9,
     "metadata": {},
     "output_type": "execute_result"
    }
   ],
   "source": [
    "np.mean(all_scores)"
   ]
  },
  {
   "cell_type": "code",
   "execution_count": null,
   "id": "99ac502e",
   "metadata": {},
   "outputs": [],
   "source": []
  },
  {
   "cell_type": "code",
   "execution_count": 10,
   "id": "a011f449",
   "metadata": {},
   "outputs": [
    {
     "name": "stdout",
     "output_type": "stream",
     "text": [
      "processing fold # 0\n",
      "188/188 [==============================] - 0s 1ms/step - loss: 0.3292 - accuracy: 0.8870\n",
      "processing fold # 1\n",
      "188/188 [==============================] - 0s 1ms/step - loss: 0.3080 - accuracy: 0.8945\n",
      "processing fold # 2\n",
      "188/188 [==============================] - 0s 1ms/step - loss: 0.3321 - accuracy: 0.8878\n",
      "processing fold # 3\n",
      "188/188 [==============================] - 0s 1ms/step - loss: 0.3170 - accuracy: 0.8912\n",
      "processing fold # 4\n",
      "188/188 [==============================] - 0s 1ms/step - loss: 0.3288 - accuracy: 0.8870\n",
      "processing fold # 5\n",
      "188/188 [==============================] - 0s 1ms/step - loss: 0.3405 - accuracy: 0.8853\n",
      "processing fold # 6\n",
      "188/188 [==============================] - 0s 1ms/step - loss: 0.3224 - accuracy: 0.8975\n",
      "processing fold # 7\n",
      "188/188 [==============================] - 0s 1ms/step - loss: 0.3275 - accuracy: 0.8927\n",
      "processing fold # 8\n",
      "188/188 [==============================] - 0s 1ms/step - loss: 0.3268 - accuracy: 0.8905\n",
      "processing fold # 9\n",
      "188/188 [==============================] - 0s 1ms/step - loss: 0.3450 - accuracy: 0.8882\n"
     ]
    }
   ],
   "source": [
    "k = 10\n",
    "num_val = len(X_train) // k\n",
    "num_epochs = 50\n",
    "all_scores = []\n",
    "\n",
    "for i in range(k):\n",
    "    print('processing fold #', i)\n",
    "    \n",
    "    X_val = X_train[i * num_val: (i + 1) * num_val]\n",
    "    y_val = y_train[i * num_val: (i + 1) * num_val]\n",
    "\n",
    "    X_train_part = np.concatenate(\n",
    "        [X_train[:i * num_val],\n",
    "         X_train[(i + 1) * num_val:]],\n",
    "        axis=0)\n",
    "    y_train_part = np.concatenate(\n",
    "        [y_train[:i * num_val],\n",
    "         y_train[(i + 1) * num_val:]],\n",
    "        axis=0)\n",
    "\n",
    "    model = build_model()\n",
    "    \n",
    "    model.fit(X_train_part, y_train_part,\n",
    "              epochs=num_epochs, verbose=0, )\n",
    "    \n",
    "    val_loss, val_acc = model.evaluate(X_val, y_val)\n",
    "    all_scores.append(val_acc)"
   ]
  },
  {
   "cell_type": "code",
   "execution_count": 11,
   "id": "aa3bda24",
   "metadata": {},
   "outputs": [
    {
     "data": {
      "text/plain": [
       "[0.8870000243186951,\n",
       " 0.8945000171661377,\n",
       " 0.8878333568572998,\n",
       " 0.8911666870117188,\n",
       " 0.8870000243186951,\n",
       " 0.8853333592414856,\n",
       " 0.8974999785423279,\n",
       " 0.8926666378974915,\n",
       " 0.890500009059906,\n",
       " 0.8881666660308838]"
      ]
     },
     "execution_count": 11,
     "metadata": {},
     "output_type": "execute_result"
    }
   ],
   "source": [
    "all_scores"
   ]
  },
  {
   "cell_type": "code",
   "execution_count": 12,
   "id": "449bd2fb",
   "metadata": {},
   "outputs": [
    {
     "data": {
      "text/plain": [
       "0.8901666760444641"
      ]
     },
     "execution_count": 12,
     "metadata": {},
     "output_type": "execute_result"
    }
   ],
   "source": [
    "np.mean(all_scores)"
   ]
  },
  {
   "cell_type": "code",
   "execution_count": null,
   "id": "e6e36286",
   "metadata": {},
   "outputs": [],
   "source": []
  },
  {
   "cell_type": "code",
   "execution_count": 13,
   "id": "3982b90e",
   "metadata": {},
   "outputs": [
    {
     "name": "stdout",
     "output_type": "stream",
     "text": [
      "processing fold # 0\n",
      "188/188 [==============================] - 0s 2ms/step - loss: 0.3218 - accuracy: 0.8930\n",
      "processing fold # 1\n",
      "188/188 [==============================] - 0s 1ms/step - loss: 0.3283 - accuracy: 0.8868\n",
      "processing fold # 2\n",
      "188/188 [==============================] - 0s 1ms/step - loss: 0.3762 - accuracy: 0.8777\n",
      "processing fold # 3\n",
      "188/188 [==============================] - 0s 1ms/step - loss: 0.3372 - accuracy: 0.8913\n",
      "processing fold # 4\n",
      "188/188 [==============================] - 1s 2ms/step - loss: 0.3143 - accuracy: 0.8957\n",
      "processing fold # 5\n",
      "188/188 [==============================] - 0s 2ms/step - loss: 0.3195 - accuracy: 0.8995\n",
      "processing fold # 6\n",
      "188/188 [==============================] - 0s 2ms/step - loss: 0.3329 - accuracy: 0.8977\n",
      "processing fold # 7\n",
      "188/188 [==============================] - 0s 2ms/step - loss: 0.3516 - accuracy: 0.8900\n",
      "processing fold # 8\n",
      "188/188 [==============================] - 0s 1ms/step - loss: 0.4264 - accuracy: 0.8622\n",
      "processing fold # 9\n",
      "188/188 [==============================] - 0s 1ms/step - loss: 0.4622 - accuracy: 0.8637\n"
     ]
    }
   ],
   "source": [
    "k = 10\n",
    "num_val = len(X_train) // k\n",
    "num_epochs = 55\n",
    "all_scores = []\n",
    "\n",
    "for i in range(k):\n",
    "    print('processing fold #', i)\n",
    "    \n",
    "    X_val = X_train[i * num_val: (i + 1) * num_val]\n",
    "    y_val = y_train[i * num_val: (i + 1) * num_val]\n",
    "\n",
    "    X_train_part = np.concatenate(\n",
    "        [X_train[:i * num_val],\n",
    "         X_train[(i + 1) * num_val:]],\n",
    "        axis=0)\n",
    "    y_train_part = np.concatenate(\n",
    "        [y_train[:i * num_val],\n",
    "         y_train[(i + 1) * num_val:]],\n",
    "        axis=0)\n",
    "\n",
    "    model = build_model()\n",
    "    \n",
    "    model.fit(X_train_part, y_train_part,\n",
    "              epochs=num_epochs, verbose=0, )\n",
    "    \n",
    "    val_loss, val_acc = model.evaluate(X_val, y_val)\n",
    "    all_scores.append(val_acc)"
   ]
  },
  {
   "cell_type": "code",
   "execution_count": 14,
   "id": "eb3d19d9",
   "metadata": {},
   "outputs": [
    {
     "data": {
      "text/plain": [
       "[0.8930000066757202,\n",
       " 0.8868333101272583,\n",
       " 0.8776666522026062,\n",
       " 0.8913333415985107,\n",
       " 0.8956666588783264,\n",
       " 0.8995000123977661,\n",
       " 0.8976666927337646,\n",
       " 0.8899999856948853,\n",
       " 0.8621666431427002,\n",
       " 0.8636666536331177]"
      ]
     },
     "execution_count": 14,
     "metadata": {},
     "output_type": "execute_result"
    }
   ],
   "source": [
    "all_scores"
   ]
  },
  {
   "cell_type": "code",
   "execution_count": 15,
   "id": "cf7bd18c",
   "metadata": {},
   "outputs": [
    {
     "data": {
      "text/plain": [
       "0.8857499957084656"
      ]
     },
     "execution_count": 15,
     "metadata": {},
     "output_type": "execute_result"
    }
   ],
   "source": [
    "np.mean(all_scores)"
   ]
  },
  {
   "cell_type": "code",
   "execution_count": null,
   "id": "89479a96",
   "metadata": {},
   "outputs": [],
   "source": []
  },
  {
   "cell_type": "code",
   "execution_count": 16,
   "id": "1b9a9e38",
   "metadata": {},
   "outputs": [
    {
     "name": "stdout",
     "output_type": "stream",
     "text": [
      "processing fold # 0\n",
      "188/188 [==============================] - 0s 1ms/step - loss: 0.3787 - accuracy: 0.8910\n",
      "processing fold # 1\n",
      "188/188 [==============================] - 0s 1ms/step - loss: 0.3261 - accuracy: 0.8995\n",
      "processing fold # 2\n",
      "188/188 [==============================] - 0s 1ms/step - loss: 0.3713 - accuracy: 0.8950\n",
      "processing fold # 3\n",
      "188/188 [==============================] - 0s 1ms/step - loss: 0.3727 - accuracy: 0.8918\n",
      "processing fold # 4\n",
      "188/188 [==============================] - 0s 1ms/step - loss: 0.3648 - accuracy: 0.8962\n",
      "processing fold # 5\n",
      "188/188 [==============================] - 0s 2ms/step - loss: 0.3825 - accuracy: 0.8897\n",
      "processing fold # 6\n",
      "188/188 [==============================] - 0s 2ms/step - loss: 0.3631 - accuracy: 0.8968\n",
      "processing fold # 7\n",
      "188/188 [==============================] - 0s 2ms/step - loss: 0.3685 - accuracy: 0.8942\n",
      "processing fold # 8\n",
      "188/188 [==============================] - 0s 2ms/step - loss: 0.4106 - accuracy: 0.8848\n",
      "processing fold # 9\n",
      "188/188 [==============================] - 0s 2ms/step - loss: 0.4361 - accuracy: 0.8813\n"
     ]
    }
   ],
   "source": [
    "k = 10\n",
    "num_val = len(X_train) // k\n",
    "num_epochs = 75\n",
    "all_scores = []\n",
    "\n",
    "for i in range(k):\n",
    "    print('processing fold #', i)\n",
    "    \n",
    "    X_val = X_train[i * num_val: (i + 1) * num_val]\n",
    "    y_val = y_train[i * num_val: (i + 1) * num_val]\n",
    "\n",
    "    X_train_part = np.concatenate(\n",
    "        [X_train[:i * num_val],\n",
    "         X_train[(i + 1) * num_val:]],\n",
    "        axis=0)\n",
    "    y_train_part = np.concatenate(\n",
    "        [y_train[:i * num_val],\n",
    "         y_train[(i + 1) * num_val:]],\n",
    "        axis=0)\n",
    "\n",
    "    model = build_model()\n",
    "    \n",
    "    model.fit(X_train_part, y_train_part,\n",
    "              epochs=num_epochs, verbose=0, )\n",
    "    \n",
    "    val_loss, val_acc = model.evaluate(X_val, y_val)\n",
    "    all_scores.append(val_acc)"
   ]
  },
  {
   "cell_type": "code",
   "execution_count": 17,
   "id": "cc43aeb0",
   "metadata": {},
   "outputs": [
    {
     "data": {
      "text/plain": [
       "[0.890999972820282,\n",
       " 0.8995000123977661,\n",
       " 0.8949999809265137,\n",
       " 0.8918333053588867,\n",
       " 0.8961666822433472,\n",
       " 0.8896666765213013,\n",
       " 0.8968333601951599,\n",
       " 0.8941666483879089,\n",
       " 0.8848333358764648,\n",
       " 0.8813333511352539]"
      ]
     },
     "execution_count": 17,
     "metadata": {},
     "output_type": "execute_result"
    }
   ],
   "source": [
    "all_scores"
   ]
  },
  {
   "cell_type": "code",
   "execution_count": 18,
   "id": "c1bdd1c5",
   "metadata": {},
   "outputs": [
    {
     "data": {
      "text/plain": [
       "0.8920333325862885"
      ]
     },
     "execution_count": 18,
     "metadata": {},
     "output_type": "execute_result"
    }
   ],
   "source": [
    "np.mean(all_scores)"
   ]
  },
  {
   "cell_type": "code",
   "execution_count": null,
   "id": "cafdcc3b",
   "metadata": {},
   "outputs": [],
   "source": []
  },
  {
   "cell_type": "code",
   "execution_count": 19,
   "id": "5e1532d2",
   "metadata": {},
   "outputs": [
    {
     "name": "stdout",
     "output_type": "stream",
     "text": [
      "processing fold # 0\n",
      "188/188 [==============================] - 0s 2ms/step - loss: 0.4241 - accuracy: 0.8905\n",
      "processing fold # 1\n",
      "188/188 [==============================] - 0s 2ms/step - loss: 0.4009 - accuracy: 0.8920\n",
      "processing fold # 2\n",
      "188/188 [==============================] - 0s 2ms/step - loss: 0.4051 - accuracy: 0.8967\n",
      "processing fold # 3\n",
      "188/188 [==============================] - 0s 2ms/step - loss: 0.4644 - accuracy: 0.8858\n",
      "processing fold # 4\n",
      "188/188 [==============================] - 0s 2ms/step - loss: 0.4391 - accuracy: 0.8887\n",
      "processing fold # 5\n",
      "188/188 [==============================] - 0s 2ms/step - loss: 0.3990 - accuracy: 0.9010\n",
      "processing fold # 6\n",
      "188/188 [==============================] - 0s 2ms/step - loss: 0.4117 - accuracy: 0.9022\n",
      "processing fold # 7\n",
      "188/188 [==============================] - 0s 2ms/step - loss: 0.4002 - accuracy: 0.9023\n",
      "processing fold # 8\n",
      "188/188 [==============================] - 0s 2ms/step - loss: 0.4964 - accuracy: 0.8828\n",
      "processing fold # 9\n",
      "188/188 [==============================] - 0s 2ms/step - loss: 0.4359 - accuracy: 0.8912\n"
     ]
    }
   ],
   "source": [
    "k = 10\n",
    "num_val = len(X_train) // k\n",
    "num_epochs = 100\n",
    "all_scores = []\n",
    "\n",
    "for i in range(k):\n",
    "    print('processing fold #', i)\n",
    "    \n",
    "    X_val = X_train[i * num_val: (i + 1) * num_val]\n",
    "    y_val = y_train[i * num_val: (i + 1) * num_val]\n",
    "\n",
    "    X_train_part = np.concatenate(\n",
    "        [X_train[:i * num_val],\n",
    "         X_train[(i + 1) * num_val:]],\n",
    "        axis=0)\n",
    "    y_train_part = np.concatenate(\n",
    "        [y_train[:i * num_val],\n",
    "         y_train[(i + 1) * num_val:]],\n",
    "        axis=0)\n",
    "\n",
    "    model = build_model()\n",
    "    \n",
    "    model.fit(X_train_part, y_train_part,\n",
    "              epochs=num_epochs, verbose=0, )\n",
    "    \n",
    "    val_loss, val_acc = model.evaluate(X_val, y_val)\n",
    "    all_scores.append(val_acc)"
   ]
  },
  {
   "cell_type": "code",
   "execution_count": 20,
   "id": "8b85da53",
   "metadata": {},
   "outputs": [
    {
     "data": {
      "text/plain": [
       "[0.890500009059906,\n",
       " 0.8920000195503235,\n",
       " 0.8966666460037231,\n",
       " 0.8858333230018616,\n",
       " 0.8886666893959045,\n",
       " 0.9010000228881836,\n",
       " 0.9021666646003723,\n",
       " 0.9023333191871643,\n",
       " 0.8828333616256714,\n",
       " 0.8911666870117188]"
      ]
     },
     "execution_count": 20,
     "metadata": {},
     "output_type": "execute_result"
    }
   ],
   "source": [
    "all_scores"
   ]
  },
  {
   "cell_type": "code",
   "execution_count": 21,
   "id": "45d0c150",
   "metadata": {},
   "outputs": [
    {
     "data": {
      "text/plain": [
       "0.893316674232483"
      ]
     },
     "execution_count": 21,
     "metadata": {},
     "output_type": "execute_result"
    }
   ],
   "source": [
    "np.mean(all_scores)"
   ]
  },
  {
   "cell_type": "code",
   "execution_count": null,
   "id": "ca4c2b53",
   "metadata": {},
   "outputs": [],
   "source": []
  },
  {
   "cell_type": "code",
   "execution_count": 22,
   "id": "420d1845",
   "metadata": {},
   "outputs": [
    {
     "name": "stdout",
     "output_type": "stream",
     "text": [
      "processing fold # 0\n",
      "188/188 [==============================] - 0s 2ms/step - loss: 0.6034 - accuracy: 0.8843\n",
      "processing fold # 1\n",
      "188/188 [==============================] - 0s 2ms/step - loss: 0.5410 - accuracy: 0.8992\n",
      "processing fold # 2\n",
      "188/188 [==============================] - 0s 2ms/step - loss: 0.6295 - accuracy: 0.8812\n",
      "processing fold # 3\n",
      "188/188 [==============================] - 1s 2ms/step - loss: 0.5696 - accuracy: 0.8980\n",
      "processing fold # 4\n",
      "188/188 [==============================] - 0s 2ms/step - loss: 0.5846 - accuracy: 0.8910\n",
      "processing fold # 5\n",
      "188/188 [==============================] - 0s 2ms/step - loss: 0.5719 - accuracy: 0.9017\n",
      "processing fold # 6\n",
      "188/188 [==============================] - 1s 2ms/step - loss: 0.5268 - accuracy: 0.9028\n",
      "processing fold # 7\n",
      "188/188 [==============================] - 0s 2ms/step - loss: 0.5804 - accuracy: 0.8945\n",
      "processing fold # 8\n",
      "188/188 [==============================] - 0s 2ms/step - loss: 0.6458 - accuracy: 0.8875\n",
      "processing fold # 9\n",
      "188/188 [==============================] - 0s 2ms/step - loss: 0.5799 - accuracy: 0.8910\n"
     ]
    }
   ],
   "source": [
    "k = 10\n",
    "num_val = len(X_train) // k\n",
    "num_epochs = 150\n",
    "all_scores = []\n",
    "\n",
    "for i in range(k):\n",
    "    print('processing fold #', i)\n",
    "    \n",
    "    X_val = X_train[i * num_val: (i + 1) * num_val]\n",
    "    y_val = y_train[i * num_val: (i + 1) * num_val]\n",
    "\n",
    "    X_train_part = np.concatenate(\n",
    "        [X_train[:i * num_val],\n",
    "         X_train[(i + 1) * num_val:]],\n",
    "        axis=0)\n",
    "    y_train_part = np.concatenate(\n",
    "        [y_train[:i * num_val],\n",
    "         y_train[(i + 1) * num_val:]],\n",
    "        axis=0)\n",
    "\n",
    "    model = build_model()\n",
    "    \n",
    "    model.fit(X_train_part, y_train_part,\n",
    "              epochs=num_epochs, verbose=0, )\n",
    "    \n",
    "    val_loss, val_acc = model.evaluate(X_val, y_val)\n",
    "    all_scores.append(val_acc)"
   ]
  },
  {
   "cell_type": "code",
   "execution_count": 23,
   "id": "bc339fd2",
   "metadata": {},
   "outputs": [
    {
     "data": {
      "text/plain": [
       "[0.8843333125114441,\n",
       " 0.8991666436195374,\n",
       " 0.8811666369438171,\n",
       " 0.8980000019073486,\n",
       " 0.890999972820282,\n",
       " 0.9016666412353516,\n",
       " 0.9028333425521851,\n",
       " 0.8945000171661377,\n",
       " 0.887499988079071,\n",
       " 0.890999972820282]"
      ]
     },
     "execution_count": 23,
     "metadata": {},
     "output_type": "execute_result"
    }
   ],
   "source": [
    "all_scores"
   ]
  },
  {
   "cell_type": "code",
   "execution_count": 24,
   "id": "0a40eb9d",
   "metadata": {},
   "outputs": [
    {
     "data": {
      "text/plain": [
       "0.8931166529655457"
      ]
     },
     "execution_count": 24,
     "metadata": {},
     "output_type": "execute_result"
    }
   ],
   "source": [
    "np.mean(all_scores)"
   ]
  },
  {
   "cell_type": "code",
   "execution_count": null,
   "id": "ebbdee58",
   "metadata": {},
   "outputs": [],
   "source": []
  },
  {
   "cell_type": "code",
   "execution_count": 25,
   "id": "db6c055d",
   "metadata": {},
   "outputs": [
    {
     "name": "stdout",
     "output_type": "stream",
     "text": [
      "processing fold # 0\n",
      "188/188 [==============================] - 0s 2ms/step - loss: 0.7914 - accuracy: 0.8945\n",
      "processing fold # 1\n",
      "188/188 [==============================] - 0s 2ms/step - loss: 0.7240 - accuracy: 0.9022\n",
      "processing fold # 2\n",
      "188/188 [==============================] - 0s 2ms/step - loss: 0.8082 - accuracy: 0.8957\n",
      "processing fold # 3\n",
      "188/188 [==============================] - 0s 2ms/step - loss: 0.7843 - accuracy: 0.8977\n",
      "processing fold # 4\n",
      "188/188 [==============================] - 0s 2ms/step - loss: 0.7788 - accuracy: 0.8998\n",
      "processing fold # 5\n",
      "188/188 [==============================] - 0s 2ms/step - loss: 0.7446 - accuracy: 0.9020\n",
      "processing fold # 6\n",
      "188/188 [==============================] - 0s 2ms/step - loss: 0.7513 - accuracy: 0.9040\n",
      "processing fold # 7\n",
      "188/188 [==============================] - 0s 2ms/step - loss: 0.8099 - accuracy: 0.9012\n",
      "processing fold # 8\n",
      "188/188 [==============================] - 0s 2ms/step - loss: 0.8088 - accuracy: 0.8988\n",
      "processing fold # 9\n",
      "188/188 [==============================] - 0s 2ms/step - loss: 0.8170 - accuracy: 0.8968\n"
     ]
    }
   ],
   "source": [
    "k = 10\n",
    "num_val = len(X_train) // k\n",
    "num_epochs = 300\n",
    "all_scores = []\n",
    "\n",
    "for i in range(k):\n",
    "    print('processing fold #', i)\n",
    "    \n",
    "    X_val = X_train[i * num_val: (i + 1) * num_val]\n",
    "    y_val = y_train[i * num_val: (i + 1) * num_val]\n",
    "\n",
    "    X_train_part = np.concatenate(\n",
    "        [X_train[:i * num_val],\n",
    "         X_train[(i + 1) * num_val:]],\n",
    "        axis=0)\n",
    "    y_train_part = np.concatenate(\n",
    "        [y_train[:i * num_val],\n",
    "         y_train[(i + 1) * num_val:]],\n",
    "        axis=0)\n",
    "\n",
    "    model = build_model()\n",
    "    \n",
    "    model.fit(X_train_part, y_train_part,\n",
    "              epochs=num_epochs, verbose=0, )\n",
    "    \n",
    "    val_loss, val_acc = model.evaluate(X_val, y_val)\n",
    "    all_scores.append(val_acc)"
   ]
  },
  {
   "cell_type": "code",
   "execution_count": 26,
   "id": "4e924437",
   "metadata": {},
   "outputs": [
    {
     "data": {
      "text/plain": [
       "[0.8945000171661377,\n",
       " 0.9021666646003723,\n",
       " 0.8956666588783264,\n",
       " 0.8976666927337646,\n",
       " 0.8998333215713501,\n",
       " 0.9020000100135803,\n",
       " 0.9039999842643738,\n",
       " 0.9011666774749756,\n",
       " 0.8988333344459534,\n",
       " 0.8968333601951599]"
      ]
     },
     "execution_count": 26,
     "metadata": {},
     "output_type": "execute_result"
    }
   ],
   "source": [
    "all_scores"
   ]
  },
  {
   "cell_type": "code",
   "execution_count": 27,
   "id": "7b5d8a72",
   "metadata": {},
   "outputs": [
    {
     "data": {
      "text/plain": [
       "0.8992666721343994"
      ]
     },
     "execution_count": 27,
     "metadata": {},
     "output_type": "execute_result"
    }
   ],
   "source": [
    "np.mean(all_scores)"
   ]
  },
  {
   "cell_type": "code",
   "execution_count": null,
   "id": "2f6a658e",
   "metadata": {},
   "outputs": [],
   "source": []
  },
  {
   "cell_type": "code",
   "execution_count": 28,
   "id": "289338b3",
   "metadata": {},
   "outputs": [
    {
     "name": "stdout",
     "output_type": "stream",
     "text": [
      "processing fold # 0\n",
      "188/188 [==============================] - 0s 2ms/step - loss: 0.2945 - accuracy: 0.8992\n",
      "processing fold # 1\n",
      "188/188 [==============================] - 0s 2ms/step - loss: 0.2995 - accuracy: 0.8933\n",
      "processing fold # 2\n",
      "188/188 [==============================] - 0s 2ms/step - loss: 0.3321 - accuracy: 0.8803\n",
      "processing fold # 3\n",
      "188/188 [==============================] - 0s 2ms/step - loss: 0.3123 - accuracy: 0.8890\n",
      "processing fold # 4\n",
      "188/188 [==============================] - 0s 2ms/step - loss: 0.2946 - accuracy: 0.8937\n",
      "processing fold # 5\n",
      "188/188 [==============================] - 0s 2ms/step - loss: 0.3071 - accuracy: 0.8957\n",
      "processing fold # 6\n",
      "188/188 [==============================] - 0s 2ms/step - loss: 0.3240 - accuracy: 0.8933\n",
      "processing fold # 7\n",
      "188/188 [==============================] - 0s 2ms/step - loss: 0.3201 - accuracy: 0.8912\n",
      "processing fold # 8\n",
      "188/188 [==============================] - 0s 2ms/step - loss: 0.3338 - accuracy: 0.8890\n",
      "processing fold # 9\n",
      "188/188 [==============================] - 0s 2ms/step - loss: 0.3230 - accuracy: 0.8862\n"
     ]
    }
   ],
   "source": [
    "k = 10\n",
    "num_val = len(X_train) // k\n",
    "num_epochs = 37\n",
    "all_scores = []\n",
    "\n",
    "for i in range(k):\n",
    "    print('processing fold #', i)\n",
    "    \n",
    "    X_val = X_train[i * num_val: (i + 1) * num_val]\n",
    "    y_val = y_train[i * num_val: (i + 1) * num_val]\n",
    "\n",
    "    X_train_part = np.concatenate(\n",
    "        [X_train[:i * num_val],\n",
    "         X_train[(i + 1) * num_val:]],\n",
    "        axis=0)\n",
    "    y_train_part = np.concatenate(\n",
    "        [y_train[:i * num_val],\n",
    "         y_train[(i + 1) * num_val:]],\n",
    "        axis=0)\n",
    "\n",
    "    model = build_model()\n",
    "    \n",
    "    model.fit(X_train_part, y_train_part,\n",
    "              epochs=num_epochs, verbose=0, )\n",
    "    \n",
    "    val_loss, val_acc = model.evaluate(X_val, y_val)\n",
    "    all_scores.append(val_acc)"
   ]
  },
  {
   "cell_type": "code",
   "execution_count": 29,
   "id": "abd90fe7",
   "metadata": {},
   "outputs": [
    {
     "data": {
      "text/plain": [
       "[0.8991666436195374,\n",
       " 0.8933333158493042,\n",
       " 0.8803333044052124,\n",
       " 0.8889999985694885,\n",
       " 0.893666684627533,\n",
       " 0.8956666588783264,\n",
       " 0.8933333158493042,\n",
       " 0.8911666870117188,\n",
       " 0.8889999985694885,\n",
       " 0.8861666917800903]"
      ]
     },
     "execution_count": 29,
     "metadata": {},
     "output_type": "execute_result"
    }
   ],
   "source": [
    "all_scores"
   ]
  },
  {
   "cell_type": "code",
   "execution_count": 30,
   "id": "d3a71cb9",
   "metadata": {},
   "outputs": [
    {
     "data": {
      "text/plain": [
       "0.8910833299160004"
      ]
     },
     "execution_count": 30,
     "metadata": {},
     "output_type": "execute_result"
    }
   ],
   "source": [
    "np.mean(all_scores)"
   ]
  },
  {
   "cell_type": "code",
   "execution_count": null,
   "id": "d007f92c",
   "metadata": {},
   "outputs": [
    {
     "name": "stdout",
     "output_type": "stream",
     "text": [
      "processing fold # 0\n"
     ]
    }
   ],
   "source": [
    "k = 10\n",
    "num_val = len(X_train) // k\n",
    "num_epochs = 350\n",
    "all_scores = []\n",
    "\n",
    "for i in range(k):\n",
    "    print('processing fold #', i)\n",
    "    \n",
    "    X_val = X_train[i * num_val: (i + 1) * num_val]\n",
    "    y_val = y_train[i * num_val: (i + 1) * num_val]\n",
    "\n",
    "    X_train_part = np.concatenate(\n",
    "        [X_train[:i * num_val],\n",
    "         X_train[(i + 1) * num_val:]],\n",
    "        axis=0)\n",
    "    y_train_part = np.concatenate(\n",
    "        [y_train[:i * num_val],\n",
    "         y_train[(i + 1) * num_val:]],\n",
    "        axis=0)\n",
    "\n",
    "    model = build_model()\n",
    "    \n",
    "    model.fit(X_train_part, y_train_part,\n",
    "              epochs=num_epochs, verbose=0, )\n",
    "    \n",
    "    val_loss, val_acc = model.evaluate(X_val, y_val)\n",
    "    all_scores.append(val_acc)"
   ]
  },
  {
   "cell_type": "code",
   "execution_count": null,
   "id": "42a859db",
   "metadata": {},
   "outputs": [],
   "source": [
    "np.mean(all_scores)"
   ]
  },
  {
   "cell_type": "code",
   "execution_count": null,
   "id": "c93748a9",
   "metadata": {},
   "outputs": [],
   "source": []
  }
 ],
 "metadata": {
  "kernelspec": {
   "display_name": "Python 3",
   "language": "python",
   "name": "python3"
  },
  "language_info": {
   "codemirror_mode": {
    "name": "ipython",
    "version": 3
   },
   "file_extension": ".py",
   "mimetype": "text/x-python",
   "name": "python",
   "nbconvert_exporter": "python",
   "pygments_lexer": "ipython3",
   "version": "3.8.8"
  }
 },
 "nbformat": 4,
 "nbformat_minor": 5
}
