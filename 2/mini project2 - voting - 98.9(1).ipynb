{
 "cells": [
  {
   "cell_type": "markdown",
   "id": "fcd1037d",
   "metadata": {},
   "source": [
    "# Mini Project2\n",
    "### 20181531 김연주"
   ]
  },
  {
   "cell_type": "code",
   "execution_count": 1,
   "id": "5f892652",
   "metadata": {
    "scrolled": true
   },
   "outputs": [
    {
     "data": {
      "text/html": [
       "<div>\n",
       "<style scoped>\n",
       "    .dataframe tbody tr th:only-of-type {\n",
       "        vertical-align: middle;\n",
       "    }\n",
       "\n",
       "    .dataframe tbody tr th {\n",
       "        vertical-align: top;\n",
       "    }\n",
       "\n",
       "    .dataframe thead th {\n",
       "        text-align: right;\n",
       "    }\n",
       "</style>\n",
       "<table border=\"1\" class=\"dataframe\">\n",
       "  <thead>\n",
       "    <tr style=\"text-align: right;\">\n",
       "      <th></th>\n",
       "      <th>tBodyAcc-mean()-X</th>\n",
       "      <th>tBodyAcc-mean()-Y</th>\n",
       "      <th>tBodyAcc-mean()-Z</th>\n",
       "      <th>tBodyAcc-std()-X</th>\n",
       "      <th>tBodyAcc-std()-Y</th>\n",
       "      <th>tBodyAcc-std()-Z</th>\n",
       "      <th>tBodyAcc-mad()-X</th>\n",
       "      <th>tBodyAcc-mad()-Y</th>\n",
       "      <th>tBodyAcc-mad()-Z</th>\n",
       "      <th>tBodyAcc-max()-X</th>\n",
       "      <th>...</th>\n",
       "      <th>fBodyBodyGyroJerkMag-kurtosis()</th>\n",
       "      <th>angle(tBodyAccMean,gravity)</th>\n",
       "      <th>angle(tBodyAccJerkMean),gravityMean)</th>\n",
       "      <th>angle(tBodyGyroMean,gravityMean)</th>\n",
       "      <th>angle(tBodyGyroJerkMean,gravityMean)</th>\n",
       "      <th>angle(X,gravityMean)</th>\n",
       "      <th>angle(Y,gravityMean)</th>\n",
       "      <th>angle(Z,gravityMean)</th>\n",
       "      <th>subject</th>\n",
       "      <th>Activity</th>\n",
       "    </tr>\n",
       "  </thead>\n",
       "  <tbody>\n",
       "    <tr>\n",
       "      <th>0</th>\n",
       "      <td>0.288585</td>\n",
       "      <td>-0.020294</td>\n",
       "      <td>-0.132905</td>\n",
       "      <td>-0.995279</td>\n",
       "      <td>-0.983111</td>\n",
       "      <td>-0.913526</td>\n",
       "      <td>-0.995112</td>\n",
       "      <td>-0.983185</td>\n",
       "      <td>-0.923527</td>\n",
       "      <td>-0.934724</td>\n",
       "      <td>...</td>\n",
       "      <td>-0.710304</td>\n",
       "      <td>-0.112754</td>\n",
       "      <td>0.030400</td>\n",
       "      <td>-0.464761</td>\n",
       "      <td>-0.018446</td>\n",
       "      <td>-0.841247</td>\n",
       "      <td>0.179941</td>\n",
       "      <td>-0.058627</td>\n",
       "      <td>1</td>\n",
       "      <td>STANDING</td>\n",
       "    </tr>\n",
       "    <tr>\n",
       "      <th>1</th>\n",
       "      <td>0.278419</td>\n",
       "      <td>-0.016411</td>\n",
       "      <td>-0.123520</td>\n",
       "      <td>-0.998245</td>\n",
       "      <td>-0.975300</td>\n",
       "      <td>-0.960322</td>\n",
       "      <td>-0.998807</td>\n",
       "      <td>-0.974914</td>\n",
       "      <td>-0.957686</td>\n",
       "      <td>-0.943068</td>\n",
       "      <td>...</td>\n",
       "      <td>-0.861499</td>\n",
       "      <td>0.053477</td>\n",
       "      <td>-0.007435</td>\n",
       "      <td>-0.732626</td>\n",
       "      <td>0.703511</td>\n",
       "      <td>-0.844788</td>\n",
       "      <td>0.180289</td>\n",
       "      <td>-0.054317</td>\n",
       "      <td>1</td>\n",
       "      <td>STANDING</td>\n",
       "    </tr>\n",
       "    <tr>\n",
       "      <th>2</th>\n",
       "      <td>0.279653</td>\n",
       "      <td>-0.019467</td>\n",
       "      <td>-0.113462</td>\n",
       "      <td>-0.995380</td>\n",
       "      <td>-0.967187</td>\n",
       "      <td>-0.978944</td>\n",
       "      <td>-0.996520</td>\n",
       "      <td>-0.963668</td>\n",
       "      <td>-0.977469</td>\n",
       "      <td>-0.938692</td>\n",
       "      <td>...</td>\n",
       "      <td>-0.760104</td>\n",
       "      <td>-0.118559</td>\n",
       "      <td>0.177899</td>\n",
       "      <td>0.100699</td>\n",
       "      <td>0.808529</td>\n",
       "      <td>-0.848933</td>\n",
       "      <td>0.180637</td>\n",
       "      <td>-0.049118</td>\n",
       "      <td>1</td>\n",
       "      <td>STANDING</td>\n",
       "    </tr>\n",
       "    <tr>\n",
       "      <th>3</th>\n",
       "      <td>0.279174</td>\n",
       "      <td>-0.026201</td>\n",
       "      <td>-0.123283</td>\n",
       "      <td>-0.996091</td>\n",
       "      <td>-0.983403</td>\n",
       "      <td>-0.990675</td>\n",
       "      <td>-0.997099</td>\n",
       "      <td>-0.982750</td>\n",
       "      <td>-0.989302</td>\n",
       "      <td>-0.938692</td>\n",
       "      <td>...</td>\n",
       "      <td>-0.482845</td>\n",
       "      <td>-0.036788</td>\n",
       "      <td>-0.012892</td>\n",
       "      <td>0.640011</td>\n",
       "      <td>-0.485366</td>\n",
       "      <td>-0.848649</td>\n",
       "      <td>0.181935</td>\n",
       "      <td>-0.047663</td>\n",
       "      <td>1</td>\n",
       "      <td>STANDING</td>\n",
       "    </tr>\n",
       "    <tr>\n",
       "      <th>4</th>\n",
       "      <td>0.276629</td>\n",
       "      <td>-0.016570</td>\n",
       "      <td>-0.115362</td>\n",
       "      <td>-0.998139</td>\n",
       "      <td>-0.980817</td>\n",
       "      <td>-0.990482</td>\n",
       "      <td>-0.998321</td>\n",
       "      <td>-0.979672</td>\n",
       "      <td>-0.990441</td>\n",
       "      <td>-0.942469</td>\n",
       "      <td>...</td>\n",
       "      <td>-0.699205</td>\n",
       "      <td>0.123320</td>\n",
       "      <td>0.122542</td>\n",
       "      <td>0.693578</td>\n",
       "      <td>-0.615971</td>\n",
       "      <td>-0.847865</td>\n",
       "      <td>0.185151</td>\n",
       "      <td>-0.043892</td>\n",
       "      <td>1</td>\n",
       "      <td>STANDING</td>\n",
       "    </tr>\n",
       "    <tr>\n",
       "      <th>...</th>\n",
       "      <td>...</td>\n",
       "      <td>...</td>\n",
       "      <td>...</td>\n",
       "      <td>...</td>\n",
       "      <td>...</td>\n",
       "      <td>...</td>\n",
       "      <td>...</td>\n",
       "      <td>...</td>\n",
       "      <td>...</td>\n",
       "      <td>...</td>\n",
       "      <td>...</td>\n",
       "      <td>...</td>\n",
       "      <td>...</td>\n",
       "      <td>...</td>\n",
       "      <td>...</td>\n",
       "      <td>...</td>\n",
       "      <td>...</td>\n",
       "      <td>...</td>\n",
       "      <td>...</td>\n",
       "      <td>...</td>\n",
       "      <td>...</td>\n",
       "    </tr>\n",
       "    <tr>\n",
       "      <th>7347</th>\n",
       "      <td>0.299665</td>\n",
       "      <td>-0.057193</td>\n",
       "      <td>-0.181233</td>\n",
       "      <td>-0.195387</td>\n",
       "      <td>0.039905</td>\n",
       "      <td>0.077078</td>\n",
       "      <td>-0.282301</td>\n",
       "      <td>0.043616</td>\n",
       "      <td>0.060410</td>\n",
       "      <td>0.210795</td>\n",
       "      <td>...</td>\n",
       "      <td>-0.880324</td>\n",
       "      <td>-0.190437</td>\n",
       "      <td>0.829718</td>\n",
       "      <td>0.206972</td>\n",
       "      <td>-0.425619</td>\n",
       "      <td>-0.791883</td>\n",
       "      <td>0.238604</td>\n",
       "      <td>0.049819</td>\n",
       "      <td>30</td>\n",
       "      <td>WALKING_UPSTAIRS</td>\n",
       "    </tr>\n",
       "    <tr>\n",
       "      <th>7348</th>\n",
       "      <td>0.273853</td>\n",
       "      <td>-0.007749</td>\n",
       "      <td>-0.147468</td>\n",
       "      <td>-0.235309</td>\n",
       "      <td>0.004816</td>\n",
       "      <td>0.059280</td>\n",
       "      <td>-0.322552</td>\n",
       "      <td>-0.029456</td>\n",
       "      <td>0.080585</td>\n",
       "      <td>0.117440</td>\n",
       "      <td>...</td>\n",
       "      <td>-0.680744</td>\n",
       "      <td>0.064907</td>\n",
       "      <td>0.875679</td>\n",
       "      <td>-0.879033</td>\n",
       "      <td>0.400219</td>\n",
       "      <td>-0.771840</td>\n",
       "      <td>0.252676</td>\n",
       "      <td>0.050053</td>\n",
       "      <td>30</td>\n",
       "      <td>WALKING_UPSTAIRS</td>\n",
       "    </tr>\n",
       "    <tr>\n",
       "      <th>7349</th>\n",
       "      <td>0.273387</td>\n",
       "      <td>-0.017011</td>\n",
       "      <td>-0.045022</td>\n",
       "      <td>-0.218218</td>\n",
       "      <td>-0.103822</td>\n",
       "      <td>0.274533</td>\n",
       "      <td>-0.304515</td>\n",
       "      <td>-0.098913</td>\n",
       "      <td>0.332584</td>\n",
       "      <td>0.043999</td>\n",
       "      <td>...</td>\n",
       "      <td>-0.304029</td>\n",
       "      <td>0.052806</td>\n",
       "      <td>-0.266724</td>\n",
       "      <td>0.864404</td>\n",
       "      <td>0.701169</td>\n",
       "      <td>-0.779133</td>\n",
       "      <td>0.249145</td>\n",
       "      <td>0.040811</td>\n",
       "      <td>30</td>\n",
       "      <td>WALKING_UPSTAIRS</td>\n",
       "    </tr>\n",
       "    <tr>\n",
       "      <th>7350</th>\n",
       "      <td>0.289654</td>\n",
       "      <td>-0.018843</td>\n",
       "      <td>-0.158281</td>\n",
       "      <td>-0.219139</td>\n",
       "      <td>-0.111412</td>\n",
       "      <td>0.268893</td>\n",
       "      <td>-0.310487</td>\n",
       "      <td>-0.068200</td>\n",
       "      <td>0.319473</td>\n",
       "      <td>0.101702</td>\n",
       "      <td>...</td>\n",
       "      <td>-0.344314</td>\n",
       "      <td>-0.101360</td>\n",
       "      <td>0.700740</td>\n",
       "      <td>0.936674</td>\n",
       "      <td>-0.589479</td>\n",
       "      <td>-0.785181</td>\n",
       "      <td>0.246432</td>\n",
       "      <td>0.025339</td>\n",
       "      <td>30</td>\n",
       "      <td>WALKING_UPSTAIRS</td>\n",
       "    </tr>\n",
       "    <tr>\n",
       "      <th>7351</th>\n",
       "      <td>0.351503</td>\n",
       "      <td>-0.012423</td>\n",
       "      <td>-0.203867</td>\n",
       "      <td>-0.269270</td>\n",
       "      <td>-0.087212</td>\n",
       "      <td>0.177404</td>\n",
       "      <td>-0.377404</td>\n",
       "      <td>-0.038678</td>\n",
       "      <td>0.229430</td>\n",
       "      <td>0.269013</td>\n",
       "      <td>...</td>\n",
       "      <td>-0.740738</td>\n",
       "      <td>-0.280088</td>\n",
       "      <td>-0.007739</td>\n",
       "      <td>-0.056088</td>\n",
       "      <td>-0.616956</td>\n",
       "      <td>-0.783267</td>\n",
       "      <td>0.246809</td>\n",
       "      <td>0.036695</td>\n",
       "      <td>30</td>\n",
       "      <td>WALKING_UPSTAIRS</td>\n",
       "    </tr>\n",
       "  </tbody>\n",
       "</table>\n",
       "<p>7352 rows × 563 columns</p>\n",
       "</div>"
      ],
      "text/plain": [
       "      tBodyAcc-mean()-X  tBodyAcc-mean()-Y  tBodyAcc-mean()-Z  \\\n",
       "0              0.288585          -0.020294          -0.132905   \n",
       "1              0.278419          -0.016411          -0.123520   \n",
       "2              0.279653          -0.019467          -0.113462   \n",
       "3              0.279174          -0.026201          -0.123283   \n",
       "4              0.276629          -0.016570          -0.115362   \n",
       "...                 ...                ...                ...   \n",
       "7347           0.299665          -0.057193          -0.181233   \n",
       "7348           0.273853          -0.007749          -0.147468   \n",
       "7349           0.273387          -0.017011          -0.045022   \n",
       "7350           0.289654          -0.018843          -0.158281   \n",
       "7351           0.351503          -0.012423          -0.203867   \n",
       "\n",
       "      tBodyAcc-std()-X  tBodyAcc-std()-Y  tBodyAcc-std()-Z  tBodyAcc-mad()-X  \\\n",
       "0            -0.995279         -0.983111         -0.913526         -0.995112   \n",
       "1            -0.998245         -0.975300         -0.960322         -0.998807   \n",
       "2            -0.995380         -0.967187         -0.978944         -0.996520   \n",
       "3            -0.996091         -0.983403         -0.990675         -0.997099   \n",
       "4            -0.998139         -0.980817         -0.990482         -0.998321   \n",
       "...                ...               ...               ...               ...   \n",
       "7347         -0.195387          0.039905          0.077078         -0.282301   \n",
       "7348         -0.235309          0.004816          0.059280         -0.322552   \n",
       "7349         -0.218218         -0.103822          0.274533         -0.304515   \n",
       "7350         -0.219139         -0.111412          0.268893         -0.310487   \n",
       "7351         -0.269270         -0.087212          0.177404         -0.377404   \n",
       "\n",
       "      tBodyAcc-mad()-Y  tBodyAcc-mad()-Z  tBodyAcc-max()-X  ...  \\\n",
       "0            -0.983185         -0.923527         -0.934724  ...   \n",
       "1            -0.974914         -0.957686         -0.943068  ...   \n",
       "2            -0.963668         -0.977469         -0.938692  ...   \n",
       "3            -0.982750         -0.989302         -0.938692  ...   \n",
       "4            -0.979672         -0.990441         -0.942469  ...   \n",
       "...                ...               ...               ...  ...   \n",
       "7347          0.043616          0.060410          0.210795  ...   \n",
       "7348         -0.029456          0.080585          0.117440  ...   \n",
       "7349         -0.098913          0.332584          0.043999  ...   \n",
       "7350         -0.068200          0.319473          0.101702  ...   \n",
       "7351         -0.038678          0.229430          0.269013  ...   \n",
       "\n",
       "      fBodyBodyGyroJerkMag-kurtosis()  angle(tBodyAccMean,gravity)  \\\n",
       "0                           -0.710304                    -0.112754   \n",
       "1                           -0.861499                     0.053477   \n",
       "2                           -0.760104                    -0.118559   \n",
       "3                           -0.482845                    -0.036788   \n",
       "4                           -0.699205                     0.123320   \n",
       "...                               ...                          ...   \n",
       "7347                        -0.880324                    -0.190437   \n",
       "7348                        -0.680744                     0.064907   \n",
       "7349                        -0.304029                     0.052806   \n",
       "7350                        -0.344314                    -0.101360   \n",
       "7351                        -0.740738                    -0.280088   \n",
       "\n",
       "      angle(tBodyAccJerkMean),gravityMean)  angle(tBodyGyroMean,gravityMean)  \\\n",
       "0                                 0.030400                         -0.464761   \n",
       "1                                -0.007435                         -0.732626   \n",
       "2                                 0.177899                          0.100699   \n",
       "3                                -0.012892                          0.640011   \n",
       "4                                 0.122542                          0.693578   \n",
       "...                                    ...                               ...   \n",
       "7347                              0.829718                          0.206972   \n",
       "7348                              0.875679                         -0.879033   \n",
       "7349                             -0.266724                          0.864404   \n",
       "7350                              0.700740                          0.936674   \n",
       "7351                             -0.007739                         -0.056088   \n",
       "\n",
       "      angle(tBodyGyroJerkMean,gravityMean)  angle(X,gravityMean)  \\\n",
       "0                                -0.018446             -0.841247   \n",
       "1                                 0.703511             -0.844788   \n",
       "2                                 0.808529             -0.848933   \n",
       "3                                -0.485366             -0.848649   \n",
       "4                                -0.615971             -0.847865   \n",
       "...                                    ...                   ...   \n",
       "7347                             -0.425619             -0.791883   \n",
       "7348                              0.400219             -0.771840   \n",
       "7349                              0.701169             -0.779133   \n",
       "7350                             -0.589479             -0.785181   \n",
       "7351                             -0.616956             -0.783267   \n",
       "\n",
       "      angle(Y,gravityMean)  angle(Z,gravityMean)  subject          Activity  \n",
       "0                 0.179941             -0.058627        1          STANDING  \n",
       "1                 0.180289             -0.054317        1          STANDING  \n",
       "2                 0.180637             -0.049118        1          STANDING  \n",
       "3                 0.181935             -0.047663        1          STANDING  \n",
       "4                 0.185151             -0.043892        1          STANDING  \n",
       "...                    ...                   ...      ...               ...  \n",
       "7347              0.238604              0.049819       30  WALKING_UPSTAIRS  \n",
       "7348              0.252676              0.050053       30  WALKING_UPSTAIRS  \n",
       "7349              0.249145              0.040811       30  WALKING_UPSTAIRS  \n",
       "7350              0.246432              0.025339       30  WALKING_UPSTAIRS  \n",
       "7351              0.246809              0.036695       30  WALKING_UPSTAIRS  \n",
       "\n",
       "[7352 rows x 563 columns]"
      ]
     },
     "execution_count": 1,
     "metadata": {},
     "output_type": "execute_result"
    }
   ],
   "source": [
    "import numpy as np\n",
    "import pandas as pd\n",
    "\n",
    "df = pd.read_csv(\"csv/train.csv\")\n",
    "df"
   ]
  },
  {
   "cell_type": "code",
   "execution_count": 2,
   "id": "34ce8df5",
   "metadata": {
    "scrolled": false
   },
   "outputs": [
    {
     "name": "stdout",
     "output_type": "stream",
     "text": [
      "<class 'pandas.core.frame.DataFrame'>\n",
      "RangeIndex: 7352 entries, 0 to 7351\n",
      "Columns: 563 entries, tBodyAcc-mean()-X to Activity\n",
      "dtypes: float64(561), int64(1), object(1)\n",
      "memory usage: 31.6+ MB\n"
     ]
    }
   ],
   "source": [
    "df.info()"
   ]
  },
  {
   "cell_type": "code",
   "execution_count": 3,
   "id": "f300b471",
   "metadata": {},
   "outputs": [],
   "source": [
    "from sklearn.utils import shuffle\n",
    "df = shuffle(df)"
   ]
  },
  {
   "cell_type": "code",
   "execution_count": 4,
   "id": "a692cbff",
   "metadata": {},
   "outputs": [
    {
     "data": {
      "text/html": [
       "<div>\n",
       "<style scoped>\n",
       "    .dataframe tbody tr th:only-of-type {\n",
       "        vertical-align: middle;\n",
       "    }\n",
       "\n",
       "    .dataframe tbody tr th {\n",
       "        vertical-align: top;\n",
       "    }\n",
       "\n",
       "    .dataframe thead th {\n",
       "        text-align: right;\n",
       "    }\n",
       "</style>\n",
       "<table border=\"1\" class=\"dataframe\">\n",
       "  <thead>\n",
       "    <tr style=\"text-align: right;\">\n",
       "      <th></th>\n",
       "      <th>tBodyAcc-mean()-X</th>\n",
       "      <th>tBodyAcc-mean()-Y</th>\n",
       "      <th>tBodyAcc-mean()-Z</th>\n",
       "      <th>tBodyAcc-std()-X</th>\n",
       "      <th>tBodyAcc-std()-Y</th>\n",
       "      <th>tBodyAcc-std()-Z</th>\n",
       "      <th>tBodyAcc-mad()-X</th>\n",
       "      <th>tBodyAcc-mad()-Y</th>\n",
       "      <th>tBodyAcc-mad()-Z</th>\n",
       "      <th>tBodyAcc-max()-X</th>\n",
       "      <th>...</th>\n",
       "      <th>fBodyBodyGyroJerkMag-kurtosis()</th>\n",
       "      <th>angle(tBodyAccMean,gravity)</th>\n",
       "      <th>angle(tBodyAccJerkMean),gravityMean)</th>\n",
       "      <th>angle(tBodyGyroMean,gravityMean)</th>\n",
       "      <th>angle(tBodyGyroJerkMean,gravityMean)</th>\n",
       "      <th>angle(X,gravityMean)</th>\n",
       "      <th>angle(Y,gravityMean)</th>\n",
       "      <th>angle(Z,gravityMean)</th>\n",
       "      <th>subject</th>\n",
       "      <th>Activity</th>\n",
       "    </tr>\n",
       "  </thead>\n",
       "  <tbody>\n",
       "    <tr>\n",
       "      <th>5542</th>\n",
       "      <td>0.277840</td>\n",
       "      <td>-0.017918</td>\n",
       "      <td>-0.111828</td>\n",
       "      <td>-0.995645</td>\n",
       "      <td>-0.993756</td>\n",
       "      <td>-0.977473</td>\n",
       "      <td>-0.996194</td>\n",
       "      <td>-0.993720</td>\n",
       "      <td>-0.975025</td>\n",
       "      <td>-0.942488</td>\n",
       "      <td>...</td>\n",
       "      <td>-0.825305</td>\n",
       "      <td>0.088311</td>\n",
       "      <td>-0.324053</td>\n",
       "      <td>-0.123347</td>\n",
       "      <td>0.269920</td>\n",
       "      <td>-0.814016</td>\n",
       "      <td>0.103118</td>\n",
       "      <td>-0.117551</td>\n",
       "      <td>26</td>\n",
       "      <td>SITTING</td>\n",
       "    </tr>\n",
       "    <tr>\n",
       "      <th>3271</th>\n",
       "      <td>0.286987</td>\n",
       "      <td>-0.009430</td>\n",
       "      <td>-0.098485</td>\n",
       "      <td>-0.996612</td>\n",
       "      <td>-0.981827</td>\n",
       "      <td>-0.986981</td>\n",
       "      <td>-0.996831</td>\n",
       "      <td>-0.981238</td>\n",
       "      <td>-0.987968</td>\n",
       "      <td>-0.938719</td>\n",
       "      <td>...</td>\n",
       "      <td>-0.760900</td>\n",
       "      <td>0.018079</td>\n",
       "      <td>0.411057</td>\n",
       "      <td>0.888819</td>\n",
       "      <td>-0.885026</td>\n",
       "      <td>-0.590928</td>\n",
       "      <td>0.228244</td>\n",
       "      <td>0.276449</td>\n",
       "      <td>17</td>\n",
       "      <td>STANDING</td>\n",
       "    </tr>\n",
       "    <tr>\n",
       "      <th>360</th>\n",
       "      <td>0.276053</td>\n",
       "      <td>-0.015409</td>\n",
       "      <td>-0.131719</td>\n",
       "      <td>-0.957768</td>\n",
       "      <td>-0.878283</td>\n",
       "      <td>-0.874007</td>\n",
       "      <td>-0.966534</td>\n",
       "      <td>-0.883526</td>\n",
       "      <td>-0.863435</td>\n",
       "      <td>-0.900447</td>\n",
       "      <td>...</td>\n",
       "      <td>-0.298553</td>\n",
       "      <td>0.127958</td>\n",
       "      <td>0.160220</td>\n",
       "      <td>-0.939252</td>\n",
       "      <td>-0.028557</td>\n",
       "      <td>-0.714009</td>\n",
       "      <td>0.275669</td>\n",
       "      <td>-0.070833</td>\n",
       "      <td>3</td>\n",
       "      <td>STANDING</td>\n",
       "    </tr>\n",
       "    <tr>\n",
       "      <th>4527</th>\n",
       "      <td>0.132633</td>\n",
       "      <td>-0.056435</td>\n",
       "      <td>-0.248956</td>\n",
       "      <td>0.122696</td>\n",
       "      <td>0.345314</td>\n",
       "      <td>-0.253909</td>\n",
       "      <td>0.072395</td>\n",
       "      <td>0.350815</td>\n",
       "      <td>-0.283163</td>\n",
       "      <td>0.337778</td>\n",
       "      <td>...</td>\n",
       "      <td>-0.594570</td>\n",
       "      <td>0.268471</td>\n",
       "      <td>-0.394323</td>\n",
       "      <td>-0.909823</td>\n",
       "      <td>0.538977</td>\n",
       "      <td>-0.718453</td>\n",
       "      <td>0.292567</td>\n",
       "      <td>0.011252</td>\n",
       "      <td>22</td>\n",
       "      <td>WALKING_UPSTAIRS</td>\n",
       "    </tr>\n",
       "    <tr>\n",
       "      <th>5524</th>\n",
       "      <td>0.270431</td>\n",
       "      <td>-0.017142</td>\n",
       "      <td>-0.102501</td>\n",
       "      <td>-0.996208</td>\n",
       "      <td>-0.997446</td>\n",
       "      <td>-0.991789</td>\n",
       "      <td>-0.996763</td>\n",
       "      <td>-0.996878</td>\n",
       "      <td>-0.991797</td>\n",
       "      <td>-0.939951</td>\n",
       "      <td>...</td>\n",
       "      <td>-0.525245</td>\n",
       "      <td>-0.033310</td>\n",
       "      <td>0.062593</td>\n",
       "      <td>0.125413</td>\n",
       "      <td>0.049282</td>\n",
       "      <td>-0.082511</td>\n",
       "      <td>-0.321670</td>\n",
       "      <td>-0.408151</td>\n",
       "      <td>26</td>\n",
       "      <td>SITTING</td>\n",
       "    </tr>\n",
       "    <tr>\n",
       "      <th>...</th>\n",
       "      <td>...</td>\n",
       "      <td>...</td>\n",
       "      <td>...</td>\n",
       "      <td>...</td>\n",
       "      <td>...</td>\n",
       "      <td>...</td>\n",
       "      <td>...</td>\n",
       "      <td>...</td>\n",
       "      <td>...</td>\n",
       "      <td>...</td>\n",
       "      <td>...</td>\n",
       "      <td>...</td>\n",
       "      <td>...</td>\n",
       "      <td>...</td>\n",
       "      <td>...</td>\n",
       "      <td>...</td>\n",
       "      <td>...</td>\n",
       "      <td>...</td>\n",
       "      <td>...</td>\n",
       "      <td>...</td>\n",
       "      <td>...</td>\n",
       "    </tr>\n",
       "    <tr>\n",
       "      <th>3143</th>\n",
       "      <td>0.278094</td>\n",
       "      <td>-0.019110</td>\n",
       "      <td>-0.111255</td>\n",
       "      <td>-0.955781</td>\n",
       "      <td>-0.953467</td>\n",
       "      <td>-0.976319</td>\n",
       "      <td>-0.953478</td>\n",
       "      <td>-0.947600</td>\n",
       "      <td>-0.974223</td>\n",
       "      <td>-0.916897</td>\n",
       "      <td>...</td>\n",
       "      <td>-0.828059</td>\n",
       "      <td>0.185925</td>\n",
       "      <td>0.062161</td>\n",
       "      <td>0.181766</td>\n",
       "      <td>0.063081</td>\n",
       "      <td>0.513427</td>\n",
       "      <td>0.422924</td>\n",
       "      <td>-0.782002</td>\n",
       "      <td>16</td>\n",
       "      <td>LAYING</td>\n",
       "    </tr>\n",
       "    <tr>\n",
       "      <th>4608</th>\n",
       "      <td>0.266606</td>\n",
       "      <td>-0.019494</td>\n",
       "      <td>-0.107841</td>\n",
       "      <td>-0.992436</td>\n",
       "      <td>-0.993846</td>\n",
       "      <td>-0.996191</td>\n",
       "      <td>-0.994043</td>\n",
       "      <td>-0.992985</td>\n",
       "      <td>-0.997009</td>\n",
       "      <td>-0.932105</td>\n",
       "      <td>...</td>\n",
       "      <td>-0.834955</td>\n",
       "      <td>0.023997</td>\n",
       "      <td>-0.908555</td>\n",
       "      <td>0.095539</td>\n",
       "      <td>0.236185</td>\n",
       "      <td>0.739129</td>\n",
       "      <td>-0.216902</td>\n",
       "      <td>-0.782459</td>\n",
       "      <td>22</td>\n",
       "      <td>LAYING</td>\n",
       "    </tr>\n",
       "    <tr>\n",
       "      <th>237</th>\n",
       "      <td>-0.066239</td>\n",
       "      <td>0.079229</td>\n",
       "      <td>-1.000000</td>\n",
       "      <td>-0.683779</td>\n",
       "      <td>-0.538513</td>\n",
       "      <td>-0.085060</td>\n",
       "      <td>-0.687890</td>\n",
       "      <td>-0.607355</td>\n",
       "      <td>-0.027535</td>\n",
       "      <td>-0.671284</td>\n",
       "      <td>...</td>\n",
       "      <td>-0.445598</td>\n",
       "      <td>0.050623</td>\n",
       "      <td>0.283832</td>\n",
       "      <td>-0.483059</td>\n",
       "      <td>-0.371683</td>\n",
       "      <td>0.269545</td>\n",
       "      <td>-0.754285</td>\n",
       "      <td>-0.097477</td>\n",
       "      <td>1</td>\n",
       "      <td>LAYING</td>\n",
       "    </tr>\n",
       "    <tr>\n",
       "      <th>1302</th>\n",
       "      <td>0.286715</td>\n",
       "      <td>0.000756</td>\n",
       "      <td>-0.062712</td>\n",
       "      <td>-0.017612</td>\n",
       "      <td>0.200435</td>\n",
       "      <td>-0.207874</td>\n",
       "      <td>-0.065327</td>\n",
       "      <td>0.154043</td>\n",
       "      <td>-0.201844</td>\n",
       "      <td>0.126121</td>\n",
       "      <td>...</td>\n",
       "      <td>-0.380916</td>\n",
       "      <td>0.075615</td>\n",
       "      <td>0.941376</td>\n",
       "      <td>-0.934475</td>\n",
       "      <td>0.434850</td>\n",
       "      <td>-0.659919</td>\n",
       "      <td>0.331201</td>\n",
       "      <td>0.047634</td>\n",
       "      <td>6</td>\n",
       "      <td>WALKING_UPSTAIRS</td>\n",
       "    </tr>\n",
       "    <tr>\n",
       "      <th>2307</th>\n",
       "      <td>0.274016</td>\n",
       "      <td>-0.051143</td>\n",
       "      <td>-0.142694</td>\n",
       "      <td>-0.449426</td>\n",
       "      <td>-0.094656</td>\n",
       "      <td>0.000189</td>\n",
       "      <td>-0.472406</td>\n",
       "      <td>-0.099923</td>\n",
       "      <td>-0.020736</td>\n",
       "      <td>-0.239664</td>\n",
       "      <td>...</td>\n",
       "      <td>-0.542834</td>\n",
       "      <td>-0.215645</td>\n",
       "      <td>0.427716</td>\n",
       "      <td>-0.366298</td>\n",
       "      <td>0.136340</td>\n",
       "      <td>-0.562737</td>\n",
       "      <td>0.242333</td>\n",
       "      <td>0.290551</td>\n",
       "      <td>14</td>\n",
       "      <td>WALKING</td>\n",
       "    </tr>\n",
       "  </tbody>\n",
       "</table>\n",
       "<p>7352 rows × 563 columns</p>\n",
       "</div>"
      ],
      "text/plain": [
       "      tBodyAcc-mean()-X  tBodyAcc-mean()-Y  tBodyAcc-mean()-Z  \\\n",
       "5542           0.277840          -0.017918          -0.111828   \n",
       "3271           0.286987          -0.009430          -0.098485   \n",
       "360            0.276053          -0.015409          -0.131719   \n",
       "4527           0.132633          -0.056435          -0.248956   \n",
       "5524           0.270431          -0.017142          -0.102501   \n",
       "...                 ...                ...                ...   \n",
       "3143           0.278094          -0.019110          -0.111255   \n",
       "4608           0.266606          -0.019494          -0.107841   \n",
       "237           -0.066239           0.079229          -1.000000   \n",
       "1302           0.286715           0.000756          -0.062712   \n",
       "2307           0.274016          -0.051143          -0.142694   \n",
       "\n",
       "      tBodyAcc-std()-X  tBodyAcc-std()-Y  tBodyAcc-std()-Z  tBodyAcc-mad()-X  \\\n",
       "5542         -0.995645         -0.993756         -0.977473         -0.996194   \n",
       "3271         -0.996612         -0.981827         -0.986981         -0.996831   \n",
       "360          -0.957768         -0.878283         -0.874007         -0.966534   \n",
       "4527          0.122696          0.345314         -0.253909          0.072395   \n",
       "5524         -0.996208         -0.997446         -0.991789         -0.996763   \n",
       "...                ...               ...               ...               ...   \n",
       "3143         -0.955781         -0.953467         -0.976319         -0.953478   \n",
       "4608         -0.992436         -0.993846         -0.996191         -0.994043   \n",
       "237          -0.683779         -0.538513         -0.085060         -0.687890   \n",
       "1302         -0.017612          0.200435         -0.207874         -0.065327   \n",
       "2307         -0.449426         -0.094656          0.000189         -0.472406   \n",
       "\n",
       "      tBodyAcc-mad()-Y  tBodyAcc-mad()-Z  tBodyAcc-max()-X  ...  \\\n",
       "5542         -0.993720         -0.975025         -0.942488  ...   \n",
       "3271         -0.981238         -0.987968         -0.938719  ...   \n",
       "360          -0.883526         -0.863435         -0.900447  ...   \n",
       "4527          0.350815         -0.283163          0.337778  ...   \n",
       "5524         -0.996878         -0.991797         -0.939951  ...   \n",
       "...                ...               ...               ...  ...   \n",
       "3143         -0.947600         -0.974223         -0.916897  ...   \n",
       "4608         -0.992985         -0.997009         -0.932105  ...   \n",
       "237          -0.607355         -0.027535         -0.671284  ...   \n",
       "1302          0.154043         -0.201844          0.126121  ...   \n",
       "2307         -0.099923         -0.020736         -0.239664  ...   \n",
       "\n",
       "      fBodyBodyGyroJerkMag-kurtosis()  angle(tBodyAccMean,gravity)  \\\n",
       "5542                        -0.825305                     0.088311   \n",
       "3271                        -0.760900                     0.018079   \n",
       "360                         -0.298553                     0.127958   \n",
       "4527                        -0.594570                     0.268471   \n",
       "5524                        -0.525245                    -0.033310   \n",
       "...                               ...                          ...   \n",
       "3143                        -0.828059                     0.185925   \n",
       "4608                        -0.834955                     0.023997   \n",
       "237                         -0.445598                     0.050623   \n",
       "1302                        -0.380916                     0.075615   \n",
       "2307                        -0.542834                    -0.215645   \n",
       "\n",
       "      angle(tBodyAccJerkMean),gravityMean)  angle(tBodyGyroMean,gravityMean)  \\\n",
       "5542                             -0.324053                         -0.123347   \n",
       "3271                              0.411057                          0.888819   \n",
       "360                               0.160220                         -0.939252   \n",
       "4527                             -0.394323                         -0.909823   \n",
       "5524                              0.062593                          0.125413   \n",
       "...                                    ...                               ...   \n",
       "3143                              0.062161                          0.181766   \n",
       "4608                             -0.908555                          0.095539   \n",
       "237                               0.283832                         -0.483059   \n",
       "1302                              0.941376                         -0.934475   \n",
       "2307                              0.427716                         -0.366298   \n",
       "\n",
       "      angle(tBodyGyroJerkMean,gravityMean)  angle(X,gravityMean)  \\\n",
       "5542                              0.269920             -0.814016   \n",
       "3271                             -0.885026             -0.590928   \n",
       "360                              -0.028557             -0.714009   \n",
       "4527                              0.538977             -0.718453   \n",
       "5524                              0.049282             -0.082511   \n",
       "...                                    ...                   ...   \n",
       "3143                              0.063081              0.513427   \n",
       "4608                              0.236185              0.739129   \n",
       "237                              -0.371683              0.269545   \n",
       "1302                              0.434850             -0.659919   \n",
       "2307                              0.136340             -0.562737   \n",
       "\n",
       "      angle(Y,gravityMean)  angle(Z,gravityMean)  subject          Activity  \n",
       "5542              0.103118             -0.117551       26           SITTING  \n",
       "3271              0.228244              0.276449       17          STANDING  \n",
       "360               0.275669             -0.070833        3          STANDING  \n",
       "4527              0.292567              0.011252       22  WALKING_UPSTAIRS  \n",
       "5524             -0.321670             -0.408151       26           SITTING  \n",
       "...                    ...                   ...      ...               ...  \n",
       "3143              0.422924             -0.782002       16            LAYING  \n",
       "4608             -0.216902             -0.782459       22            LAYING  \n",
       "237              -0.754285             -0.097477        1            LAYING  \n",
       "1302              0.331201              0.047634        6  WALKING_UPSTAIRS  \n",
       "2307              0.242333              0.290551       14           WALKING  \n",
       "\n",
       "[7352 rows x 563 columns]"
      ]
     },
     "execution_count": 4,
     "metadata": {},
     "output_type": "execute_result"
    }
   ],
   "source": [
    "df"
   ]
  },
  {
   "cell_type": "code",
   "execution_count": 4,
   "id": "6247693f",
   "metadata": {},
   "outputs": [],
   "source": [
    "from sklearn.preprocessing import LabelEncoder\n",
    "\n",
    "df_cat = df['Activity']\n",
    "encoder = LabelEncoder()\n",
    "encoder.fit(df_cat)\n",
    "df_encoded = encoder.transform(df_cat)"
   ]
  },
  {
   "cell_type": "code",
   "execution_count": 5,
   "id": "b6f69d36",
   "metadata": {
    "scrolled": false
   },
   "outputs": [
    {
     "data": {
      "text/plain": [
       "3852    1\n",
       "548     2\n",
       "3879    0\n",
       "6388    3\n",
       "3655    1\n",
       "       ..\n",
       "3001    4\n",
       "1950    1\n",
       "2522    5\n",
       "2808    3\n",
       "2358    5\n",
       "Name: Activity, Length: 7352, dtype: int32"
      ]
     },
     "execution_count": 5,
     "metadata": {},
     "output_type": "execute_result"
    }
   ],
   "source": [
    "df['Activity'] = df_encoded\n",
    "df['Activity']"
   ]
  },
  {
   "cell_type": "code",
   "execution_count": 6,
   "id": "edef0cbb",
   "metadata": {},
   "outputs": [],
   "source": [
    "X = df.drop(['subject', 'Activity'], axis=1)\n",
    "y = df['Activity']"
   ]
  },
  {
   "cell_type": "markdown",
   "id": "5db9ebfd",
   "metadata": {},
   "source": [
    "## ExtraTreesClassifier"
   ]
  },
  {
   "cell_type": "code",
   "execution_count": 8,
   "id": "a3dbde00",
   "metadata": {},
   "outputs": [
    {
     "data": {
      "text/plain": [
       "ExtraTreesClassifier(random_state=42)"
      ]
     },
     "execution_count": 8,
     "metadata": {},
     "output_type": "execute_result"
    }
   ],
   "source": [
    "from sklearn.ensemble import ExtraTreesClassifier\n",
    "\n",
    "extra_clf = ExtraTreesClassifier(random_state=42)\n",
    "extra_clf.fit(X, y)"
   ]
  },
  {
   "cell_type": "code",
   "execution_count": 9,
   "id": "0597dae1",
   "metadata": {},
   "outputs": [
    {
     "data": {
      "text/plain": [
       "array([0.99320652, 0.98641304, 0.98231293, 0.98911565, 0.99047619,\n",
       "       0.98639456, 0.98911565, 0.98095238, 0.99591837, 0.98503401])"
      ]
     },
     "execution_count": 9,
     "metadata": {},
     "output_type": "execute_result"
    }
   ],
   "source": [
    "from sklearn.model_selection import cross_val_score\n",
    "\n",
    "extra_score = cross_val_score(extra_clf, X, y, cv=10, scoring=\"accuracy\") # 교차검증\n",
    "extra_score"
   ]
  },
  {
   "cell_type": "code",
   "execution_count": 10,
   "id": "24b19db9",
   "metadata": {},
   "outputs": [
    {
     "data": {
      "text/plain": [
       "0.9878939293108548"
      ]
     },
     "execution_count": 10,
     "metadata": {},
     "output_type": "execute_result"
    }
   ],
   "source": [
    "extra_score.mean()"
   ]
  },
  {
   "cell_type": "markdown",
   "id": "4222972f",
   "metadata": {},
   "source": [
    "## Models"
   ]
  },
  {
   "cell_type": "code",
   "execution_count": 11,
   "id": "7b918c53",
   "metadata": {},
   "outputs": [],
   "source": [
    "from sklearn.linear_model import LogisticRegression\n",
    "from sklearn.ensemble import RandomForestClassifier\n",
    "from sklearn.svm import SVC\n",
    "from sklearn.ensemble import VotingClassifier\n",
    "from sklearn.ensemble import AdaBoostClassifier\n",
    "from sklearn.ensemble import GradientBoostingClassifier\n",
    "from sklearn.ensemble import BaggingClassifier\n",
    "from sklearn.tree import DecistionTreeClassifier\n",
    "\n",
    "log_clf = LogisticRegression(solver=\"liblinear\", random_state=42,max_iter=500)\n",
    "rnd_clf = RandomForestClassifier(n_estimators=100, random_state=42)\n",
    "svm_clf = SVC(kernel=\"linear\", probability=True, random_state=42)\n",
    "ada_clf = AdaBoostClassifier(RandomForestClassifier(random_state=42))\n",
    "de_ada_clf = AdaBoostClassifier(DecistiongTreeClassifier(random_state=42))\n",
    "gbrt_clf = GradientBoostingClassifier(random_state=42)\n",
    "bag_clf = BaggingClassifier(\n",
    "    RandomForestClassifier(random_state=42), bootstrap=False, random_state=42)"
   ]
  },
  {
   "cell_type": "code",
   "execution_count": 5,
   "id": "2bcda1de",
   "metadata": {},
   "outputs": [],
   "source": [
    "def display_scores(scores):\n",
    "    print(\"Scores:\", scores)\n",
    "    print(\"Mean:\", scores.mean())\n",
    "    print(\"Standard deviation\", scores.std())"
   ]
  },
  {
   "cell_type": "code",
   "execution_count": 13,
   "id": "7e3bdb95",
   "metadata": {},
   "outputs": [
    {
     "data": {
      "text/plain": [
       "BaggingClassifier(base_estimator=RandomForestClassifier(random_state=42),\n",
       "                  bootstrap=False, random_state=42)"
      ]
     },
     "execution_count": 13,
     "metadata": {},
     "output_type": "execute_result"
    }
   ],
   "source": [
    "log_clf.fit(X, y)\n",
    "rnd_clf.fit(X, y)\n",
    "svm_clf.fit(X, y)\n",
    "ada_clf.fit(X, y)\n",
    "gbrt_clf.fit(X, y)\n",
    "bag_clf.fit(X, y)"
   ]
  },
  {
   "cell_type": "code",
   "execution_count": 14,
   "id": "ef769b54",
   "metadata": {},
   "outputs": [
    {
     "data": {
      "text/plain": [
       "array([0.98913043, 0.98097826, 0.99183673, 0.98639456, 0.9877551 ,\n",
       "       0.98095238, 0.9877551 , 0.98503401, 0.9877551 , 0.98367347])"
      ]
     },
     "execution_count": 14,
     "metadata": {},
     "output_type": "execute_result"
    }
   ],
   "source": [
    "log_score = cross_val_score(log_clf, X, y, cv=10, scoring=\"accuracy\")\n",
    "display_scores(log_score)"
   ]
  },
  {
   "cell_type": "code",
   "execution_count": 16,
   "id": "2cf59eb3",
   "metadata": {},
   "outputs": [
    {
     "data": {
      "text/plain": [
       "array([0.98641304, 0.98777174, 0.98095238, 0.97959184, 0.98095238,\n",
       "       0.98639456, 0.98367347, 0.98367347, 0.98503401, 0.97823129])"
      ]
     },
     "execution_count": 16,
     "metadata": {},
     "output_type": "execute_result"
    }
   ],
   "source": [
    "rnd_score = cross_val_score(rnd_clf, X, y, cv=10, scoring=\"accuracy\")\n",
    "display_scores(rnd_score)"
   ]
  },
  {
   "cell_type": "code",
   "execution_count": 18,
   "id": "b02e50dd",
   "metadata": {},
   "outputs": [
    {
     "data": {
      "text/plain": [
       "array([0.99048913, 0.98913043, 0.99183673, 0.98639456, 0.9877551 ,\n",
       "       0.9877551 , 0.9877551 , 0.9877551 , 0.9877551 , 0.99047619])"
      ]
     },
     "execution_count": 18,
     "metadata": {},
     "output_type": "execute_result"
    }
   ],
   "source": [
    "svm_score = cross_val_score(svm_clf, X, y, cv=10, scoring=\"accuracy\")\n",
    "display_scores(svm_score)"
   ]
  },
  {
   "cell_type": "code",
   "execution_count": 20,
   "id": "3101b679",
   "metadata": {},
   "outputs": [
    {
     "data": {
      "text/plain": [
       "array([0.98777174, 0.98641304, 0.97959184, 0.97959184, 0.97959184,\n",
       "       0.98639456, 0.98231293, 0.98231293, 0.9877551 , 0.97687075])"
      ]
     },
     "execution_count": 20,
     "metadata": {},
     "output_type": "execute_result"
    }
   ],
   "source": [
    "ada_clf_score = cross_val_score(ada_clf, X, y, cv=10, scoring=\"accuracy\")\n",
    "display_scores(ada_clf_score)"
   ]
  },
  {
   "cell_type": "code",
   "execution_count": 49,
   "id": "ed47e01d",
   "metadata": {},
   "outputs": [
    {
     "data": {
      "text/plain": [
       "AdaBoostClassifier(base_estimator=DecisionTreeClassifier(random_state=42))"
      ]
     },
     "execution_count": 49,
     "metadata": {},
     "output_type": "execute_result"
    }
   ],
   "source": [
    "from sklearn.tree import DecisionTreeClassifier\n",
    "de_ada_clf = AdaBoostClassifier(DecisionTreeClassifier(random_state=42), random_state=42)\n",
    "de_ada_clf.fit(X,y)"
   ]
  },
  {
   "cell_type": "code",
   "execution_count": 50,
   "id": "cd180b23",
   "metadata": {},
   "outputs": [
    {
     "data": {
      "text/plain": [
       "array([0.95516304, 0.91983696, 0.95238095, 0.93605442, 0.93741497,\n",
       "       0.95238095, 0.92517007, 0.94285714, 0.93605442, 0.95102041])"
      ]
     },
     "execution_count": 50,
     "metadata": {},
     "output_type": "execute_result"
    }
   ],
   "source": [
    "de_ada_clf_score = cross_val_score(de_ada_clf, X, y, cv=10, scoring=\"accuracy\")\n",
    "display_scores(de_ada_clf_score)"
   ]
  },
  {
   "cell_type": "code",
   "execution_count": 23,
   "id": "8eb0966e",
   "metadata": {},
   "outputs": [
    {
     "data": {
      "text/plain": [
       "ExtraTreesClassifier(n_estimators=50, random_state=42)"
      ]
     },
     "execution_count": 23,
     "metadata": {},
     "output_type": "execute_result"
    }
   ],
   "source": [
    "from sklearn.ensemble import ExtraTreesClassifier\n",
    "\n",
    "extra_trees_clf = ExtraTreesClassifier(n_estimators=50, random_state=42)\n",
    "extra_trees_clf.fit(X, y)"
   ]
  },
  {
   "cell_type": "code",
   "execution_count": 24,
   "id": "221f94fb",
   "metadata": {},
   "outputs": [
    {
     "data": {
      "text/plain": [
       "array([0.99048913, 0.98369565, 0.98639456, 0.9877551 , 0.98095238,\n",
       "       0.9877551 , 0.98639456, 0.98367347, 0.99183673, 0.98231293])"
      ]
     },
     "execution_count": 24,
     "metadata": {},
     "output_type": "execute_result"
    }
   ],
   "source": [
    "from sklearn.model_selection import cross_val_score\n",
    "\n",
    "extra_fold_score = cross_val_score(extra_trees_clf, X, y, cv=10, scoring=\"accuracy\")\n",
    "display_scores(extra_fold_score)"
   ]
  },
  {
   "cell_type": "markdown",
   "id": "7147b875",
   "metadata": {},
   "source": [
    "## Voting"
   ]
  },
  {
   "cell_type": "code",
   "execution_count": 26,
   "id": "eba2e1a6",
   "metadata": {},
   "outputs": [],
   "source": [
    "voting_clf = VotingClassifier(\n",
    "    estimators=[('lr', log_clf), ('rf', rnd_clf), ('svc', svm_clf)],\n",
    "    voting='hard')"
   ]
  },
  {
   "cell_type": "code",
   "execution_count": 27,
   "id": "25f0428c",
   "metadata": {},
   "outputs": [
    {
     "data": {
      "text/plain": [
       "VotingClassifier(estimators=[('lr',\n",
       "                              LogisticRegression(random_state=42,\n",
       "                                                 solver='liblinear')),\n",
       "                             ('rf', RandomForestClassifier(random_state=42)),\n",
       "                             ('svc',\n",
       "                              SVC(kernel='linear', probability=True,\n",
       "                                  random_state=42))])"
      ]
     },
     "execution_count": 27,
     "metadata": {},
     "output_type": "execute_result"
    }
   ],
   "source": [
    "voting_clf.fit(X, y)"
   ]
  },
  {
   "cell_type": "code",
   "execution_count": 28,
   "id": "5228a484",
   "metadata": {},
   "outputs": [
    {
     "data": {
      "text/plain": [
       "array([0.98913043, 0.98777174, 0.99183673, 0.9877551 , 0.99047619,\n",
       "       0.98639456, 0.99183673, 0.9877551 , 0.98911565, 0.9877551 ])"
      ]
     },
     "execution_count": 28,
     "metadata": {},
     "output_type": "execute_result"
    }
   ],
   "source": [
    "from sklearn.model_selection import cross_val_score\n",
    "\n",
    "voting_clf_score = cross_val_score(voting_clf, X, y, cv=10, scoring=\"accuracy\")\n",
    "display_scores(voting_clf_score)"
   ]
  },
  {
   "cell_type": "code",
   "execution_count": 6,
   "id": "a1c0b3c8",
   "metadata": {},
   "outputs": [
    {
     "ename": "NameError",
     "evalue": "name 'voting_clf_score' is not defined",
     "output_type": "error",
     "traceback": [
      "\u001b[1;31m---------------------------------------------------------------------------\u001b[0m",
      "\u001b[1;31mNameError\u001b[0m                                 Traceback (most recent call last)",
      "\u001b[1;32m<ipython-input-6-fd0eed65ce1e>\u001b[0m in \u001b[0;36m<module>\u001b[1;34m\u001b[0m\n\u001b[1;32m----> 1\u001b[1;33m \u001b[0mdisplay_scores\u001b[0m\u001b[1;33m(\u001b[0m\u001b[0mvoting_clf_score\u001b[0m\u001b[1;33m)\u001b[0m\u001b[1;33m\u001b[0m\u001b[1;33m\u001b[0m\u001b[0m\n\u001b[0m",
      "\u001b[1;31mNameError\u001b[0m: name 'voting_clf_score' is not defined"
     ]
    }
   ],
   "source": [
    "display_scores(voting_clf_score)"
   ]
  },
  {
   "cell_type": "code",
   "execution_count": 40,
   "id": "33eaa9c6",
   "metadata": {},
   "outputs": [
    {
     "data": {
      "text/plain": [
       "VotingClassifier(estimators=[('lr',\n",
       "                              LogisticRegression(max_iter=1000, random_state=42,\n",
       "                                                 solver='liblinear')),\n",
       "                             ('rf', RandomForestClassifier(random_state=42)),\n",
       "                             ('svc', SVC(probability=True, random_state=42))])"
      ]
     },
     "execution_count": 40,
     "metadata": {},
     "output_type": "execute_result"
    }
   ],
   "source": [
    "log_clf = LogisticRegression(solver=\"liblinear\", random_state=42,max_iter=1000)\n",
    "voting_clf1 = VotingClassifier(\n",
    "    estimators=[('lr', log_clf),('rf', rnd_clf), ('svc', svm_clf)],voting='hard')\n",
    "voting_clf1.fit(X, y)"
   ]
  },
  {
   "cell_type": "code",
   "execution_count": 41,
   "id": "5a5daae2",
   "metadata": {},
   "outputs": [
    {
     "data": {
      "text/plain": [
       "array([0.98777174, 0.98233696, 0.9877551 , 0.98503401, 0.98503401,\n",
       "       0.98095238, 0.98367347, 0.98367347, 0.98639456, 0.98231293])"
      ]
     },
     "execution_count": 41,
     "metadata": {},
     "output_type": "execute_result"
    }
   ],
   "source": [
    "from sklearn.model_selection import cross_val_score\n",
    "\n",
    "voting1_clf_score = cross_val_score(voting_clf1, X, y, cv=10, scoring=\"accuracy\")\n",
    "display_scores(voting1_clf_score)"
   ]
  },
  {
   "cell_type": "code",
   "execution_count": null,
   "id": "dacc9e33",
   "metadata": {},
   "outputs": [],
   "source": [
    "display_scores(voting_clf_score)"
   ]
  },
  {
   "cell_type": "markdown",
   "id": "370e3ff8",
   "metadata": {},
   "source": [
    "- LogisticRegression: 0.9861265158237208\n",
    "- RandomForestClassifier: 0.9823177314404022\n",
    "- SVC: 0.988710255841467\n",
    "- AdaBoostClassifier: 0.9805492088139603\n",
    "- GradientBoostingClassifier:0.9865341245193731 \n",
    "- BaggingClassifier: 0.9831340579710144\n",
    "\n",
    "### SVM의 결과가 제일 좋게 나왔음"
   ]
  },
  {
   "cell_type": "markdown",
   "id": "04834063",
   "metadata": {},
   "source": [
    "## 결과: 0.988710255841467 => 약 98.9%"
   ]
  },
  {
   "cell_type": "code",
   "execution_count": null,
   "id": "77e1fa1a",
   "metadata": {},
   "outputs": [],
   "source": []
  }
 ],
 "metadata": {
  "kernelspec": {
   "display_name": "Python 3",
   "language": "python",
   "name": "python3"
  },
  "language_info": {
   "codemirror_mode": {
    "name": "ipython",
    "version": 3
   },
   "file_extension": ".py",
   "mimetype": "text/x-python",
   "name": "python",
   "nbconvert_exporter": "python",
   "pygments_lexer": "ipython3",
   "version": "3.8.8"
  }
 },
 "nbformat": 4,
 "nbformat_minor": 5
}
